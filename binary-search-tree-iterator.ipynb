{
 "cells": [
  {
   "cell_type": "markdown",
   "metadata": {},
   "source": [
    "https://leetcode.com/problems/binary-search-tree-iterator/"
   ]
  },
  {
   "cell_type": "code",
   "execution_count": 1,
   "metadata": {},
   "outputs": [],
   "source": [
    "%load_ext memory_profiler"
   ]
  },
  {
   "cell_type": "code",
   "execution_count": 2,
   "metadata": {},
   "outputs": [],
   "source": [
    "class TreeNode:\n",
    "    def __init__(self, x):\n",
    "        self.val = x\n",
    "        self.left = None\n",
    "        self.right = None"
   ]
  },
  {
   "cell_type": "markdown",
   "metadata": {},
   "source": [
    "# Solution 1"
   ]
  },
  {
   "cell_type": "code",
   "execution_count": 3,
   "metadata": {},
   "outputs": [],
   "source": [
    "def bst_iterator(root):\n",
    "    \n",
    "    if not root:\n",
    "        raise StopIteration()\n",
    "    \n",
    "    if root.left:\n",
    "        for val in bst_iterator(root.left):\n",
    "            yield val\n",
    "    \n",
    "    yield root.val\n",
    "    \n",
    "    if root.right:\n",
    "        for val in bst_iterator(root.right):\n",
    "            yield val\n",
    "\n",
    "\n",
    "class BSTIterator:\n",
    "\n",
    "    def __init__(self, root):\n",
    "        self.iter = bst_iterator(root)\n",
    "        self._updateNext() \n",
    "        \n",
    "        \n",
    "    def _updateNext(self):\n",
    "        self._next = next(self.iter, None)\n",
    "    \n",
    "    \n",
    "    @property\n",
    "    def _hasNext(self):\n",
    "        return False if self._next is None else True\n",
    "        \n",
    "    \n",
    "    def next(self):\n",
    "        \"\"\"\n",
    "        @return the next smallest number\n",
    "        \"\"\"\n",
    "        val = self._next\n",
    "        self._updateNext() \n",
    "        return val\n",
    "        \n",
    "\n",
    "    def hasNext(self):\n",
    "        \"\"\"\n",
    "        @return whether we have a next smallest number\n",
    "        \"\"\"\n",
    "        return self._hasNext"
   ]
  },
  {
   "cell_type": "code",
   "execution_count": 11,
   "metadata": {},
   "outputs": [
    {
     "name": "stdout",
     "output_type": "stream",
     "text": [
      "False\n",
      "\n",
      "3\n",
      "7\n",
      "True\n",
      "9\n",
      "True\n",
      "15\n",
      "True\n",
      "20\n",
      "False\n",
      "\n"
     ]
    }
   ],
   "source": [
    "# Test 1\n",
    "root = TreeNode(None)\n",
    "\n",
    "iterator = BSTIterator(root)\n",
    "print(iterator.hasNext()) # return false\n",
    "print()\n",
    "\n",
    "# Test 2\n",
    "root = TreeNode(7)\n",
    "root.left = TreeNode(3)\n",
    "root.right = TreeNode(15)\n",
    "root.right.left = TreeNode(9)\n",
    "root.right.right = TreeNode(20)\n",
    "\n",
    "iterator = BSTIterator(root)\n",
    "print(iterator.next())    # return 3\n",
    "print(iterator.next())    # return 7\n",
    "print(iterator.hasNext()) # return true\n",
    "print(iterator.next())    # return 9\n",
    "print(iterator.hasNext()) # return true\n",
    "print(iterator.next())    # return 15\n",
    "print(iterator.hasNext()) # return true\n",
    "print(iterator.next())    # return 20\n",
    "print(iterator.hasNext()) # return false\n",
    "print()"
   ]
  },
  {
   "cell_type": "code",
   "execution_count": 23,
   "metadata": {
    "scrolled": true
   },
   "outputs": [
    {
     "name": "stdout",
     "output_type": "stream",
     "text": [
      "256 ns ± 3.14 ns per loop (mean ± std. dev. of 7 runs, 1000000 loops each)\n",
      "peak memory: 59.80 MiB, increment: 0.00 MiB\n"
     ]
    }
   ],
   "source": [
    "iterator = BSTIterator(root)\n",
    "%timeit while iterator.hasNext(): iterator.next()\n",
    "    \n",
    "iterator = BSTIterator(root)\n",
    "%memit while iterator.hasNext(): iterator.next()"
   ]
  },
  {
   "cell_type": "markdown",
   "metadata": {},
   "source": [
    "# Solution 2"
   ]
  },
  {
   "cell_type": "code",
   "execution_count": 47,
   "metadata": {},
   "outputs": [],
   "source": [
    "from itertools import chain\n",
    "\n",
    "def bst_iterator(root):\n",
    "    \n",
    "    if not root:\n",
    "        return iter([])\n",
    "    \n",
    "    return chain(bst_iterator(getattr(root, 'left', None)), \n",
    "                 iter([root.val]), \n",
    "                 bst_iterator(getattr(root, 'right', None)))\n",
    "\n",
    "\n",
    "class BSTIterator:\n",
    "\n",
    "    def __init__(self, root):\n",
    "        self.iter = bst_iterator(root)\n",
    "        self._updateNext() \n",
    "        \n",
    "        \n",
    "    def _updateNext(self):\n",
    "        self._next = next(self.iter, None)\n",
    "    \n",
    "    \n",
    "    @property\n",
    "    def _hasNext(self):\n",
    "        return False if self._next is None else True\n",
    "        \n",
    "    \n",
    "    def next(self):\n",
    "        \"\"\"\n",
    "        @return the next smallest number\n",
    "        \"\"\"\n",
    "        val = self._next\n",
    "        self._updateNext() \n",
    "        return val\n",
    "        \n",
    "\n",
    "    def hasNext(self):\n",
    "        \"\"\"\n",
    "        @return whether we have a next smallest number\n",
    "        \"\"\"\n",
    "        return self._hasNext"
   ]
  },
  {
   "cell_type": "code",
   "execution_count": 49,
   "metadata": {},
   "outputs": [
    {
     "name": "stdout",
     "output_type": "stream",
     "text": [
      "False\n",
      "\n",
      "3\n",
      "7\n",
      "True\n",
      "9\n",
      "True\n",
      "15\n",
      "True\n",
      "20\n",
      "False\n",
      "\n"
     ]
    }
   ],
   "source": [
    "# Test 1\n",
    "root = TreeNode(None)\n",
    "\n",
    "iterator = BSTIterator(root)\n",
    "print(iterator.hasNext()) # return false\n",
    "print()\n",
    "\n",
    "# Test 2\n",
    "root = TreeNode(7)\n",
    "root.left = TreeNode(3)\n",
    "root.right = TreeNode(15)\n",
    "root.right.left = TreeNode(9)\n",
    "root.right.right = TreeNode(20)\n",
    "\n",
    "iterator = BSTIterator(root)\n",
    "print(iterator.next())    # return 3\n",
    "print(iterator.next())    # return 7\n",
    "print(iterator.hasNext()) # return true\n",
    "print(iterator.next())    # return 9\n",
    "print(iterator.hasNext()) # return true\n",
    "print(iterator.next())    # return 15\n",
    "print(iterator.hasNext()) # return true\n",
    "print(iterator.next())    # return 20\n",
    "print(iterator.hasNext()) # return false\n",
    "print()"
   ]
  },
  {
   "cell_type": "code",
   "execution_count": 50,
   "metadata": {},
   "outputs": [
    {
     "name": "stdout",
     "output_type": "stream",
     "text": [
      "251 ns ± 7.13 ns per loop (mean ± std. dev. of 7 runs, 1000000 loops each)\n",
      "peak memory: 59.99 MiB, increment: 0.00 MiB\n"
     ]
    }
   ],
   "source": [
    "iterator = BSTIterator(root)\n",
    "%timeit while iterator.hasNext(): iterator.next()\n",
    "    \n",
    "iterator = BSTIterator(root)\n",
    "%memit while iterator.hasNext(): iterator.next()"
   ]
  }
 ],
 "metadata": {
  "kernelspec": {
   "display_name": "Python 3",
   "language": "python",
   "name": "python3"
  },
  "language_info": {
   "codemirror_mode": {
    "name": "ipython",
    "version": 3
   },
   "file_extension": ".py",
   "mimetype": "text/x-python",
   "name": "python",
   "nbconvert_exporter": "python",
   "pygments_lexer": "ipython3",
   "version": "3.6.8"
  }
 },
 "nbformat": 4,
 "nbformat_minor": 2
}
