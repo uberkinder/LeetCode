{
 "cells": [
  {
   "cell_type": "markdown",
   "metadata": {},
   "source": [
    "https://leetcode.com/problems/merge-k-sorted-lists/"
   ]
  },
  {
   "cell_type": "code",
   "execution_count": 40,
   "metadata": {},
   "outputs": [],
   "source": [
    "import numpy as np\n",
    "\n",
    "%load_ext memory_profiler\n",
    "\n",
    "class ListNode:\n",
    "    def __init__(self, x):\n",
    "        self.val = x\n",
    "        self.next = None\n",
    "        \n",
    "def to_linklist(nums):\n",
    "    head = ListNode(None)\n",
    "    node = head\n",
    "    for num in nums:\n",
    "        node.next = ListNode(num)\n",
    "        node = node.next\n",
    "    return head.next\n",
    "\n",
    "def from_linklist(node):\n",
    "    nums = []\n",
    "    while node:\n",
    "        nums.append(node.val)\n",
    "        node = node.next\n",
    "    return nums"
   ]
  },
  {
   "cell_type": "markdown",
   "metadata": {},
   "source": [
    "# Solution 1\n",
    "#### **Time:** 14%\n",
    "#### **Space:** 32%"
   ]
  },
  {
   "cell_type": "code",
   "execution_count": 39,
   "metadata": {},
   "outputs": [],
   "source": [
    "# Definition for singly-linked list.\n",
    "class ListNode:\n",
    "    def __init__(self, x):\n",
    "        self.val = x\n",
    "        self.next = None\n",
    "\n",
    "class Solution:\n",
    "        \n",
    "    def mergeKLists(self, lists):\n",
    "        \n",
    "        head = ListNode(None)\n",
    "        node = head\n",
    "        \n",
    "        # Prune lists\n",
    "        i = 0\n",
    "        while i < len(lists):\n",
    "            if not lists[i]: lists.pop(i)\n",
    "            else: i += 1\n",
    "        \n",
    "        # Main Loop\n",
    "        while lists:\n",
    "            \n",
    "            min_val = None\n",
    "            min_idx = None\n",
    "            \n",
    "            # Find next minimum\n",
    "            for i, l in enumerate(lists):\n",
    "                if min_val is None or l.val < min_val:\n",
    "                    min_val = l.val\n",
    "                    min_idx = i\n",
    "                    \n",
    "                    # Early stop condition\n",
    "                    if min_val == node.val: break\n",
    "                        \n",
    "            i = min_idx\n",
    "            lists[i] = lists[i].next\n",
    "            \n",
    "            # Prune used list\n",
    "            if not lists[i]: lists.pop(i)\n",
    "            \n",
    "            # Add value to list\n",
    "            node.next = ListNode(min_val)\n",
    "            node = node.next\n",
    "        \n",
    "        return head.next"
   ]
  },
  {
   "cell_type": "code",
   "execution_count": 116,
   "metadata": {},
   "outputs": [
    {
     "name": "stdout",
     "output_type": "stream",
     "text": [
      "[1, 3, 5, 7]\n",
      "[]\n",
      "[5, 8]\n",
      "[0, 4, 4, 9]\n",
      "\n",
      "[0, 1, 3, 4, 4, 5, 5, 7, 8, 9]\n"
     ]
    }
   ],
   "source": [
    "rstate = np.random.RandomState()\n",
    "nums_list = [sorted(rstate.randint(2, 10, size=rstate.randint(5)))\n",
    "             for _ in range(rstate.randint(2, 5))]\n",
    "\n",
    "for nums in nums_list:\n",
    "    print(nums)\n",
    "print()\n",
    "\n",
    "lists = [to_linklist(nums) for nums in nums_list]\n",
    "\n",
    "node = Solution().mergeKLists(lists)\n",
    "nums = from_linklist(node)\n",
    "print(nums)"
   ]
  },
  {
   "cell_type": "code",
   "execution_count": 119,
   "metadata": {},
   "outputs": [
    {
     "name": "stdout",
     "output_type": "stream",
     "text": [
      "960 ms ± 76.8 ms per loop (mean ± std. dev. of 7 runs, 1 loop each)\n",
      "peak memory: 462.11 MiB, increment: 35.17 MiB\n"
     ]
    }
   ],
   "source": [
    "SEED = 0\n",
    "MAX_VAL = 1000\n",
    "MAX_SIZE = 10000\n",
    "MAX_LISTS = 50\n",
    "\n",
    "%timeit Solution().mergeKLists([to_linklist(sorted(np.random.RandomState(SEED).randint(MAX_VAL, size=rstate.randint(MAX_SIZE)))) for _ in range(np.random.RandomState(SEED).randint(MAX_LISTS))])\n",
    "%memit Solution().mergeKLists([to_linklist(sorted(np.random.RandomState(SEED).randint(MAX_VAL, size=rstate.randint(MAX_SIZE)))) for _ in range(np.random.RandomState(SEED).randint(MAX_LISTS))])"
   ]
  },
  {
   "cell_type": "markdown",
   "metadata": {},
   "source": [
    "# Solution 2\n",
    "#### **Time:** 5%\n",
    "#### **Space:** 9%"
   ]
  },
  {
   "cell_type": "code",
   "execution_count": 147,
   "metadata": {},
   "outputs": [],
   "source": [
    "# Definition for singly-linked list.\n",
    "class ListNode:\n",
    "    def __init__(self, x):\n",
    "        self.val = x\n",
    "        self.next = None\n",
    "\n",
    "class Solution:\n",
    "        \n",
    "    def mergeKLists(self, lists):\n",
    "        \n",
    "        head = ListNode(None)\n",
    "        node = head\n",
    "        \n",
    "        # Prune lists\n",
    "        i = 0\n",
    "        while i < len(lists):\n",
    "            if not lists[i]: lists.pop(i)\n",
    "            else: i += 1\n",
    "        \n",
    "        # Main Loop\n",
    "        while lists:\n",
    "            \n",
    "            # Sort & put first\n",
    "            lists = sorted(lists, key=lambda x: x.val)\n",
    "            value = lists[0].val\n",
    "            \n",
    "            lists[0] = lists[0].next\n",
    "            if not lists[0]: lists.pop(0)\n",
    "            \n",
    "            # Add value to list\n",
    "            node.next = ListNode(value)\n",
    "            node = node.next\n",
    "        \n",
    "        return head.next"
   ]
  },
  {
   "cell_type": "code",
   "execution_count": 148,
   "metadata": {},
   "outputs": [
    {
     "name": "stdout",
     "output_type": "stream",
     "text": [
      "[2]\n",
      "[1, 7, 9]\n",
      "[1, 3, 3]\n",
      "[7]\n",
      "\n",
      "[1, 1, 2, 3, 3, 7, 7, 9]\n"
     ]
    }
   ],
   "source": [
    "rstate = np.random.RandomState()\n",
    "nums_list = [sorted(rstate.randint(2, 10, size=rstate.randint(5)))\n",
    "             for _ in range(rstate.randint(2, 5))]\n",
    "\n",
    "for nums in nums_list:\n",
    "    print(nums)\n",
    "print()\n",
    "\n",
    "lists = [to_linklist(nums) for nums in nums_list]\n",
    "\n",
    "node = Solution().mergeKLists(lists)\n",
    "nums = from_linklist(node)\n",
    "print(nums)"
   ]
  },
  {
   "cell_type": "code",
   "execution_count": 149,
   "metadata": {},
   "outputs": [
    {
     "name": "stdout",
     "output_type": "stream",
     "text": [
      "1.93 s ± 188 ms per loop (mean ± std. dev. of 7 runs, 1 loop each)\n",
      "peak memory: 495.38 MiB, increment: 67.18 MiB\n"
     ]
    }
   ],
   "source": [
    "SEED = 0\n",
    "MAX_VAL = 1000\n",
    "MAX_SIZE = 10000\n",
    "MAX_LISTS = 50\n",
    "\n",
    "%timeit Solution().mergeKLists([to_linklist(sorted(np.random.RandomState(SEED).randint(MAX_VAL, size=rstate.randint(MAX_SIZE)))) for _ in range(np.random.RandomState(SEED).randint(MAX_LISTS))])\n",
    "%memit Solution().mergeKLists([to_linklist(sorted(np.random.RandomState(SEED).randint(MAX_VAL, size=rstate.randint(MAX_SIZE)))) for _ in range(np.random.RandomState(SEED).randint(MAX_LISTS))])"
   ]
  },
  {
   "cell_type": "markdown",
   "metadata": {},
   "source": [
    "# Solution 3: Merge one by one\n",
    "#### **Time:** -\n",
    "#### **Space:** -\n",
    "\n",
    "###### – Time Limit Exceeded!"
   ]
  },
  {
   "cell_type": "code",
   "execution_count": 179,
   "metadata": {},
   "outputs": [],
   "source": [
    "# Definition for singly-linked list.\n",
    "class ListNode:\n",
    "    def __init__(self, x):\n",
    "        self.val = x\n",
    "        self.next = None\n",
    "\n",
    "class Solution:\n",
    "    \n",
    "    def mergeTwoLists(self, l1, l2):\n",
    "        \n",
    "        head = ListNode(None)\n",
    "        node = head\n",
    "        \n",
    "        while l1 and l2:\n",
    "            \n",
    "            if l1.val < l2.val:\n",
    "                node.next = ListNode(l1.val)\n",
    "                node = node.next\n",
    "                l1 = l1.next\n",
    "                \n",
    "            else:\n",
    "                node.next = ListNode(l2.val)\n",
    "                node = node.next\n",
    "                l2 = l2.next\n",
    "            \n",
    "        while l1:\n",
    "            node.next = ListNode(l1.val)\n",
    "            node = node.next\n",
    "            l1 = l1.next\n",
    "            \n",
    "        while l2:\n",
    "            node.next = ListNode(l2.val)\n",
    "            node = node.next\n",
    "            l2 = l2.next\n",
    "        \n",
    "        return head.next\n",
    "    \n",
    "        \n",
    "    def mergeKLists(self, lists):\n",
    "        \n",
    "        if not lists:\n",
    "            return None\n",
    "        \n",
    "        node = lists.pop()\n",
    "        \n",
    "        # Prune lists\n",
    "        i = 0\n",
    "        while i < len(lists):\n",
    "            if not lists[i]: lists.pop(i)\n",
    "            else: i += 1\n",
    "                \n",
    "        # Main Loop\n",
    "        for l in lists:\n",
    "            node = self.mergeTwoLists(node, l)\n",
    "        \n",
    "        return node"
   ]
  },
  {
   "cell_type": "code",
   "execution_count": 180,
   "metadata": {},
   "outputs": [
    {
     "name": "stdout",
     "output_type": "stream",
     "text": [
      "[3, 6, 7, 8]\n",
      "[3, 7]\n",
      "[5, 5, 7]\n",
      "\n",
      "[3, 3, 5, 5, 6, 7, 7, 7, 8]\n"
     ]
    }
   ],
   "source": [
    "rstate = np.random.RandomState()\n",
    "nums_list = [sorted(rstate.randint(2, 10, size=rstate.randint(5)))\n",
    "             for _ in range(rstate.randint(2, 5))]\n",
    "\n",
    "for nums in nums_list:\n",
    "    print(nums)\n",
    "print()\n",
    "\n",
    "lists = [to_linklist(nums) for nums in nums_list]\n",
    "\n",
    "node = Solution().mergeKLists(lists)\n",
    "nums = from_linklist(node)\n",
    "print(nums)"
   ]
  },
  {
   "cell_type": "code",
   "execution_count": 153,
   "metadata": {},
   "outputs": [
    {
     "name": "stdout",
     "output_type": "stream",
     "text": [
      "4.67 s ± 298 ms per loop (mean ± std. dev. of 7 runs, 1 loop each)\n",
      "peak memory: 530.12 MiB, increment: 105.41 MiB\n"
     ]
    }
   ],
   "source": [
    "SEED = 0\n",
    "MAX_VAL = 1000\n",
    "MAX_SIZE = 10000\n",
    "MAX_LISTS = 50\n",
    "\n",
    "%timeit Solution().mergeKLists([to_linklist(sorted(np.random.RandomState(SEED).randint(MAX_VAL, size=rstate.randint(MAX_SIZE)))) for _ in range(np.random.RandomState(SEED).randint(MAX_LISTS))])\n",
    "%memit Solution().mergeKLists([to_linklist(sorted(np.random.RandomState(SEED).randint(MAX_VAL, size=rstate.randint(MAX_SIZE)))) for _ in range(np.random.RandomState(SEED).randint(MAX_LISTS))])"
   ]
  },
  {
   "cell_type": "markdown",
   "metadata": {},
   "source": [
    "# Solution 4: Merge one by one + pre-Sort\n",
    "#### **Time:** -\n",
    "#### **Space:** -\n",
    "\n",
    "###### – Time Limit Exceeded!"
   ]
  },
  {
   "cell_type": "code",
   "execution_count": 181,
   "metadata": {},
   "outputs": [],
   "source": [
    "# Definition for singly-linked list.\n",
    "class ListNode:\n",
    "    def __init__(self, x):\n",
    "        self.val = x\n",
    "        self.next = None\n",
    "\n",
    "class Solution:\n",
    "    \n",
    "    def mergeTwoLists(self, l1, l2):\n",
    "        \n",
    "        head = ListNode(None)\n",
    "        node = head\n",
    "        \n",
    "        while l1 and l2:\n",
    "            \n",
    "            if l1.val < l2.val:\n",
    "                node.next = ListNode(l1.val)\n",
    "                node = node.next\n",
    "                l1 = l1.next\n",
    "                \n",
    "            else:\n",
    "                node.next = ListNode(l2.val)\n",
    "                node = node.next\n",
    "                l2 = l2.next\n",
    "            \n",
    "        while l1:\n",
    "            node.next = ListNode(l1.val)\n",
    "            node = node.next\n",
    "            l1 = l1.next\n",
    "            \n",
    "        while l2:\n",
    "            node.next = ListNode(l2.val)\n",
    "            node = node.next\n",
    "            l2 = l2.next\n",
    "        \n",
    "        return head.next\n",
    "    \n",
    "        \n",
    "    def mergeKLists(self, lists):\n",
    "        \n",
    "        # Prune lists\n",
    "        i = 0\n",
    "        while i < len(lists):\n",
    "            if not lists[i]: lists.pop(i)\n",
    "            else: i += 1\n",
    "        \n",
    "        if not lists:\n",
    "            return None\n",
    "        \n",
    "        lists = sorted(lists, key=lambda x: x.val)\n",
    "        node = lists.pop(0)\n",
    "                \n",
    "        # Main Loop\n",
    "        while lists:\n",
    "            lists = sorted(lists, key=lambda x: x.val)\n",
    "            node = self.mergeTwoLists(node, lists.pop(0))\n",
    "        \n",
    "        return node"
   ]
  },
  {
   "cell_type": "code",
   "execution_count": 182,
   "metadata": {},
   "outputs": [
    {
     "name": "stdout",
     "output_type": "stream",
     "text": [
      "[7]\n",
      "[2, 8, 8, 9]\n",
      "[3, 4]\n",
      "[6, 7]\n",
      "\n",
      "[2, 3, 4, 6, 7, 7, 8, 8, 9]\n"
     ]
    }
   ],
   "source": [
    "rstate = np.random.RandomState()\n",
    "nums_list = [sorted(rstate.randint(2, 10, size=rstate.randint(5)))\n",
    "             for _ in range(rstate.randint(2, 5))]\n",
    "\n",
    "for nums in nums_list:\n",
    "    print(nums)\n",
    "print()\n",
    "\n",
    "lists = [to_linklist(nums) for nums in nums_list]\n",
    "\n",
    "node = Solution().mergeKLists(lists)\n",
    "nums = from_linklist(node)\n",
    "print(nums)"
   ]
  },
  {
   "cell_type": "code",
   "execution_count": 183,
   "metadata": {},
   "outputs": [
    {
     "name": "stdout",
     "output_type": "stream",
     "text": [
      "5.23 s ± 371 ms per loop (mean ± std. dev. of 7 runs, 1 loop each)\n",
      "peak memory: 207.55 MiB, increment: 74.37 MiB\n"
     ]
    }
   ],
   "source": [
    "SEED = 0\n",
    "MAX_VAL = 1000\n",
    "MAX_SIZE = 10000\n",
    "MAX_LISTS = 50\n",
    "\n",
    "%timeit Solution().mergeKLists([to_linklist(sorted(np.random.RandomState(SEED).randint(MAX_VAL, size=rstate.randint(MAX_SIZE)))) for _ in range(np.random.RandomState(SEED).randint(MAX_LISTS))])\n",
    "%memit Solution().mergeKLists([to_linklist(sorted(np.random.RandomState(SEED).randint(MAX_VAL, size=rstate.randint(MAX_SIZE)))) for _ in range(np.random.RandomState(SEED).randint(MAX_LISTS))])"
   ]
  },
  {
   "cell_type": "markdown",
   "metadata": {},
   "source": [
    "# Solution 5: Divide & Conquer\n",
    "#### **Time:** 20%\n",
    "#### **Space:** 6%"
   ]
  },
  {
   "cell_type": "code",
   "execution_count": 184,
   "metadata": {},
   "outputs": [],
   "source": [
    "# Definition for singly-linked list.\n",
    "class ListNode:\n",
    "    def __init__(self, x):\n",
    "        self.val = x\n",
    "        self.next = None\n",
    "\n",
    "class Solution:\n",
    "    \n",
    "    def mergeTwoLists(self, l1, l2):\n",
    "        \n",
    "        head = ListNode(None)\n",
    "        node = head\n",
    "        \n",
    "        while l1 and l2:\n",
    "            \n",
    "            if l1.val < l2.val:\n",
    "                node.next = ListNode(l1.val)\n",
    "                node = node.next\n",
    "                l1 = l1.next\n",
    "                \n",
    "            else:\n",
    "                node.next = ListNode(l2.val)\n",
    "                node = node.next\n",
    "                l2 = l2.next\n",
    "            \n",
    "        while l1:\n",
    "            node.next = ListNode(l1.val)\n",
    "            node = node.next\n",
    "            l1 = l1.next\n",
    "            \n",
    "        while l2:\n",
    "            node.next = ListNode(l2.val)\n",
    "            node = node.next\n",
    "            l2 = l2.next\n",
    "        \n",
    "        return head.next\n",
    "    \n",
    "        \n",
    "    def mergeKLists(self, lists):\n",
    "        \n",
    "        # Prune lists\n",
    "        i = 0\n",
    "        while i < len(lists):\n",
    "            if not lists[i]: lists.pop(i)\n",
    "            else: i += 1\n",
    "        \n",
    "        if not lists:\n",
    "            return None\n",
    "                \n",
    "        # Main Loop\n",
    "        while len(lists) > 1:\n",
    "            \n",
    "            n = len(lists)\n",
    "            lists_ = []\n",
    "            \n",
    "            for i in range(0, n, 2):\n",
    "                if i+1 < n:\n",
    "                    lists_.append(self.mergeTwoLists(lists[i], lists[i+1])) \n",
    "                else:\n",
    "                    lists_.append(lists[i])\n",
    "                \n",
    "            lists = lists_\n",
    "        \n",
    "        return lists[0]"
   ]
  },
  {
   "cell_type": "code",
   "execution_count": 187,
   "metadata": {},
   "outputs": [
    {
     "name": "stdout",
     "output_type": "stream",
     "text": [
      "[3, 9]\n",
      "[4, 6, 9, 9]\n",
      "[4, 5, 7]\n",
      "[5, 6]\n",
      "\n",
      "[3, 4, 4, 5, 5, 6, 6, 7, 9, 9, 9]\n"
     ]
    }
   ],
   "source": [
    "rstate = np.random.RandomState()\n",
    "nums_list = [sorted(rstate.randint(2, 10, size=rstate.randint(5)))\n",
    "             for _ in range(rstate.randint(2, 5))]\n",
    "\n",
    "for nums in nums_list:\n",
    "    print(nums)\n",
    "print()\n",
    "\n",
    "lists = [to_linklist(nums) for nums in nums_list]\n",
    "\n",
    "node = Solution().mergeKLists(lists)\n",
    "nums = from_linklist(node)\n",
    "print(nums)"
   ]
  },
  {
   "cell_type": "code",
   "execution_count": 188,
   "metadata": {},
   "outputs": [
    {
     "name": "stdout",
     "output_type": "stream",
     "text": [
      "1.41 s ± 83.2 ms per loop (mean ± std. dev. of 7 runs, 1 loop each)\n",
      "peak memory: 237.20 MiB, increment: 103.59 MiB\n"
     ]
    }
   ],
   "source": [
    "SEED = 0\n",
    "MAX_VAL = 1000\n",
    "MAX_SIZE = 10000\n",
    "MAX_LISTS = 50\n",
    "\n",
    "%timeit Solution().mergeKLists([to_linklist(sorted(np.random.RandomState(SEED).randint(MAX_VAL, size=rstate.randint(MAX_SIZE)))) for _ in range(np.random.RandomState(SEED).randint(MAX_LISTS))])\n",
    "%memit Solution().mergeKLists([to_linklist(sorted(np.random.RandomState(SEED).randint(MAX_VAL, size=rstate.randint(MAX_SIZE)))) for _ in range(np.random.RandomState(SEED).randint(MAX_LISTS))])"
   ]
  },
  {
   "cell_type": "markdown",
   "metadata": {},
   "source": [
    "# Solution 6: Priority Queue\n",
    "#### **Time:** 26%\n",
    "#### **Space:** 21%"
   ]
  },
  {
   "cell_type": "code",
   "execution_count": null,
   "metadata": {},
   "outputs": [],
   "source": [
    "from queue import PriorityQueue\n",
    "\n",
    "class Solution:\n",
    "    def mergeKLists(self, lists):\n",
    "        \n",
    "        head = point = ListNode(0)\n",
    "        q = PriorityQueue()\n",
    "        \n",
    "        def add_node_in_pq(idx, node):\n",
    "            if node:\n",
    "                pq.put((node.val, idx, node))\n",
    "        \n",
    "        for idx, node in enumerate(lists):\n",
    "            add_node_in_pq(idx, node)\n",
    "        \n",
    "        while not pq.empty():\n",
    "            _, idx, node = pq.get()\n",
    "            add_node_in_pq(idx, node.next)\n",
    "            node.next = None\n",
    "            sorted_list_tail.next = node\n",
    "            sorted_list_tail = sorted_list_tail.next\n",
    "        \n",
    "        return sorted_list_head.next"
   ]
  },
  {
   "cell_type": "code",
   "execution_count": 226,
   "metadata": {},
   "outputs": [],
   "source": [
    "from queue import PriorityQueue\n",
    "\n",
    "class Solution:\n",
    "    \n",
    "    def mergeKLists(self, lists):\n",
    "        \n",
    "        head = point = ListNode(0)\n",
    "        q = PriorityQueue()\n",
    "        \n",
    "        def add_node(idx, node):\n",
    "            if node: q.put((node.val, idx, node))\n",
    "        \n",
    "        for i, node in enumerate(lists):\n",
    "            add_node(i, node)\n",
    "                \n",
    "        while not q.empty():\n",
    "            \n",
    "            _, i, node = q.get()\n",
    "            add_node(i, node.next)\n",
    "            node.next = None\n",
    "            \n",
    "            point.next = node\n",
    "            point = point.next\n",
    "                \n",
    "        return head.next"
   ]
  },
  {
   "cell_type": "code",
   "execution_count": 230,
   "metadata": {},
   "outputs": [
    {
     "name": "stdout",
     "output_type": "stream",
     "text": [
      "[3, 4, 8, 8]\n",
      "[]\n",
      "[3]\n",
      "[2, 2, 4]\n",
      "\n",
      "[2, 2, 3, 3, 4, 4, 8, 8]\n"
     ]
    }
   ],
   "source": [
    "rstate = np.random.RandomState()\n",
    "nums_list = [sorted(rstate.randint(2, 10, size=rstate.randint(5)))\n",
    "             for _ in range(rstate.randint(2, 5))]\n",
    "\n",
    "for nums in nums_list:\n",
    "    print(nums)\n",
    "print()\n",
    "\n",
    "lists = [to_linklist(nums) for nums in nums_list]\n",
    "\n",
    "node = Solution().mergeKLists(lists)\n",
    "nums = from_linklist(node)\n",
    "print(nums)"
   ]
  },
  {
   "cell_type": "code",
   "execution_count": 231,
   "metadata": {},
   "outputs": [
    {
     "name": "stdout",
     "output_type": "stream",
     "text": [
      "1.53 s ± 115 ms per loop (mean ± std. dev. of 7 runs, 1 loop each)\n",
      "peak memory: 101.94 MiB, increment: 15.79 MiB\n"
     ]
    }
   ],
   "source": [
    "SEED = 0\n",
    "MAX_VAL = 1000\n",
    "MAX_SIZE = 10000\n",
    "MAX_LISTS = 50\n",
    "\n",
    "%timeit Solution().mergeKLists([to_linklist(sorted(np.random.RandomState(SEED).randint(MAX_VAL, size=rstate.randint(MAX_SIZE)))) for _ in range(np.random.RandomState(SEED).randint(MAX_LISTS))])\n",
    "%memit Solution().mergeKLists([to_linklist(sorted(np.random.RandomState(SEED).randint(MAX_VAL, size=rstate.randint(MAX_SIZE)))) for _ in range(np.random.RandomState(SEED).randint(MAX_LISTS))])"
   ]
  }
 ],
 "metadata": {
  "kernelspec": {
   "display_name": "Python 3",
   "language": "python",
   "name": "python3"
  },
  "language_info": {
   "codemirror_mode": {
    "name": "ipython",
    "version": 3
   },
   "file_extension": ".py",
   "mimetype": "text/x-python",
   "name": "python",
   "nbconvert_exporter": "python",
   "pygments_lexer": "ipython3",
   "version": "3.6.8"
  }
 },
 "nbformat": 4,
 "nbformat_minor": 2
}
