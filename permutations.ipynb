{
 "cells": [
  {
   "cell_type": "markdown",
   "metadata": {},
   "source": [
    "https://leetcode.com/problems/permutations/"
   ]
  },
  {
   "cell_type": "code",
   "execution_count": 7,
   "metadata": {},
   "outputs": [],
   "source": [
    "%load_ext memory_profiler"
   ]
  },
  {
   "cell_type": "markdown",
   "metadata": {},
   "source": [
    "# Solution 1"
   ]
  },
  {
   "cell_type": "code",
   "execution_count": 14,
   "metadata": {},
   "outputs": [],
   "source": [
    "class Solution:\n",
    "    \n",
    "    def permute(self, nums):\n",
    "        \n",
    "        a, b = [], list(nums)\n",
    "    \n",
    "        if len(b) == 1:\n",
    "            yield nums\n",
    "\n",
    "        while b:\n",
    "            x = b.pop(0)\n",
    "\n",
    "            for permutation in self.permute(a + b):\n",
    "                yield [x] + permutation\n",
    "\n",
    "            a.append(x)"
   ]
  },
  {
   "cell_type": "code",
   "execution_count": 41,
   "metadata": {},
   "outputs": [
    {
     "name": "stdout",
     "output_type": "stream",
     "text": [
      "['A', '2', 100]\n",
      "['A', 100, '2']\n",
      "['2', 'A', 100]\n",
      "['2', 100, 'A']\n",
      "[100, 'A', '2']\n",
      "[100, '2', 'A']\n"
     ]
    }
   ],
   "source": [
    "nums = ['A', '2', 100]\n",
    "\n",
    "for p in Solution().permute(nums):\n",
    "    print(p)"
   ]
  },
  {
   "cell_type": "code",
   "execution_count": 38,
   "metadata": {},
   "outputs": [
    {
     "name": "stdout",
     "output_type": "stream",
     "text": [
      "2.33 ms ± 39.3 µs per loop (mean ± std. dev. of 7 runs, 100 loops each)\n"
     ]
    }
   ],
   "source": [
    "%timeit list(Solution().permute(range(6)))"
   ]
  },
  {
   "cell_type": "code",
   "execution_count": 40,
   "metadata": {},
   "outputs": [
    {
     "name": "stdout",
     "output_type": "stream",
     "text": [
      "peak memory: 122.89 MiB, increment: 0.00 MiB\n"
     ]
    }
   ],
   "source": [
    "%memit list(Solution().permute(range(6)))"
   ]
  },
  {
   "cell_type": "markdown",
   "metadata": {},
   "source": [
    "# Solution 2"
   ]
  },
  {
   "cell_type": "code",
   "execution_count": 47,
   "metadata": {},
   "outputs": [],
   "source": [
    "from itertools import permutations\n",
    "\n",
    "class Solution:\n",
    "    \n",
    "    def permute(self, nums):\n",
    "        return permutations(nums)"
   ]
  },
  {
   "cell_type": "code",
   "execution_count": 48,
   "metadata": {},
   "outputs": [
    {
     "name": "stdout",
     "output_type": "stream",
     "text": [
      "('A', '2', 100)\n",
      "('A', 100, '2')\n",
      "('2', 'A', 100)\n",
      "('2', 100, 'A')\n",
      "(100, 'A', '2')\n",
      "(100, '2', 'A')\n"
     ]
    }
   ],
   "source": [
    "nums = ['A', '2', 100]\n",
    "\n",
    "for p in Solution().permute(nums):\n",
    "    print(p)"
   ]
  },
  {
   "cell_type": "code",
   "execution_count": 49,
   "metadata": {},
   "outputs": [
    {
     "name": "stdout",
     "output_type": "stream",
     "text": [
      "37.6 µs ± 753 ns per loop (mean ± std. dev. of 7 runs, 10000 loops each)\n"
     ]
    }
   ],
   "source": [
    "%timeit list(Solution().permute(range(6)))"
   ]
  },
  {
   "cell_type": "code",
   "execution_count": 50,
   "metadata": {},
   "outputs": [
    {
     "name": "stdout",
     "output_type": "stream",
     "text": [
      "peak memory: 122.89 MiB, increment: 0.00 MiB\n"
     ]
    }
   ],
   "source": [
    "%memit list(Solution().permute(range(6)))"
   ]
  }
 ],
 "metadata": {
  "kernelspec": {
   "display_name": "Python 3",
   "language": "python",
   "name": "python3"
  },
  "language_info": {
   "codemirror_mode": {
    "name": "ipython",
    "version": 3
   },
   "file_extension": ".py",
   "mimetype": "text/x-python",
   "name": "python",
   "nbconvert_exporter": "python",
   "pygments_lexer": "ipython3",
   "version": "3.6.8"
  }
 },
 "nbformat": 4,
 "nbformat_minor": 2
}
