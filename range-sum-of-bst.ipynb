{
 "cells": [
  {
   "cell_type": "markdown",
   "metadata": {},
   "source": [
    "https://leetcode.com/problems/range-sum-of-bst/"
   ]
  },
  {
   "cell_type": "markdown",
   "metadata": {},
   "source": [
    "# Solution 1"
   ]
  },
  {
   "cell_type": "code",
   "execution_count": 9,
   "metadata": {},
   "outputs": [],
   "source": [
    "class Solution:\n",
    "    def rangeSumBST(self, root, L, R):\n",
    "        \n",
    "        s = 0\n",
    "        \n",
    "        if L <= root.val <= R:\n",
    "            s += root.val\n",
    "        \n",
    "        if root.left:\n",
    "            s += self.rangeSumBST(root.left, L, R)\n",
    "            \n",
    "        if root.right:\n",
    "            s += self.rangeSumBST(root.right, L, R)\n",
    "        \n",
    "        return s"
   ]
  },
  {
   "cell_type": "markdown",
   "metadata": {},
   "source": [
    "# Solution 2"
   ]
  },
  {
   "cell_type": "code",
   "execution_count": 1,
   "metadata": {},
   "outputs": [],
   "source": [
    "class Solution:\n",
    "    def rangeSumBST(self, root, L, R):\n",
    "        \n",
    "        if not root:\n",
    "            return 0\n",
    "        \n",
    "        if R < root.val:\n",
    "            return self.rangeSumBST(root.left, L, R)\n",
    "        \n",
    "        elif root.val < L:\n",
    "            return self.rangeSumBST(root.right, L, R)\n",
    "        \n",
    "        else:\n",
    "            return self.rangeSumBST(root.left, L, R) + \\\n",
    "                   self.rangeSumBST(root.right, L, R) + \\\n",
    "                   root.val\n",
    "        \n",
    "        return s"
   ]
  }
 ],
 "metadata": {
  "kernelspec": {
   "display_name": "Python 3",
   "language": "python",
   "name": "python3"
  },
  "language_info": {
   "codemirror_mode": {
    "name": "ipython",
    "version": 3
   },
   "file_extension": ".py",
   "mimetype": "text/x-python",
   "name": "python",
   "nbconvert_exporter": "python",
   "pygments_lexer": "ipython3",
   "version": "3.6.8"
  }
 },
 "nbformat": 4,
 "nbformat_minor": 2
}
