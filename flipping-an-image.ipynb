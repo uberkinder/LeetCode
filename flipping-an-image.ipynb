{
 "cells": [
  {
   "cell_type": "markdown",
   "metadata": {},
   "source": [
    "https://leetcode.com/problems/flipping-an-image/"
   ]
  },
  {
   "cell_type": "raw",
   "metadata": {},
   "source": [
    "Input: [[1,1,0,0],\n",
    "        [1,0,0,1],\n",
    "        [0,1,1,1],\n",
    "        [1,0,1,0]]\n",
    "        \n",
    "Output: [[1,1,0,0],\n",
    "         [0,1,1,0],\n",
    "         [0,0,0,1],\n",
    "         [1,0,1,0]]"
   ]
  },
  {
   "cell_type": "code",
   "execution_count": 22,
   "metadata": {},
   "outputs": [],
   "source": [
    "%load_ext memory_profiler"
   ]
  },
  {
   "cell_type": "markdown",
   "metadata": {},
   "source": [
    "# Solution 1"
   ]
  },
  {
   "cell_type": "code",
   "execution_count": 24,
   "metadata": {},
   "outputs": [],
   "source": [
    "import numpy as np\n",
    "\n",
    "class Solution:\n",
    "    def flipAndInvertImage(self, A):\n",
    "        return 1-np.array(A).T[::-1].T"
   ]
  },
  {
   "cell_type": "code",
   "execution_count": 25,
   "metadata": {},
   "outputs": [
    {
     "data": {
      "text/plain": [
       "array([[1, 1, 0, 0],\n",
       "       [0, 1, 1, 0],\n",
       "       [0, 0, 0, 1],\n",
       "       [1, 0, 1, 0]])"
      ]
     },
     "execution_count": 25,
     "metadata": {},
     "output_type": "execute_result"
    }
   ],
   "source": [
    "A = [[1,1,0,0],\n",
    "     [1,0,0,1],\n",
    "     [0,1,1,1],\n",
    "     [1,0,1,0]]\n",
    "Solution().flipAndInvertImage(A)"
   ]
  },
  {
   "cell_type": "code",
   "execution_count": 26,
   "metadata": {},
   "outputs": [
    {
     "name": "stdout",
     "output_type": "stream",
     "text": [
      "6.02 µs ± 165 ns per loop (mean ± std. dev. of 7 runs, 100000 loops each)\n",
      "peak memory: 59.81 MiB, increment: -0.00 MiB\n"
     ]
    }
   ],
   "source": [
    "%timeit Solution().flipAndInvertImage(A)\n",
    "%memit Solution().flipAndInvertImage(A)"
   ]
  },
  {
   "cell_type": "markdown",
   "metadata": {},
   "source": [
    "# Solution 2"
   ]
  },
  {
   "cell_type": "code",
   "execution_count": 27,
   "metadata": {},
   "outputs": [],
   "source": [
    "class Solution:\n",
    "    def flipAndInvertImage(self, A):\n",
    "        return [[1-A[i][-j-1] for j in range(len(A))] for i in range(len(A))]"
   ]
  },
  {
   "cell_type": "code",
   "execution_count": 28,
   "metadata": {},
   "outputs": [
    {
     "data": {
      "text/plain": [
       "[[1, 1, 0, 0], [0, 1, 1, 0], [0, 0, 0, 1], [1, 0, 1, 0]]"
      ]
     },
     "execution_count": 28,
     "metadata": {},
     "output_type": "execute_result"
    }
   ],
   "source": [
    "A = [[1,1,0,0],\n",
    "     [1,0,0,1],\n",
    "     [0,1,1,1],\n",
    "     [1,0,1,0]]\n",
    "Solution().flipAndInvertImage(A)"
   ]
  },
  {
   "cell_type": "code",
   "execution_count": 29,
   "metadata": {},
   "outputs": [
    {
     "name": "stdout",
     "output_type": "stream",
     "text": [
      "4.58 µs ± 137 ns per loop (mean ± std. dev. of 7 runs, 100000 loops each)\n",
      "peak memory: 59.83 MiB, increment: 0.00 MiB\n"
     ]
    }
   ],
   "source": [
    "%timeit Solution().flipAndInvertImage(A)\n",
    "%memit Solution().flipAndInvertImage(A)"
   ]
  },
  {
   "cell_type": "markdown",
   "metadata": {},
   "source": [
    "# Solution 3"
   ]
  },
  {
   "cell_type": "code",
   "execution_count": 51,
   "metadata": {},
   "outputs": [],
   "source": [
    "class Solution:\n",
    "    def flipAndInvertImage(self, A):\n",
    "        return [[1-x for x in reversed(row)] for row in A]"
   ]
  },
  {
   "cell_type": "code",
   "execution_count": 52,
   "metadata": {},
   "outputs": [
    {
     "data": {
      "text/plain": [
       "[[1, 1, 0, 0], [0, 1, 1, 0], [0, 0, 0, 1], [1, 0, 1, 0]]"
      ]
     },
     "execution_count": 52,
     "metadata": {},
     "output_type": "execute_result"
    }
   ],
   "source": [
    "A = [[1,1,0,0],\n",
    "     [1,0,0,1],\n",
    "     [0,1,1,1],\n",
    "     [1,0,1,0]]\n",
    "Solution().flipAndInvertImage(A)"
   ]
  },
  {
   "cell_type": "code",
   "execution_count": 53,
   "metadata": {},
   "outputs": [
    {
     "name": "stdout",
     "output_type": "stream",
     "text": [
      "2.57 µs ± 68.2 ns per loop (mean ± std. dev. of 7 runs, 100000 loops each)\n",
      "peak memory: 59.87 MiB, increment: 0.00 MiB\n"
     ]
    }
   ],
   "source": [
    "%timeit Solution().flipAndInvertImage(A)\n",
    "%memit Solution().flipAndInvertImage(A)"
   ]
  },
  {
   "cell_type": "markdown",
   "metadata": {},
   "source": [
    "# Solution 4"
   ]
  },
  {
   "cell_type": "code",
   "execution_count": 54,
   "metadata": {},
   "outputs": [],
   "source": [
    "class Solution:\n",
    "    def flipAndInvertImage(self, A):\n",
    "        return [[1-x for x in row][::-1] for row in A]"
   ]
  },
  {
   "cell_type": "code",
   "execution_count": 55,
   "metadata": {},
   "outputs": [
    {
     "data": {
      "text/plain": [
       "[[1, 1, 0, 0], [0, 1, 1, 0], [0, 0, 0, 1], [1, 0, 1, 0]]"
      ]
     },
     "execution_count": 55,
     "metadata": {},
     "output_type": "execute_result"
    }
   ],
   "source": [
    "A = [[1,1,0,0],\n",
    "     [1,0,0,1],\n",
    "     [0,1,1,1],\n",
    "     [1,0,1,0]]\n",
    "Solution().flipAndInvertImage(A)"
   ]
  },
  {
   "cell_type": "code",
   "execution_count": 56,
   "metadata": {},
   "outputs": [
    {
     "name": "stdout",
     "output_type": "stream",
     "text": [
      "2.48 µs ± 79 ns per loop (mean ± std. dev. of 7 runs, 100000 loops each)\n",
      "peak memory: 59.88 MiB, increment: 0.00 MiB\n"
     ]
    }
   ],
   "source": [
    "%timeit Solution().flipAndInvertImage(A)\n",
    "%memit Solution().flipAndInvertImage(A)"
   ]
  },
  {
   "cell_type": "markdown",
   "metadata": {},
   "source": [
    "# Solution 5"
   ]
  },
  {
   "cell_type": "code",
   "execution_count": 113,
   "metadata": {},
   "outputs": [],
   "source": [
    "class Solution:\n",
    "    def flipAndInvertImage(self, A):\n",
    "        return [[0 if x else 1 for x in reversed(row)] for row in A]"
   ]
  },
  {
   "cell_type": "code",
   "execution_count": 114,
   "metadata": {},
   "outputs": [
    {
     "data": {
      "text/plain": [
       "[[1, 1, 0, 0], [0, 1, 1, 0], [0, 0, 0, 1], [1, 0, 1, 0]]"
      ]
     },
     "execution_count": 114,
     "metadata": {},
     "output_type": "execute_result"
    }
   ],
   "source": [
    "A = [[1,1,0,0],\n",
    "     [1,0,0,1],\n",
    "     [0,1,1,1],\n",
    "     [1,0,1,0]]\n",
    "Solution().flipAndInvertImage(A)"
   ]
  },
  {
   "cell_type": "code",
   "execution_count": 115,
   "metadata": {},
   "outputs": [
    {
     "name": "stdout",
     "output_type": "stream",
     "text": [
      "2.42 µs ± 19 ns per loop (mean ± std. dev. of 7 runs, 100000 loops each)\n",
      "peak memory: 60.07 MiB, increment: 0.00 MiB\n"
     ]
    }
   ],
   "source": [
    "%timeit Solution().flipAndInvertImage(A)\n",
    "%memit Solution().flipAndInvertImage(A)"
   ]
  }
 ],
 "metadata": {
  "kernelspec": {
   "display_name": "Python 3",
   "language": "python",
   "name": "python3"
  },
  "language_info": {
   "codemirror_mode": {
    "name": "ipython",
    "version": 3
   },
   "file_extension": ".py",
   "mimetype": "text/x-python",
   "name": "python",
   "nbconvert_exporter": "python",
   "pygments_lexer": "ipython3",
   "version": "3.6.8"
  }
 },
 "nbformat": 4,
 "nbformat_minor": 2
}
