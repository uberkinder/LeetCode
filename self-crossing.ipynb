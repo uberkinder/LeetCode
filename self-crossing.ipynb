{
 "cells": [
  {
   "cell_type": "markdown",
   "metadata": {},
   "source": [
    "https://leetcode.com/problems/self-crossing/"
   ]
  },
  {
   "cell_type": "markdown",
   "metadata": {},
   "source": [
    "# Baseline"
   ]
  },
  {
   "cell_type": "raw",
   "metadata": {},
   "source": [
    "Runtime: 28 ms, faster than 98.29% of Python3 online submissions for Self Crossing.\n",
    "Memory Usage: 12.7 MB, less than 100.00% of Python3 online submissions for Self Crossing."
   ]
  },
  {
   "cell_type": "code",
   "execution_count": 44,
   "metadata": {},
   "outputs": [],
   "source": [
    "from itertools import cycle\n",
    "        \n",
    "\n",
    "class Solution:\n",
    "    \n",
    "    def isSelfCrossing(self, nums):\n",
    "        \n",
    "        xA, yA = 0, 0\n",
    "        \n",
    "        directions = [( 0,+1),\n",
    "                      (-1, 0),\n",
    "                      ( 0,-1),\n",
    "                      (+1, 0),]\n",
    "        \n",
    "        last_steps = [(xA, yA)]\n",
    "        \n",
    "        for (dx, dy), n in zip(cycle(directions), nums):\n",
    "            \n",
    "            xB, yB = xA, yA\n",
    "            xA += n*dx\n",
    "            yA += n*dy\n",
    "            \n",
    "            last_steps.append((xA, yA))\n",
    "            \n",
    "            if len(last_steps) < 5:\n",
    "                continue\n",
    "            \n",
    "            xC,yC = last_steps[-4]\n",
    "            xD,yD = last_steps[-5]\n",
    "            \n",
    "            if dx:\n",
    "                if min(xA, xB) <= xC <= max(xA, xB):\n",
    "                    if min(yC, yD) <= yA <= max(yC, yD):\n",
    "                        return True\n",
    "            else:\n",
    "                if min(yA, yB) <= yC <= max(yA, yB):\n",
    "                    if min(xC, xD) <= xA <= max(xC, xD):\n",
    "                        return True\n",
    "                    \n",
    "            if len(last_steps) < 6:\n",
    "                continue\n",
    "            \n",
    "            xC,yC = last_steps[-5]\n",
    "            xD,yD = last_steps[-6]\n",
    "            \n",
    "            if dx:\n",
    "                if min(xA, xB) <= xD <= max(xA, xB) \\\n",
    "                or min(xA, xB) <= xC <= max(xA, xB):\n",
    "                    if yA == yC:\n",
    "                        return True\n",
    "            else:\n",
    "                if min(yA, yB) <= yD <= max(yA, yB) \\\n",
    "                or min(yA, yB) <= yC <= max(yA, yB):\n",
    "                    if xA == xC:\n",
    "                        return True\n",
    "                    \n",
    "            if len(last_steps) < 7:\n",
    "                continue\n",
    "                \n",
    "            xC,yC = last_steps[-6]\n",
    "            xD,yD = last_steps[-7]\n",
    "            \n",
    "            if dx:\n",
    "                if min(xA, xB) <= xC <= max(xA, xB):\n",
    "                    if min(yC, yD) <= yA <= max(yC, yD):\n",
    "                        return True\n",
    "            else:\n",
    "                if min(yA, yB) <= yC <= max(yA, yB):\n",
    "                    if min(xC, xD) <= xA <= max(xC, xD):\n",
    "                        return True\n",
    "            \n",
    "            last_steps.pop(0)\n",
    "        \n",
    "        return False"
   ]
  },
  {
   "cell_type": "code",
   "execution_count": 45,
   "metadata": {},
   "outputs": [
    {
     "data": {
      "text/plain": [
       "True"
      ]
     },
     "execution_count": 45,
     "metadata": {},
     "output_type": "execute_result"
    }
   ],
   "source": [
    "nums = [2, 1, 1, 2]\n",
    "Solution().isSelfCrossing(nums)"
   ]
  },
  {
   "cell_type": "code",
   "execution_count": 46,
   "metadata": {},
   "outputs": [
    {
     "data": {
      "text/plain": [
       "True"
      ]
     },
     "execution_count": 46,
     "metadata": {},
     "output_type": "execute_result"
    }
   ],
   "source": [
    "nums = [1, 1, 2, 1, 1]\n",
    "Solution().isSelfCrossing(nums)"
   ]
  },
  {
   "cell_type": "code",
   "execution_count": 47,
   "metadata": {},
   "outputs": [
    {
     "data": {
      "text/plain": [
       "False"
      ]
     },
     "execution_count": 47,
     "metadata": {},
     "output_type": "execute_result"
    }
   ],
   "source": [
    "nums = [3,3,4,2,2]\n",
    "Solution().isSelfCrossing(nums)"
   ]
  },
  {
   "cell_type": "code",
   "execution_count": 48,
   "metadata": {},
   "outputs": [
    {
     "data": {
      "text/plain": [
       "True"
      ]
     },
     "execution_count": 48,
     "metadata": {},
     "output_type": "execute_result"
    }
   ],
   "source": [
    "nums = [1,1,2,2,1,1]\n",
    "Solution().isSelfCrossing(nums)"
   ]
  }
 ],
 "metadata": {
  "kernelspec": {
   "display_name": "Python 3",
   "language": "python",
   "name": "python3"
  },
  "language_info": {
   "codemirror_mode": {
    "name": "ipython",
    "version": 3
   },
   "file_extension": ".py",
   "mimetype": "text/x-python",
   "name": "python",
   "nbconvert_exporter": "python",
   "pygments_lexer": "ipython3",
   "version": "3.6.8"
  }
 },
 "nbformat": 4,
 "nbformat_minor": 2
}
