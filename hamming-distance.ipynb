{
 "cells": [
  {
   "cell_type": "markdown",
   "metadata": {},
   "source": [
    "https://leetcode.com/problems/hamming-distance/"
   ]
  },
  {
   "cell_type": "code",
   "execution_count": 3,
   "metadata": {},
   "outputs": [
    {
     "name": "stdout",
     "output_type": "stream",
     "text": [
      "The memory_profiler extension is already loaded. To reload it, use:\n",
      "  %reload_ext memory_profiler\n"
     ]
    }
   ],
   "source": [
    "import numpy as np\n",
    "\n",
    "%load_ext memory_profiler"
   ]
  },
  {
   "cell_type": "markdown",
   "metadata": {},
   "source": [
    "# Solution 1"
   ]
  },
  {
   "cell_type": "code",
   "execution_count": 21,
   "metadata": {},
   "outputs": [],
   "source": [
    "class Solution:\n",
    "    def hammingDistance(self, x, y):\n",
    "        \n",
    "        x = list(bin(x)[2:])\n",
    "        y = list(bin(y)[2:])\n",
    "        \n",
    "        counter = 0\n",
    "        \n",
    "        while x or y:\n",
    "            x_bit = x.pop() if x else '0'\n",
    "            y_bit = y.pop() if y else '0'\n",
    "            \n",
    "            if x_bit != y_bit:\n",
    "                counter += 1\n",
    "                \n",
    "        return counter"
   ]
  },
  {
   "cell_type": "code",
   "execution_count": 22,
   "metadata": {},
   "outputs": [
    {
     "data": {
      "text/plain": [
       "2"
      ]
     },
     "execution_count": 22,
     "metadata": {},
     "output_type": "execute_result"
    }
   ],
   "source": [
    "Solution().hammingDistance(1, 4)"
   ]
  },
  {
   "cell_type": "code",
   "execution_count": 23,
   "metadata": {},
   "outputs": [
    {
     "name": "stdout",
     "output_type": "stream",
     "text": [
      "12.3 µs ± 198 ns per loop (mean ± std. dev. of 7 runs, 100000 loops each)\n",
      "peak memory: 59.86 MiB, increment: 0.00 MiB\n"
     ]
    }
   ],
   "source": [
    "%timeit Solution().hammingDistance(np.random.randint(2**32), np.random.randint(2**32))\n",
    "%memit Solution().hammingDistance(np.random.randint(2**32), np.random.randint(2**32))"
   ]
  },
  {
   "cell_type": "markdown",
   "metadata": {},
   "source": [
    "# Solution 2"
   ]
  },
  {
   "cell_type": "code",
   "execution_count": 18,
   "metadata": {},
   "outputs": [],
   "source": [
    "class Solution:\n",
    "    def hammingDistance(self, x, y):\n",
    "        \n",
    "        c = 0\n",
    "        \n",
    "        while x or y:\n",
    "            c += x%2 != y%2\n",
    "            x >>= 1\n",
    "            y >>= 1\n",
    "                \n",
    "        return c"
   ]
  },
  {
   "cell_type": "code",
   "execution_count": 19,
   "metadata": {},
   "outputs": [
    {
     "data": {
      "text/plain": [
       "2"
      ]
     },
     "execution_count": 19,
     "metadata": {},
     "output_type": "execute_result"
    }
   ],
   "source": [
    "Solution().hammingDistance(1, 4)"
   ]
  },
  {
   "cell_type": "code",
   "execution_count": 20,
   "metadata": {},
   "outputs": [
    {
     "name": "stdout",
     "output_type": "stream",
     "text": [
      "8.14 µs ± 81.6 ns per loop (mean ± std. dev. of 7 runs, 100000 loops each)\n",
      "peak memory: 59.83 MiB, increment: 0.01 MiB\n"
     ]
    }
   ],
   "source": [
    "%timeit Solution().hammingDistance(np.random.randint(2**32), np.random.randint(2**32))\n",
    "%memit Solution().hammingDistance(np.random.randint(2**32), np.random.randint(2**32))"
   ]
  }
 ],
 "metadata": {
  "kernelspec": {
   "display_name": "Python 3",
   "language": "python",
   "name": "python3"
  },
  "language_info": {
   "codemirror_mode": {
    "name": "ipython",
    "version": 3
   },
   "file_extension": ".py",
   "mimetype": "text/x-python",
   "name": "python",
   "nbconvert_exporter": "python",
   "pygments_lexer": "ipython3",
   "version": "3.6.8"
  }
 },
 "nbformat": 4,
 "nbformat_minor": 2
}
