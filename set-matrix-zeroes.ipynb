{
 "cells": [
  {
   "cell_type": "markdown",
   "metadata": {},
   "source": [
    "https://leetcode.com/problems/set-matrix-zeroes/"
   ]
  },
  {
   "cell_type": "markdown",
   "metadata": {},
   "source": [
    "# 1. Baseline"
   ]
  },
  {
   "cell_type": "raw",
   "metadata": {},
   "source": [
    "Runtime: 136 ms, faster than 96.95% of Python3 online submissions for Set Matrix Zeroes.\n",
    "Memory Usage: 13.5 MB, less than 56.41% of Python3 online submissions for Set Matrix Zeroes."
   ]
  },
  {
   "cell_type": "code",
   "execution_count": null,
   "metadata": {},
   "outputs": [],
   "source": [
    "class Solution:\n",
    "    def setZeroes(self, matrix):\n",
    "        \"\"\"\n",
    "        Do not return anything, modify matrix in-place instead.\n",
    "        \"\"\"\n",
    "        m, n = len(matrix), len(matrix[0])\n",
    "        \n",
    "        for i in range(m):\n",
    "            for j in range(n):\n",
    "                if matrix[i][j] == 0:\n",
    "                    \n",
    "                    for i_ in range(m):\n",
    "                        if matrix[i_][j] != 0:\n",
    "                            matrix[i_][j] = None\n",
    "                    \n",
    "                    for j_ in range(n):\n",
    "                        if matrix[i][j_] != 0:\n",
    "                            matrix[i][j_] = None\n",
    "                            \n",
    "        for i in range(m):\n",
    "            for j in range(n):\n",
    "                if not matrix[i][j]:\n",
    "                    matrix[i][j] = 0"
   ]
  },
  {
   "cell_type": "markdown",
   "metadata": {},
   "source": [
    "# 2. Drop (n, m)"
   ]
  },
  {
   "cell_type": "raw",
   "metadata": {},
   "source": [
    "Runtime: 144 ms, faster than 92.76% of Python3 online submissions for Set Matrix Zeroes.\n",
    "Memory Usage: 13.3 MB, less than 97.44% of Python3 online submissions for Set Matrix Zeroes."
   ]
  },
  {
   "cell_type": "code",
   "execution_count": null,
   "metadata": {},
   "outputs": [],
   "source": [
    "class Solution:\n",
    "    def setZeroes(self, matrix):\n",
    "        \"\"\"\n",
    "        Do not return anything, modify matrix in-place instead.\n",
    "        \"\"\"\n",
    "        for i in range(len(matrix)):\n",
    "            for j in range(len(matrix[0])):\n",
    "                if matrix[i][j] == 0:\n",
    "                    \n",
    "                    for i_ in range(len(matrix)):\n",
    "                        if matrix[i_][j] != 0:\n",
    "                            matrix[i_][j] = None\n",
    "                    \n",
    "                    for j_ in range(len(matrix[0])):\n",
    "                        if matrix[i][j_] != 0:\n",
    "                            matrix[i][j_] = None\n",
    "                            \n",
    "        for i in range(len(matrix)):\n",
    "            for j in range(len(matrix[0])):\n",
    "                if matrix[i][j] is None:\n",
    "                    matrix[i][j] = 0"
   ]
  },
  {
   "cell_type": "markdown",
   "metadata": {},
   "source": [
    "# 3. More pointers"
   ]
  },
  {
   "cell_type": "raw",
   "metadata": {},
   "source": [
    "Runtime: 140 ms, faster than 94.93% of Python3 online submissions for Set Matrix Zeroes.\n",
    "Memory Usage: 13.3 MB, less than 97.44% of Python3 online submissions for Set Matrix Zeroes."
   ]
  },
  {
   "cell_type": "code",
   "execution_count": null,
   "metadata": {},
   "outputs": [],
   "source": [
    "class Solution:\n",
    "    def setZeroes(self, matrix):\n",
    "        \"\"\"\n",
    "        Do not return anything, modify matrix in-place instead.\n",
    "        \"\"\"\n",
    "        for row in matrix:\n",
    "            for j in range(len(row)):\n",
    "                if row[j] is 0:\n",
    "                    \n",
    "                    for row_ in matrix:\n",
    "                        if row_[j] is not 0:\n",
    "                            row_[j] = False\n",
    "                    \n",
    "                    for j_ in range(len(row)):\n",
    "                        if row[j_] is not 0:\n",
    "                            row[j_] = False\n",
    "                            \n",
    "        for row in matrix:\n",
    "            for j in range(len(row)):\n",
    "                if row[j] is False:\n",
    "                    row[j] = 0"
   ]
  },
  {
   "cell_type": "markdown",
   "metadata": {},
   "source": [
    "# 4. 1st Row Storage"
   ]
  },
  {
   "cell_type": "raw",
   "metadata": {},
   "source": [
    "Runtime: 128 ms, faster than 99.66% of Python3 online submissions for Set Matrix Zeroes.\n",
    "Memory Usage: 13.5 MB, less than 43.59% of Python3 online submissions for Set Matrix Zeroes."
   ]
  },
  {
   "cell_type": "code",
   "execution_count": 7,
   "metadata": {},
   "outputs": [],
   "source": [
    "class Solution:\n",
    "    def setZeroes(self, matrix):\n",
    "        \"\"\"\n",
    "        Do not return anything, modify matrix in-place instead.\n",
    "        \"\"\"\n",
    "        flag0 = False\n",
    "        for x in matrix[0]:\n",
    "            if not x:\n",
    "                flag0 = True\n",
    "                \n",
    "        for row in matrix[1:]:\n",
    "            flag = False\n",
    "            \n",
    "            for j in range(len(row)):\n",
    "                if not row[j]:\n",
    "                    matrix[0][j] = 0\n",
    "                    flag = True\n",
    "            \n",
    "            if flag:\n",
    "                for j in range(len(row)):\n",
    "                    row[j] = 0\n",
    "        \n",
    "        for row in matrix[1:]:\n",
    "            if not row[0]:\n",
    "                continue\n",
    "            \n",
    "            for j in range(len(row)):\n",
    "                if matrix[0][j] is 0:\n",
    "                    row[j] = 0\n",
    "        \n",
    "        if flag0:\n",
    "            for j in range(len(matrix[0])):\n",
    "                matrix[0][j] = 0"
   ]
  },
  {
   "cell_type": "code",
   "execution_count": 8,
   "metadata": {},
   "outputs": [
    {
     "data": {
      "text/plain": [
       "[[0], [0], [0]]"
      ]
     },
     "execution_count": 8,
     "metadata": {},
     "output_type": "execute_result"
    }
   ],
   "source": [
    "matrix = [[1], [3], [0]]\n",
    "\n",
    "Solution().setZeroes(matrix)\n",
    "matrix"
   ]
  }
 ],
 "metadata": {
  "kernelspec": {
   "display_name": "Python 3",
   "language": "python",
   "name": "python3"
  },
  "language_info": {
   "codemirror_mode": {
    "name": "ipython",
    "version": 3
   },
   "file_extension": ".py",
   "mimetype": "text/x-python",
   "name": "python",
   "nbconvert_exporter": "python",
   "pygments_lexer": "ipython3",
   "version": "3.6.8"
  }
 },
 "nbformat": 4,
 "nbformat_minor": 2
}
