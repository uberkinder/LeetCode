{
 "cells": [
  {
   "cell_type": "markdown",
   "metadata": {},
   "source": [
    "https://leetcode.com/problems/merge-two-sorted-lists/"
   ]
  },
  {
   "cell_type": "code",
   "execution_count": 2,
   "metadata": {},
   "outputs": [],
   "source": [
    "# Definition for singly-linked list.\n",
    "class ListNode:\n",
    "    def __init__(self, x):\n",
    "        self.val = x\n",
    "        self.next = None\n",
    "\n",
    "class Solution:\n",
    "        \n",
    "    def mergeTwoLists(self, l1, l2):\n",
    "        \n",
    "        head = ListNode(None)\n",
    "        node = head\n",
    "        \n",
    "        while l1 and l2:\n",
    "            \n",
    "            if l1.val < l2.val:\n",
    "                node.next = ListNode(l1.val)\n",
    "                node = node.next\n",
    "                l1 = l1.next\n",
    "                \n",
    "            else:\n",
    "                node.next = ListNode(l2.val)\n",
    "                node = node.next\n",
    "                l2 = l2.next\n",
    "            \n",
    "        while l1:\n",
    "            node.next = ListNode(l1.val)\n",
    "            node = node.next\n",
    "            l1 = l1.next\n",
    "            \n",
    "        while l2:\n",
    "            node.next = ListNode(l2.val)\n",
    "            node = node.next\n",
    "            l2 = l2.next\n",
    "        \n",
    "        return head.next"
   ]
  }
 ],
 "metadata": {
  "kernelspec": {
   "display_name": "Python 3",
   "language": "python",
   "name": "python3"
  },
  "language_info": {
   "codemirror_mode": {
    "name": "ipython",
    "version": 3
   },
   "file_extension": ".py",
   "mimetype": "text/x-python",
   "name": "python",
   "nbconvert_exporter": "python",
   "pygments_lexer": "ipython3",
   "version": "3.6.8"
  }
 },
 "nbformat": 4,
 "nbformat_minor": 2
}
