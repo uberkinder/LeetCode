{
 "cells": [
  {
   "cell_type": "markdown",
   "metadata": {},
   "source": [
    "https://leetcode.com/problems/building-h2o/"
   ]
  },
  {
   "cell_type": "code",
   "execution_count": 1,
   "metadata": {},
   "outputs": [],
   "source": [
    "releaseHydrogen = lambda: print('H', end='')\n",
    "releaseOxygen = lambda: print('O', end='')"
   ]
  },
  {
   "cell_type": "markdown",
   "metadata": {},
   "source": [
    "# Solution"
   ]
  },
  {
   "cell_type": "code",
   "execution_count": 28,
   "metadata": {},
   "outputs": [],
   "source": [
    "class H2O:\n",
    "    def __init__(self):\n",
    "        self.H_queue = []\n",
    "        self.O_queue = []\n",
    "    \n",
    "    def check_barrier(self):\n",
    "        if len(self.H_queue) > 1 and self.O_queue:\n",
    "            self.H_queue.pop()()\n",
    "            self.O_queue.pop()()\n",
    "            self.H_queue.pop()()\n",
    "\n",
    "    def hydrogen(self, releaseHydrogen):\n",
    "        self.H_queue.append(releaseHydrogen)\n",
    "        self.check_barrier()\n",
    "\n",
    "    def oxygen(self, releaseOxygen):\n",
    "        self.O_queue.append(releaseOxygen)\n",
    "        self.check_barrier()"
   ]
  },
  {
   "cell_type": "code",
   "execution_count": 30,
   "metadata": {},
   "outputs": [
    {
     "name": "stdout",
     "output_type": "stream",
     "text": [
      "HOHHOHHOHHOHHOHHOHHOH"
     ]
    },
    {
     "ename": "KeyboardInterrupt",
     "evalue": "",
     "output_type": "error",
     "traceback": [
      "\u001b[0;31m-----------------------------------------------------------------\u001b[0m",
      "\u001b[0;31mKeyboardInterrupt\u001b[0m               Traceback (most recent call last)",
      "\u001b[0;32m<ipython-input-30-e331ef6cc85c>\u001b[0m in \u001b[0;36m<module>\u001b[0;34m\u001b[0m\n\u001b[1;32m      9\u001b[0m     \u001b[0;32melse\u001b[0m\u001b[0;34m:\u001b[0m\u001b[0;34m\u001b[0m\u001b[0;34m\u001b[0m\u001b[0m\n\u001b[1;32m     10\u001b[0m         \u001b[0mh2o\u001b[0m\u001b[0;34m.\u001b[0m\u001b[0mhydrogen\u001b[0m\u001b[0;34m(\u001b[0m\u001b[0mreleaseHydrogen\u001b[0m\u001b[0;34m)\u001b[0m\u001b[0;34m\u001b[0m\u001b[0;34m\u001b[0m\u001b[0m\n\u001b[0;32m---> 11\u001b[0;31m     \u001b[0mtime\u001b[0m\u001b[0;34m.\u001b[0m\u001b[0msleep\u001b[0m\u001b[0;34m(\u001b[0m\u001b[0;36m0.2\u001b[0m\u001b[0;34m)\u001b[0m\u001b[0;34m\u001b[0m\u001b[0;34m\u001b[0m\u001b[0m\n\u001b[0m",
      "\u001b[0;31mKeyboardInterrupt\u001b[0m: "
     ]
    }
   ],
   "source": [
    "import numpy as np\n",
    "import time\n",
    "\n",
    "h2o = H2O()\n",
    "\n",
    "while True:\n",
    "    if np.random.random() > 1/3:\n",
    "        h2o.oxygen(releaseOxygen)\n",
    "    else:\n",
    "        h2o.hydrogen(releaseHydrogen)\n",
    "    time.sleep(0.2)"
   ]
  }
 ],
 "metadata": {
  "kernelspec": {
   "display_name": "Python 3",
   "language": "python",
   "name": "python3"
  },
  "language_info": {
   "codemirror_mode": {
    "name": "ipython",
    "version": 3
   },
   "file_extension": ".py",
   "mimetype": "text/x-python",
   "name": "python",
   "nbconvert_exporter": "python",
   "pygments_lexer": "ipython3",
   "version": "3.6.8"
  }
 },
 "nbformat": 4,
 "nbformat_minor": 2
}
