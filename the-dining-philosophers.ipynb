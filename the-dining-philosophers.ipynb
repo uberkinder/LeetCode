{
 "cells": [
  {
   "cell_type": "markdown",
   "metadata": {},
   "source": [
    "https://leetcode.com/problems/the-dining-philosophers/"
   ]
  },
  {
   "cell_type": "code",
   "execution_count": 11,
   "metadata": {},
   "outputs": [],
   "source": [
    "from collections import deque\n",
    "\n",
    "class DiningPhilosophers:\n",
    "    \n",
    "    def __init__(self):\n",
    "        self.actions = deque()\n",
    "        \n",
    "    def feedTime(self):\n",
    "        while self.actions:\n",
    "            action = self.actions.popleft()\n",
    "            action()\n",
    "            \n",
    "    def wantsToEat(self, philosopher, *actions):\n",
    "        self.actions.extend(actions)\n",
    "        self.feedTime()"
   ]
  }
 ],
 "metadata": {
  "kernelspec": {
   "display_name": "Python 3",
   "language": "python",
   "name": "python3"
  },
  "language_info": {
   "codemirror_mode": {
    "name": "ipython",
    "version": 3
   },
   "file_extension": ".py",
   "mimetype": "text/x-python",
   "name": "python",
   "nbconvert_exporter": "python",
   "pygments_lexer": "ipython3",
   "version": "3.6.8"
  }
 },
 "nbformat": 4,
 "nbformat_minor": 2
}
