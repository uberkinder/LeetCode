{
 "cells": [
  {
   "cell_type": "markdown",
   "metadata": {},
   "source": [
    "https://leetcode.com/problems/queens-that-can-attack-the-king/"
   ]
  },
  {
   "cell_type": "raw",
   "metadata": {},
   "source": [
    "Runtime: 28 ms, faster than 100.00% of Python3 online submissions for Queens That Can Attack the King.\n",
    "\n",
    "Memory Usage: 12.8 MB, less than 100.00% of Python3 online submissions for Queens That Can Attack the King."
   ]
  },
  {
   "cell_type": "code",
   "execution_count": 6,
   "metadata": {},
   "outputs": [],
   "source": [
    "class Solution:\n",
    "    def queensAttacktheKing(self, queens, king):\n",
    "        \n",
    "        ans = []\n",
    "        \n",
    "        for dx in [-1, 0, 1]:\n",
    "            for dy in [-1, 0, 1]:\n",
    "                \n",
    "                if (dx, dy) == (0, 0):\n",
    "                    continue\n",
    "                \n",
    "                for k in range(1, 8):\n",
    "                    \n",
    "                    x, y = king[0] + dx*k, king[1] + dy*k\n",
    "                    \n",
    "                    if x in [-1, 8] or y in [-1, 8]:\n",
    "                        break\n",
    "                        \n",
    "                    mate = False\n",
    "                    \n",
    "                    for i in range(len(queens)):\n",
    "                        if [x, y] == queens[i]:\n",
    "                            ans.append(queens.pop(i))\n",
    "                            mate = True\n",
    "                            break\n",
    "                    \n",
    "                    if mate:\n",
    "                        break\n",
    "    \n",
    "        return ans"
   ]
  }
 ],
 "metadata": {
  "kernelspec": {
   "display_name": "Python 3",
   "language": "python",
   "name": "python3"
  },
  "language_info": {
   "codemirror_mode": {
    "name": "ipython",
    "version": 3
   },
   "file_extension": ".py",
   "mimetype": "text/x-python",
   "name": "python",
   "nbconvert_exporter": "python",
   "pygments_lexer": "ipython3",
   "version": "3.6.8"
  }
 },
 "nbformat": 4,
 "nbformat_minor": 2
}
