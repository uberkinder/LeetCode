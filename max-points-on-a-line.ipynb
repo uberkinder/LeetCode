{
 "cells": [
  {
   "cell_type": "markdown",
   "metadata": {},
   "source": [
    "https://leetcode.com/problems/max-points-on-a-line/"
   ]
  },
  {
   "cell_type": "code",
   "execution_count": 1,
   "metadata": {},
   "outputs": [],
   "source": [
    "%load_ext memory_profiler"
   ]
  },
  {
   "cell_type": "markdown",
   "metadata": {},
   "source": [
    "# Solution 1\n",
    "##### $O(n^2)$"
   ]
  },
  {
   "cell_type": "code",
   "execution_count": 137,
   "metadata": {},
   "outputs": [],
   "source": [
    "from collections import Counter\n",
    "from math import gcd\n",
    "import numpy as np\n",
    "\n",
    "\n",
    "def get_line(x0, y0, x1, y1):\n",
    "    \n",
    "    if y1 == y0:\n",
    "        return 0, 0, y0\n",
    "    \n",
    "    elif x1 != x0:\n",
    "        \n",
    "        a_num, a_den = (y1 - y0), (x1 - x0)\n",
    "        t = gcd(a_num, a_den) * np.sign(a_num)\n",
    "        \n",
    "        a_num //= t\n",
    "        a_den //= t\n",
    "        \n",
    "        b_num = y0*a_den - x0*a_num\n",
    "        return a_num, a_den, b_num\n",
    "    \n",
    "    else:\n",
    "        return x1\n",
    "    \n",
    "\n",
    "class Solution:\n",
    "    def maxPoints(self, points):\n",
    "        \n",
    "        # find all pairwise lines\n",
    "        n = len(points)\n",
    "        \n",
    "        if n < 3:\n",
    "            return n\n",
    "        \n",
    "        lines = []\n",
    "        for i in range(n):\n",
    "            xi, yi = points[i]\n",
    "            for j in range(i+1, n):\n",
    "                xj, yj = points[j]\n",
    "                \n",
    "                line = get_line(xi, yi, xj, yj)\n",
    "                lines.append(line)\n",
    "        \n",
    "        # find all unique lines\n",
    "        counter = Counter(lines)\n",
    "        N = max(counter.values())\n",
    "        \n",
    "        # solution for N = x(x-1)/2\n",
    "        x = int(np.ceil(((8*N + 1)**0.5 + 1)/2))\n",
    "        \n",
    "        return x"
   ]
  },
  {
   "cell_type": "code",
   "execution_count": 121,
   "metadata": {},
   "outputs": [
    {
     "name": "stdout",
     "output_type": "stream",
     "text": [
      "3\n",
      "4\n",
      "0\n",
      "3\n",
      "4\n"
     ]
    }
   ],
   "source": [
    "points = [[1,1],[2,2],[3,3]]\n",
    "print(Solution().maxPoints(points)) # 3\n",
    "\n",
    "points = [[1,1],[3,2],[5,3],[4,1],[2,3],[1,4]]\n",
    "print(Solution().maxPoints(points)) # 4\n",
    "\n",
    "points = []\n",
    "print(Solution().maxPoints(points)) # 0\n",
    "\n",
    "points = [[0,0],[1,1],[0,0]]\n",
    "print(Solution().maxPoints(points)) # 3\n",
    "\n",
    "points = [[3,1],[12,3],[3,1],[-6,-1]]\n",
    "print(Solution().maxPoints(points)) # 4"
   ]
  },
  {
   "cell_type": "code",
   "execution_count": 138,
   "metadata": {},
   "outputs": [
    {
     "name": "stdout",
     "output_type": "stream",
     "text": [
      "39.6 µs ± 1.04 µs per loop (mean ± std. dev. of 7 runs, 10000 loops each)\n",
      "peak memory: 60.35 MiB, increment: 0.00 MiB\n"
     ]
    }
   ],
   "source": [
    "%timeit Solution().maxPoints([[1,1],[3,2],[5,3],[4,1],[2,3],[1,4]])\n",
    "%memit Solution().maxPoints([[1,1],[3,2],[5,3],[4,1],[2,3],[1,4]])"
   ]
  },
  {
   "cell_type": "markdown",
   "metadata": {},
   "source": [
    "# Solution 2"
   ]
  },
  {
   "cell_type": "code",
   "execution_count": 139,
   "metadata": {},
   "outputs": [],
   "source": [
    "from collections import Counter\n",
    "from math import gcd\n",
    "import numpy as np\n",
    "\n",
    "\n",
    "def get_line(x0, y0, x1, y1):\n",
    "    \n",
    "    if y1 == y0:\n",
    "        return 0, 0, y0\n",
    "    \n",
    "    elif x1 != x0:\n",
    "        \n",
    "        a_num, a_den = (y1 - y0), (x1 - x0)\n",
    "        t = gcd(a_num, a_den) * np.sign(a_num)\n",
    "        \n",
    "        a_num //= t\n",
    "        a_den //= t\n",
    "        \n",
    "        b_num = y0*a_den - x0*a_num\n",
    "        return a_num, a_den, b_num\n",
    "    \n",
    "    else:\n",
    "        return 'i'\n",
    "    \n",
    "\n",
    "class Solution:\n",
    "    \n",
    "    def maxPoints(self, points):\n",
    "        \n",
    "        n = len(points)\n",
    "        max_points = 0\n",
    "        \n",
    "        for i in range(n):\n",
    "            xi, yi = points[i]\n",
    "            \n",
    "            lines = {'i': 1}\n",
    "            same = 0\n",
    "            \n",
    "            for j in range(i+1, n):\n",
    "                xj, yj = points[j]\n",
    "                \n",
    "                if xi == xj and yi == yj: \n",
    "                    same += 1\n",
    "                    continue\n",
    "                \n",
    "                line = get_line(xi, yi, xj, yj)\n",
    "                    \n",
    "                if line not in lines: \n",
    "                    lines[line] = 2\n",
    "                else:\n",
    "                    lines[line] += 1\n",
    "                \n",
    "            max_points = max(max_points, max(lines.values()) + same)\n",
    "            \n",
    "        return max_points"
   ]
  },
  {
   "cell_type": "code",
   "execution_count": 135,
   "metadata": {},
   "outputs": [
    {
     "name": "stdout",
     "output_type": "stream",
     "text": [
      "3\n",
      "4\n",
      "0\n",
      "3\n",
      "4\n"
     ]
    }
   ],
   "source": [
    "points = [[1,1],[2,2],[3,3]]\n",
    "print(Solution().maxPoints(points)) # 3\n",
    "\n",
    "points = [[1,1],[3,2],[5,3],[4,1],[2,3],[1,4]]\n",
    "print(Solution().maxPoints(points)) # 4\n",
    "\n",
    "points = []\n",
    "print(Solution().maxPoints(points)) # 0\n",
    "\n",
    "points = [[0,0],[1,1],[0,0]]\n",
    "print(Solution().maxPoints(points)) # 3\n",
    "\n",
    "points = [[3,1],[12,3],[3,1],[-6,-1]]\n",
    "print(Solution().maxPoints(points)) # 4"
   ]
  },
  {
   "cell_type": "code",
   "execution_count": 140,
   "metadata": {},
   "outputs": [
    {
     "name": "stdout",
     "output_type": "stream",
     "text": [
      "36.8 µs ± 379 ns per loop (mean ± std. dev. of 7 runs, 10000 loops each)\n",
      "peak memory: 60.35 MiB, increment: 0.00 MiB\n"
     ]
    }
   ],
   "source": [
    "%timeit Solution().maxPoints([[1,1],[3,2],[5,3],[4,1],[2,3],[1,4]])\n",
    "%memit Solution().maxPoints([[1,1],[3,2],[5,3],[4,1],[2,3],[1,4]])"
   ]
  }
 ],
 "metadata": {
  "kernelspec": {
   "display_name": "Python 3",
   "language": "python",
   "name": "python3"
  },
  "language_info": {
   "codemirror_mode": {
    "name": "ipython",
    "version": 3
   },
   "file_extension": ".py",
   "mimetype": "text/x-python",
   "name": "python",
   "nbconvert_exporter": "python",
   "pygments_lexer": "ipython3",
   "version": "3.6.8"
  }
 },
 "nbformat": 4,
 "nbformat_minor": 2
}
