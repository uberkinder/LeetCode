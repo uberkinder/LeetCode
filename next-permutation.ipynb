{
 "cells": [
  {
   "cell_type": "markdown",
   "metadata": {},
   "source": [
    "https://leetcode.com/problems/next-permutation/"
   ]
  },
  {
   "cell_type": "code",
   "execution_count": 146,
   "metadata": {},
   "outputs": [],
   "source": [
    "%load_ext memory_profiler"
   ]
  },
  {
   "cell_type": "markdown",
   "metadata": {},
   "source": [
    "# Solution 1"
   ]
  },
  {
   "cell_type": "code",
   "execution_count": 192,
   "metadata": {},
   "outputs": [],
   "source": [
    "class Solution:\n",
    "    def nextPermutation(self, nums):\n",
    "        n = len(nums)\n",
    "        for i in reversed(range(1, n)):\n",
    "            if nums[i-1] < nums[i]:\n",
    "                for j in reversed(range(i, n)):\n",
    "                    if nums[j] > nums[i-1]:\n",
    "                        nums[i-1], nums[j] = nums[j], nums[i-1]\n",
    "                        nums[i:] = nums[i:][::-1]\n",
    "                        break\n",
    "                break\n",
    "        else:\n",
    "            nums[:] = nums[::-1]"
   ]
  },
  {
   "cell_type": "code",
   "execution_count": 110,
   "metadata": {},
   "outputs": [
    {
     "name": "stdout",
     "output_type": "stream",
     "text": [
      "[1, 5, 3, 2]\n"
     ]
    }
   ],
   "source": [
    "nums = [1, 5, 2, 3]\n",
    "Solution().nextPermutation(nums)\n",
    "print(nums)"
   ]
  },
  {
   "cell_type": "code",
   "execution_count": 111,
   "metadata": {},
   "outputs": [
    {
     "name": "stdout",
     "output_type": "stream",
     "text": [
      "[5, 1, 2, 3]\n"
     ]
    }
   ],
   "source": [
    "nums = [3, 5, 2, 1]\n",
    "Solution().nextPermutation(nums)\n",
    "print(nums)"
   ]
  },
  {
   "cell_type": "code",
   "execution_count": 112,
   "metadata": {},
   "outputs": [
    {
     "name": "stdout",
     "output_type": "stream",
     "text": [
      "[1, 2, 5, 3]\n"
     ]
    }
   ],
   "source": [
    "nums = [1, 2, 3, 5]\n",
    "Solution().nextPermutation(nums)\n",
    "print(nums)"
   ]
  },
  {
   "cell_type": "code",
   "execution_count": 113,
   "metadata": {},
   "outputs": [
    {
     "name": "stdout",
     "output_type": "stream",
     "text": [
      "[1, 3, 7, 666]\n"
     ]
    }
   ],
   "source": [
    "nums = [666, 7, 3, 1]\n",
    "Solution().nextPermutation(nums)\n",
    "print(nums)"
   ]
  },
  {
   "cell_type": "code",
   "execution_count": 114,
   "metadata": {},
   "outputs": [
    {
     "name": "stdout",
     "output_type": "stream",
     "text": [
      "[3, 1, 2]\n"
     ]
    }
   ],
   "source": [
    "nums = [2,3,1]\n",
    "Solution().nextPermutation(nums)\n",
    "print(nums)"
   ]
  },
  {
   "cell_type": "code",
   "execution_count": 194,
   "metadata": {},
   "outputs": [
    {
     "name": "stdout",
     "output_type": "stream",
     "text": [
      "183 µs ± 3.44 µs per loop (mean ± std. dev. of 7 runs, 10000 loops each)\n"
     ]
    }
   ],
   "source": [
    "nums = list(range(5))\n",
    "%timeit [Solution().nextPermutation(nums) for i in range(100)]"
   ]
  },
  {
   "cell_type": "code",
   "execution_count": 193,
   "metadata": {},
   "outputs": [
    {
     "name": "stdout",
     "output_type": "stream",
     "text": [
      "peak memory: 69.86 MiB, increment: 0.00 MiB\n"
     ]
    }
   ],
   "source": [
    "nums = list(range(5))\n",
    "%memit [Solution().nextPermutation(nums) for i in range(100)]"
   ]
  },
  {
   "cell_type": "markdown",
   "metadata": {},
   "source": [
    "# Solution 2"
   ]
  },
  {
   "cell_type": "code",
   "execution_count": 188,
   "metadata": {},
   "outputs": [],
   "source": [
    "class Solution:\n",
    "    def nextPermutation(self, nums):\n",
    "        \n",
    "        nums[:] = nums[::-1]\n",
    "        x_old = False\n",
    "        \n",
    "        for i, x in enumerate(nums):\n",
    "            if x_old and x < x_old:\n",
    "                for j, y in enumerate(nums[:i]):\n",
    "                    if y > x:\n",
    "                        nums[i], nums[j] = nums[j], nums[i]\n",
    "                        nums[:i] = nums[:i][::-1]\n",
    "                        nums[:] = nums[::-1]\n",
    "                        break\n",
    "                break\n",
    "            else:\n",
    "                x_old = x"
   ]
  },
  {
   "cell_type": "code",
   "execution_count": 190,
   "metadata": {},
   "outputs": [
    {
     "name": "stdout",
     "output_type": "stream",
     "text": [
      "187 µs ± 846 ns per loop (mean ± std. dev. of 7 runs, 10000 loops each)\n"
     ]
    }
   ],
   "source": [
    "nums = list(range(5))\n",
    "%timeit [Solution().nextPermutation(nums) for i in range(100)]"
   ]
  },
  {
   "cell_type": "code",
   "execution_count": 191,
   "metadata": {},
   "outputs": [
    {
     "name": "stdout",
     "output_type": "stream",
     "text": [
      "peak memory: 69.86 MiB, increment: 0.00 MiB\n"
     ]
    }
   ],
   "source": [
    "nums = list(range(5))\n",
    "%memit [Solution().nextPermutation(nums) for i in range(100)]"
   ]
  }
 ],
 "metadata": {
  "kernelspec": {
   "display_name": "Python 3",
   "language": "python",
   "name": "python3"
  },
  "language_info": {
   "codemirror_mode": {
    "name": "ipython",
    "version": 3
   },
   "file_extension": ".py",
   "mimetype": "text/x-python",
   "name": "python",
   "nbconvert_exporter": "python",
   "pygments_lexer": "ipython3",
   "version": "3.6.8"
  }
 },
 "nbformat": 4,
 "nbformat_minor": 2
}
