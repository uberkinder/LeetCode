{
 "cells": [
  {
   "cell_type": "markdown",
   "metadata": {},
   "source": [
    "https://leetcode.com/problems/buddy-strings/"
   ]
  },
  {
   "cell_type": "raw",
   "metadata": {},
   "source": [
    "Runtime: 28 ms, faster than 98.91% of Python3 online submissions for Buddy Strings.\n",
    "Memory Usage: 12.8 MB, less than 100.00% of Python3 online submissions for Buddy Strings."
   ]
  },
  {
   "cell_type": "code",
   "execution_count": 1,
   "metadata": {},
   "outputs": [],
   "source": [
    "from collections import Counter\n",
    "\n",
    "class Solution:\n",
    "    def buddyStrings(self, A, B):\n",
    "        \n",
    "        # Different Lenght\n",
    "        if len(A) != len(B):\n",
    "            return False\n",
    "        \n",
    "        # Both empty\n",
    "        if len(A) == 0:\n",
    "            return False\n",
    "        \n",
    "        # Swap mistakes\n",
    "        corrections = []\n",
    "        flag = False\n",
    "        \n",
    "        for a, b in zip(A, B):\n",
    "            if a != b:\n",
    "                \n",
    "                if not corrections:\n",
    "                    corrections.append((a, b))\n",
    "                    \n",
    "                elif len(corrections) == 1:\n",
    "                    if (b, a) in corrections:\n",
    "                        corrections.append((a, b))\n",
    "                        flag = True\n",
    "                    else:\n",
    "                        return False\n",
    "                    \n",
    "                elif len(corrections) > 1:\n",
    "                    return False\n",
    "        \n",
    "        if len(corrections) == 1:\n",
    "            return False \n",
    "        \n",
    "        if flag:\n",
    "            return True\n",
    "        \n",
    "        # Swap same letters\n",
    "        count = Counter(A)\n",
    "        if count.most_common()[0][1] > 1:\n",
    "            return True\n",
    "        else:\n",
    "            return False"
   ]
  },
  {
   "cell_type": "code",
   "execution_count": 2,
   "metadata": {},
   "outputs": [
    {
     "data": {
      "text/plain": [
       "True"
      ]
     },
     "execution_count": 2,
     "metadata": {},
     "output_type": "execute_result"
    }
   ],
   "source": [
    "A = 'ab'\n",
    "B = 'ba'\n",
    "\n",
    "Solution().buddyStrings(A, B)"
   ]
  },
  {
   "cell_type": "code",
   "execution_count": 3,
   "metadata": {},
   "outputs": [
    {
     "data": {
      "text/plain": [
       "False"
      ]
     },
     "execution_count": 3,
     "metadata": {},
     "output_type": "execute_result"
    }
   ],
   "source": [
    "A = 'abs'\n",
    "B = 'abs'\n",
    "\n",
    "Solution().buddyStrings(A, B)"
   ]
  },
  {
   "cell_type": "code",
   "execution_count": 4,
   "metadata": {},
   "outputs": [
    {
     "data": {
      "text/plain": [
       "False"
      ]
     },
     "execution_count": 4,
     "metadata": {},
     "output_type": "execute_result"
    }
   ],
   "source": [
    "A = 'asdasf'\n",
    "B = 'asdasfw'\n",
    "\n",
    "Solution().buddyStrings(A, B)"
   ]
  },
  {
   "cell_type": "code",
   "execution_count": 5,
   "metadata": {},
   "outputs": [
    {
     "data": {
      "text/plain": [
       "True"
      ]
     },
     "execution_count": 5,
     "metadata": {},
     "output_type": "execute_result"
    }
   ],
   "source": [
    "A = 'asdasf'\n",
    "B = 'assadf'\n",
    "\n",
    "Solution().buddyStrings(A, B)"
   ]
  },
  {
   "cell_type": "code",
   "execution_count": 6,
   "metadata": {},
   "outputs": [
    {
     "data": {
      "text/plain": [
       "True"
      ]
     },
     "execution_count": 6,
     "metadata": {},
     "output_type": "execute_result"
    }
   ],
   "source": [
    "A = 'asdasf'\n",
    "B = 'asdasf'\n",
    "\n",
    "Solution().buddyStrings(A, B)"
   ]
  }
 ],
 "metadata": {
  "kernelspec": {
   "display_name": "Python 3",
   "language": "python",
   "name": "python3"
  },
  "language_info": {
   "codemirror_mode": {
    "name": "ipython",
    "version": 3
   },
   "file_extension": ".py",
   "mimetype": "text/x-python",
   "name": "python",
   "nbconvert_exporter": "python",
   "pygments_lexer": "ipython3",
   "version": "3.6.8"
  }
 },
 "nbformat": 4,
 "nbformat_minor": 2
}
