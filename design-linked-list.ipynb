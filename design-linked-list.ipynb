{
 "cells": [
  {
   "cell_type": "markdown",
   "metadata": {},
   "source": [
    "https://leetcode.com/problems/design-linked-list/"
   ]
  },
  {
   "cell_type": "markdown",
   "metadata": {},
   "source": [
    "# Solution 1\n",
    "#### Singly linked list \n",
    "`– Wrong Answer!`"
   ]
  },
  {
   "cell_type": "code",
   "execution_count": 118,
   "metadata": {},
   "outputs": [],
   "source": [
    "class Node:\n",
    "    \n",
    "    def __init__(self, val):\n",
    "        self.val = val\n",
    "        self.next = None\n",
    "        \n",
    "    def set_next(self, node):\n",
    "        self.next = node\n",
    "        return self\n",
    "\n",
    "\n",
    "class MyLinkedList:\n",
    "\n",
    "    def __init__(self):\n",
    "        \"\"\"\n",
    "        Initialize your data structure here.\n",
    "        \"\"\"\n",
    "        self.first_node = None\n",
    "        self.lenght = 0\n",
    "        \n",
    "    def _get_node(self, index):\n",
    "        \n",
    "        #if not (-self.lenght <= index < self.lenght):\n",
    "        #    return\n",
    "        #else:\n",
    "        #    index %= self.lenght\n",
    "        if not (0 <= index < self.lenght):\n",
    "            return\n",
    "        \n",
    "        node = self.first_node\n",
    "        for i in range(index):\n",
    "            node = node.next\n",
    "        return node\n",
    "        \n",
    "\n",
    "    def get(self, index):\n",
    "        \"\"\"\n",
    "        Get the value of the index-th node in the linked list. \n",
    "        If the index is invalid, return -1.\n",
    "        \"\"\"\n",
    "        node = self._get_node(index)\n",
    "        return node.val if node else -1\n",
    "    \n",
    "\n",
    "    def addAtHead(self, val):\n",
    "        \"\"\"\n",
    "        Add a node of value val before the first element of the linked list. \n",
    "        After the insertion, the new node will be the first node of the linked list.\n",
    "        \"\"\"\n",
    "        self.first_node = Node(val).set_next(self.first_node)\n",
    "        self.lenght += 1\n",
    "        return\n",
    "        \n",
    "\n",
    "    def addAtTail(self, val):\n",
    "        \"\"\"\n",
    "        Append a node of value val to the last element of the linked list.\n",
    "        \"\"\"\n",
    "        if self.lenght == 0:\n",
    "            return addAtHead(val)\n",
    "        last_node = self._get_node(self.lenght-1)\n",
    "        last_node.set_next(Node(val))\n",
    "        self.lenght += 1\n",
    "        return\n",
    "        \n",
    "\n",
    "    def addAtIndex(self, index, val):\n",
    "        \"\"\"\n",
    "        Add a node of value val before the index-th node in the linked list. \n",
    "        If index equals to the length of linked list, the node will be appended \n",
    "        to the end of linked list. If index is greater than the length, the node \n",
    "        will not be inserted.\n",
    "        \"\"\"\n",
    "        \n",
    "        if index == 0:\n",
    "            return self.addAtHead(val)\n",
    "        \n",
    "        elif index == self.lenght:\n",
    "            return self.addAtTail(val)\n",
    "            \n",
    "        prev_node = self._get_node(index-1)\n",
    "        if not prev_node:\n",
    "            return\n",
    "        \n",
    "        next_node = prev_node.next\n",
    "        node = Node(val).set_next(next_node)\n",
    "        prev_node.set_next(node)\n",
    "        self.lenght += 1\n",
    "        return\n",
    "        \n",
    "\n",
    "    def deleteAtIndex(self, index):\n",
    "        \"\"\"\n",
    "        Delete the index-th node in the linked list, if the index is valid.\n",
    "        \"\"\"\n",
    "        if self.lenght is 0:\n",
    "            return\n",
    "        \n",
    "        if index is 0:\n",
    "            self.first_node = self.first_node.next\n",
    "            return\n",
    "            \n",
    "        prev_node = self._get_node(index-1)\n",
    "        if not prev_node:\n",
    "            return\n",
    "        \n",
    "        node = prev_node.next\n",
    "        next_node = getattr(node, 'next', None)\n",
    "        prev_node.set_next(next_node)\n",
    "        self.lenght -= 1"
   ]
  },
  {
   "cell_type": "code",
   "execution_count": 80,
   "metadata": {},
   "outputs": [
    {
     "name": "stdout",
     "output_type": "stream",
     "text": [
      "2\n",
      "3\n"
     ]
    }
   ],
   "source": [
    "a = MyLinkedList()\n",
    "a.addAtHead(1)\n",
    "a.addAtTail(3)\n",
    "a.addAtIndex(1, 2) # linked list becomes 1->2->3\n",
    "print(a.get(1))    # returns 2\n",
    "a.deleteAtIndex(1) # now the linked list is 1->3\n",
    "print(a.get(1))    # returns 3"
   ]
  },
  {
   "cell_type": "code",
   "execution_count": 87,
   "metadata": {},
   "outputs": [
    {
     "name": "stdout",
     "output_type": "stream",
     "text": [
      "-1\n",
      "-1\n",
      "-1\n",
      "1\n",
      "-1\n"
     ]
    }
   ],
   "source": [
    "a = MyLinkedList()\n",
    "print(a.get(0))    # returns -1\n",
    "a.addAtIndex(1, 2) # linked list becomes {}\n",
    "print(a.get(0))    # returns -1\n",
    "print(a.get(1))    # returns -1\n",
    "a.addAtIndex(0, 1) # linked list becomes 1\n",
    "print(a.get(0))    # returns 1\n",
    "print(a.get(1))    # returns -1"
   ]
  },
  {
   "cell_type": "code",
   "execution_count": 103,
   "metadata": {},
   "outputs": [],
   "source": [
    "a = MyLinkedList()\n",
    "a.addAtHead(0)     # linked list becomes 0\n",
    "a.addAtIndex(1, 9) # linked list becomes 0->9\n",
    "a.addAtIndex(1, 5) # linked list becomes 0->5->9\n",
    "a.addAtTail(7)     # linked list becomes 0->5->9->7\n",
    "a.addAtHead(1)     # linked list becomes 1->0->5->9->7\n",
    "a.addAtIndex(5, 8) # linked list becomes 1->0->5->9->7->8\n",
    "a.addAtIndex(5, 2) # linked list becomes 1->0->5->9->7->2->8\n",
    "a.addAtIndex(3, 0) # linked list becomes 1->0->5->0->9->7->2->8\n",
    "a.addAtTail(1)     # linked list becomes 1->0->5->0->9->7->2->8->1\n",
    "a.addAtTail(0)     # linked list becomes 1->0->5->0->9->7->2->8->1->0\n",
    "a.deleteAtIndex(6) # linked list becomes 1->0->5->0->9->7->8->1->0"
   ]
  },
  {
   "cell_type": "code",
   "execution_count": 108,
   "metadata": {},
   "outputs": [],
   "source": [
    "a = MyLinkedList()\n",
    "a.addAtHead(1)     # linked list becomes 1\n",
    "a.deleteAtIndex(0) # linked list becomes {}"
   ]
  },
  {
   "cell_type": "code",
   "execution_count": 109,
   "metadata": {},
   "outputs": [],
   "source": [
    "node = a.first_node\n",
    "while node:\n",
    "    print(node.val)\n",
    "    node = node.next"
   ]
  },
  {
   "cell_type": "code",
   "execution_count": 38,
   "metadata": {},
   "outputs": [
    {
     "data": {
      "text/plain": [
       "0"
      ]
     },
     "execution_count": 38,
     "metadata": {},
     "output_type": "execute_result"
    }
   ],
   "source": [
    "a._get_node(-1).val"
   ]
  },
  {
   "cell_type": "code",
   "execution_count": 119,
   "metadata": {},
   "outputs": [
    {
     "name": "stdout",
     "output_type": "stream",
     "text": [
      "-1\n",
      "-1\n"
     ]
    }
   ],
   "source": [
    "a = MyLinkedList()\n",
    "a.addAtHead(1)     # linked list becomes 1\n",
    "a.addAtTail(3)     # linked list becomes 1->3\n",
    "a.addAtIndex(1, 2) # linked list becomes 1->2->3\n",
    "print(a.get(-1))    # returns -1\n",
    "a.deleteAtIndex(1)\n",
    "print(a.get(-3))    # returns -1"
   ]
  },
  {
   "cell_type": "markdown",
   "metadata": {},
   "source": [
    "# Solution 2\n",
    "#### Doubly linked list\n",
    "`– Accepted!`"
   ]
  },
  {
   "cell_type": "code",
   "execution_count": 222,
   "metadata": {},
   "outputs": [],
   "source": [
    "class Node:\n",
    "    \n",
    "    def __init__(self, val):\n",
    "        self.val = val\n",
    "        self.next = None\n",
    "        self.prev = None\n",
    "\n",
    "\n",
    "class MyLinkedList:\n",
    "\n",
    "    def __init__(self):\n",
    "        \"\"\"\n",
    "        Initialize your data structure here.\n",
    "        \"\"\"\n",
    "        self.init_node = Node(None)\n",
    "        self.init_node.next = self.init_node\n",
    "        self.init_node.prev = self.init_node\n",
    "        self.size = 0\n",
    "        \n",
    "        \n",
    "    def _get_node(self, index):\n",
    "        \n",
    "        if not (0 <= index < self.size):\n",
    "            return\n",
    "        \n",
    "        node = self.init_node\n",
    "        \n",
    "        if index < self.size / 2:\n",
    "            for i in range(index+1):\n",
    "                node = node.next\n",
    "        else:\n",
    "            index = self.size - index\n",
    "            for i in range(index):\n",
    "                node = node.prev\n",
    "                \n",
    "        return node\n",
    "        \n",
    "\n",
    "    def get(self, index):\n",
    "        \"\"\"\n",
    "        Get the value of the index-th node in the linked list. \n",
    "        If the index is invalid, return -1.\n",
    "        \"\"\"\n",
    "        node = self._get_node(index)\n",
    "        return node.val if node else -1\n",
    "    \n",
    "\n",
    "    def addAtHead(self, val):\n",
    "        \"\"\"\n",
    "        Add a node of value val before the first element of the linked list. \n",
    "        After the insertion, the new node will be the first node of the linked list.\n",
    "        \"\"\"\n",
    "        node = Node(val)\n",
    "        node.prev = self.init_node\n",
    "        node.next = self.init_node.next\n",
    "        \n",
    "        self.init_node.next.prev = node\n",
    "        self.init_node.next = node\n",
    "        self.size += 1\n",
    "        return\n",
    "        \n",
    "\n",
    "    def addAtTail(self, val):\n",
    "        \"\"\"\n",
    "        Append a node of value val to the last element of the linked list.\n",
    "        \"\"\"\n",
    "        node = Node(val)\n",
    "        node.next = self.init_node\n",
    "        node.prev = self.init_node.prev\n",
    "       \n",
    "        self.init_node.prev.next = node\n",
    "        self.init_node.prev = node\n",
    "        self.size += 1\n",
    "        return\n",
    "        \n",
    "\n",
    "    def addAtIndex(self, index, val):\n",
    "        \"\"\"\n",
    "        Add a node of value val before the index-th node in the linked list. \n",
    "        If index equals to the length of linked list, the node will be appended \n",
    "        to the end of linked list. If index is greater than the length, the node \n",
    "        will not be inserted.\n",
    "        \"\"\"\n",
    "        \n",
    "        if index < 1:\n",
    "            return self.addAtHead(val)\n",
    "        elif index == self.size:\n",
    "            return self.addAtTail(val)\n",
    "        elif index > self.size:\n",
    "            return\n",
    "            \n",
    "        prev_node = self._get_node(index-1)\n",
    "        if not prev_node:\n",
    "            return\n",
    "        \n",
    "        next_node = prev_node.next\n",
    "        \n",
    "        node = Node(val)\n",
    "        node.prev = prev_node\n",
    "        node.next = next_node\n",
    "        \n",
    "        prev_node.next = node\n",
    "        next_node.prev = node\n",
    "        self.size += 1\n",
    "        return\n",
    "        \n",
    "\n",
    "    def deleteAtIndex(self, index):\n",
    "        \"\"\"\n",
    "        Delete the index-th node in the linked list, if the index is valid.\n",
    "        \"\"\"\n",
    "        if self.size is 0:\n",
    "            return\n",
    "        \n",
    "        node = self._get_node(index)\n",
    "        if not node:\n",
    "            return\n",
    "        \n",
    "        node.next.prev = node.prev\n",
    "        node.prev.next = node.next\n",
    "        self.size -= 1"
   ]
  },
  {
   "cell_type": "code",
   "execution_count": 223,
   "metadata": {},
   "outputs": [],
   "source": [
    "a = MyLinkedList()\n",
    "a.addAtHead(0)     # linked list becomes 0\n",
    "a.addAtIndex(1, 9) # linked list becomes 0->9\n",
    "a.addAtIndex(1, 5) # linked list becomes 0->5->9\n",
    "a.addAtTail(7)     # linked list becomes 0->5->9->7\n",
    "a.addAtHead(1)     # linked list becomes 1->0->5->9->7\n",
    "a.addAtIndex(5, 8) # linked list becomes 1->0->5->9->7->8\n",
    "a.addAtIndex(5, 2) # linked list becomes 1->0->5->9->7->2->8\n",
    "a.addAtIndex(3, 0) # linked list becomes 1->0->5->0->9->7->2->8\n",
    "a.addAtTail(1)     # linked list becomes 1->0->5->0->9->7->2->8->1\n",
    "a.addAtTail(0)     # linked list becomes 1->0->5->0->9->7->2->8->1->0\n",
    "a.deleteAtIndex(6) # linked list becomes 1->0->5->0->9->7->8->1->0"
   ]
  },
  {
   "cell_type": "code",
   "execution_count": 226,
   "metadata": {},
   "outputs": [
    {
     "name": "stdout",
     "output_type": "stream",
     "text": [
      "1\n",
      "0\n",
      "5\n",
      "0\n",
      "9\n",
      "7\n",
      "8\n",
      "1\n",
      "0\n"
     ]
    }
   ],
   "source": [
    "i = 0\n",
    "while a.get(i) > -1:\n",
    "    print(a.get(i))\n",
    "    i += 1"
   ]
  },
  {
   "cell_type": "code",
   "execution_count": 228,
   "metadata": {},
   "outputs": [
    {
     "data": {
      "text/plain": [
       "0"
      ]
     },
     "execution_count": 228,
     "metadata": {},
     "output_type": "execute_result"
    }
   ],
   "source": [
    "a.init_node.val\n",
    "a.init_node.next.val\n",
    "a.init_node.next.next.val"
   ]
  },
  {
   "cell_type": "code",
   "execution_count": 229,
   "metadata": {},
   "outputs": [
    {
     "name": "stdout",
     "output_type": "stream",
     "text": [
      "-1\n",
      "-1\n"
     ]
    }
   ],
   "source": [
    "a = MyLinkedList()\n",
    "a.addAtHead(1)     # linked list becomes 1\n",
    "a.addAtTail(3)     # linked list becomes 1->3\n",
    "a.addAtIndex(1, 2) # linked list becomes 1->2->3\n",
    "print(a.get(-1))    # returns 2\n",
    "a.deleteAtIndex(1)\n",
    "print(a.get(-3))    # return 3"
   ]
  },
  {
   "cell_type": "code",
   "execution_count": 230,
   "metadata": {},
   "outputs": [
    {
     "name": "stdout",
     "output_type": "stream",
     "text": [
      "1\n",
      "3\n"
     ]
    }
   ],
   "source": [
    "node = a.init_node.next\n",
    "while node.val is not None:\n",
    "    print(node.val)\n",
    "    node = node.next"
   ]
  },
  {
   "cell_type": "code",
   "execution_count": 231,
   "metadata": {},
   "outputs": [
    {
     "data": {
      "text/plain": [
       "(1, 3, -1)"
      ]
     },
     "execution_count": 231,
     "metadata": {},
     "output_type": "execute_result"
    }
   ],
   "source": [
    "a.get(0), a.get(1), a.get(2)"
   ]
  },
  {
   "cell_type": "code",
   "execution_count": 232,
   "metadata": {},
   "outputs": [
    {
     "name": "stdout",
     "output_type": "stream",
     "text": [
      "-1\n",
      "-1\n",
      "-1\n",
      "1\n",
      "-1\n"
     ]
    }
   ],
   "source": [
    "a = MyLinkedList()\n",
    "print(a.get(0))    # returns -1\n",
    "a.addAtIndex(1, 2) # linked list becomes {}\n",
    "print(a.get(0))    # returns -1\n",
    "print(a.get(1))    # returns -1\n",
    "a.addAtIndex(0, 1) # linked list becomes 1\n",
    "print(a.get(0))    # returns 1\n",
    "print(a.get(1))    # returns -1"
   ]
  },
  {
   "cell_type": "code",
   "execution_count": 233,
   "metadata": {},
   "outputs": [
    {
     "name": "stdout",
     "output_type": "stream",
     "text": [
      "0\n"
     ]
    }
   ],
   "source": [
    "a = MyLinkedList()\n",
    "a.addAtIndex(-1, 0) \n",
    "print(a.get(0))\n",
    "a.deleteAtIndex(-1)"
   ]
  }
 ],
 "metadata": {
  "kernelspec": {
   "display_name": "Python 3",
   "language": "python",
   "name": "python3"
  },
  "language_info": {
   "codemirror_mode": {
    "name": "ipython",
    "version": 3
   },
   "file_extension": ".py",
   "mimetype": "text/x-python",
   "name": "python",
   "nbconvert_exporter": "python",
   "pygments_lexer": "ipython3",
   "version": "3.6.8"
  }
 },
 "nbformat": 4,
 "nbformat_minor": 2
}
