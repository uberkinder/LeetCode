{
 "cells": [
  {
   "cell_type": "markdown",
   "metadata": {},
   "source": [
    "https://leetcode.com/problems/minimum-moves-to-equal-array-elements/"
   ]
  },
  {
   "cell_type": "markdown",
   "metadata": {},
   "source": [
    "# Baseline"
   ]
  },
  {
   "cell_type": "raw",
   "metadata": {},
   "source": [
    "Runtime: 268 ms, faster than 94.90% of Python3 online submissions for Minimum Moves to Equal Array Elements.\n",
    "Memory Usage: 13.8 MB, less than 100.00% of Python3 online submissions for Minimum Moves to Equal Array Elements."
   ]
  },
  {
   "cell_type": "code",
   "execution_count": 2,
   "metadata": {},
   "outputs": [],
   "source": [
    "class Solution:\n",
    "    def minMoves(self, nums):\n",
    "        \n",
    "        min_num = min(nums)\n",
    "        moves = 0\n",
    "        \n",
    "        for num in nums:\n",
    "            moves += num-min_num\n",
    "        \n",
    "        return moves"
   ]
  },
  {
   "cell_type": "code",
   "execution_count": 7,
   "metadata": {},
   "outputs": [
    {
     "name": "stdout",
     "output_type": "stream",
     "text": [
      "4973786\n",
      "CPU times: user 2.9 ms, sys: 124 µs, total: 3.02 ms\n",
      "Wall time: 2.87 ms\n"
     ]
    }
   ],
   "source": [
    "%%time\n",
    "import numpy as np\n",
    "\n",
    "rstate = np.random.RandomState(0)\n",
    "nums = rstate.randint(1000, size=10000)\n",
    "\n",
    "print(Solution().minMoves(nums))"
   ]
  }
 ],
 "metadata": {
  "kernelspec": {
   "display_name": "Python 3",
   "language": "python",
   "name": "python3"
  },
  "language_info": {
   "codemirror_mode": {
    "name": "ipython",
    "version": 3
   },
   "file_extension": ".py",
   "mimetype": "text/x-python",
   "name": "python",
   "nbconvert_exporter": "python",
   "pygments_lexer": "ipython3",
   "version": "3.6.8"
  }
 },
 "nbformat": 4,
 "nbformat_minor": 2
}
