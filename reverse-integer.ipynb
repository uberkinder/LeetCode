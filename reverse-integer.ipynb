{
 "cells": [
  {
   "cell_type": "markdown",
   "metadata": {},
   "source": [
    "https://leetcode.com/problems/reverse-integer/"
   ]
  },
  {
   "cell_type": "code",
   "execution_count": 21,
   "metadata": {},
   "outputs": [],
   "source": [
    "f = lambda x: x if -2**31 < x < 2**31-1 else 0\n",
    "\n",
    "class Solution:\n",
    "    def reverse(self, x):\n",
    "        return f((-1 if x < 0 else 1)*int(str(abs(x))[::-1]))"
   ]
  },
  {
   "cell_type": "code",
   "execution_count": 24,
   "metadata": {},
   "outputs": [
    {
     "name": "stdout",
     "output_type": "stream",
     "text": [
      "241\n",
      "-98413\n",
      "1563847412\n",
      "0\n"
     ]
    }
   ],
   "source": [
    "print(Solution().reverse(142))\n",
    "print(Solution().reverse(-31489))\n",
    "print(Solution().reverse(2147483651))\n",
    "print(Solution().reverse(2147483652))"
   ]
  }
 ],
 "metadata": {
  "kernelspec": {
   "display_name": "Python 3",
   "language": "python",
   "name": "python3"
  },
  "language_info": {
   "codemirror_mode": {
    "name": "ipython",
    "version": 3
   },
   "file_extension": ".py",
   "mimetype": "text/x-python",
   "name": "python",
   "nbconvert_exporter": "python",
   "pygments_lexer": "ipython3",
   "version": "3.6.8"
  }
 },
 "nbformat": 4,
 "nbformat_minor": 2
}
