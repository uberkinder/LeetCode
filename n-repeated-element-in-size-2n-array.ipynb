{
 "cells": [
  {
   "cell_type": "markdown",
   "metadata": {},
   "source": [
    "https://leetcode.com/problems/n-repeated-element-in-size-2n-array/"
   ]
  },
  {
   "cell_type": "code",
   "execution_count": 1,
   "metadata": {},
   "outputs": [],
   "source": [
    "%load_ext memory_profiler"
   ]
  },
  {
   "cell_type": "markdown",
   "metadata": {},
   "source": [
    "# Solution 1"
   ]
  },
  {
   "cell_type": "code",
   "execution_count": 2,
   "metadata": {},
   "outputs": [],
   "source": [
    "from collections import Counter\n",
    "\n",
    "class Solution:\n",
    "    def repeatedNTimes(self, A):\n",
    "        return Counter(A).most_common(1)[0][0]"
   ]
  },
  {
   "cell_type": "code",
   "execution_count": 3,
   "metadata": {},
   "outputs": [
    {
     "name": "stdout",
     "output_type": "stream",
     "text": [
      "5\n",
      "3\n",
      "9\n"
     ]
    }
   ],
   "source": [
    "print(Solution().repeatedNTimes([5,1,5,2,5,3,5,4])) # 5\n",
    "print(Solution().repeatedNTimes([1,2,3,3])) # 3\n",
    "print(Solution().repeatedNTimes([9,5,6,9])) # 9"
   ]
  },
  {
   "cell_type": "code",
   "execution_count": 4,
   "metadata": {
    "scrolled": true
   },
   "outputs": [
    {
     "name": "stdout",
     "output_type": "stream",
     "text": [
      "5.89 µs ± 424 ns per loop (mean ± std. dev. of 7 runs, 100000 loops each)\n",
      "peak memory: 58.53 MiB, increment: -0.11 MiB\n"
     ]
    }
   ],
   "source": [
    "%timeit Solution().repeatedNTimes([5,1,5,2,5,3,5,4])\n",
    "%memit Solution().repeatedNTimes([5,1,5,2,5,3,5,4])"
   ]
  },
  {
   "cell_type": "markdown",
   "metadata": {},
   "source": [
    "# Solution 2"
   ]
  },
  {
   "cell_type": "code",
   "execution_count": 5,
   "metadata": {},
   "outputs": [],
   "source": [
    "class Solution:\n",
    "    def repeatedNTimes(self, A):\n",
    "        n = len(A) // 2\n",
    "        counter = {}\n",
    "        for x in A:\n",
    "            if x in counter:\n",
    "                counter[x] += 1\n",
    "                if counter[x] == n:\n",
    "                    return x\n",
    "            else:\n",
    "                counter[x] = 1"
   ]
  },
  {
   "cell_type": "code",
   "execution_count": 6,
   "metadata": {},
   "outputs": [
    {
     "name": "stdout",
     "output_type": "stream",
     "text": [
      "5\n",
      "3\n",
      "9\n"
     ]
    }
   ],
   "source": [
    "print(Solution().repeatedNTimes([5,1,5,2,5,3,5,4])) # 5\n",
    "print(Solution().repeatedNTimes([1,2,3,3])) # 3\n",
    "print(Solution().repeatedNTimes([9,5,6,9])) # 9"
   ]
  },
  {
   "cell_type": "code",
   "execution_count": 7,
   "metadata": {},
   "outputs": [
    {
     "name": "stdout",
     "output_type": "stream",
     "text": [
      "1.17 µs ± 21.5 ns per loop (mean ± std. dev. of 7 runs, 1000000 loops each)\n",
      "peak memory: 58.61 MiB, increment: 0.00 MiB\n"
     ]
    }
   ],
   "source": [
    "%timeit Solution().repeatedNTimes([5,1,5,2,5,3,5,4])\n",
    "%memit Solution().repeatedNTimes([5,1,5,2,5,3,5,4])"
   ]
  },
  {
   "cell_type": "markdown",
   "metadata": {},
   "source": [
    "# Solution 3"
   ]
  },
  {
   "cell_type": "code",
   "execution_count": 8,
   "metadata": {},
   "outputs": [],
   "source": [
    "class Solution:\n",
    "    def repeatedNTimes(self, A):\n",
    "        n = len(A) // 2\n",
    "        counter = 0\n",
    "        A.sort()\n",
    "        x_old = None\n",
    "        for x in A:\n",
    "            if x == x_old:\n",
    "                counter += 1\n",
    "                if counter == n:\n",
    "                    return x\n",
    "            else:\n",
    "                counter = 1\n",
    "                x_old = x"
   ]
  },
  {
   "cell_type": "code",
   "execution_count": 9,
   "metadata": {},
   "outputs": [
    {
     "name": "stdout",
     "output_type": "stream",
     "text": [
      "5\n",
      "3\n",
      "9\n"
     ]
    }
   ],
   "source": [
    "print(Solution().repeatedNTimes([5,1,5,2,5,3,5,4])) # 5\n",
    "print(Solution().repeatedNTimes([1,2,3,3])) # 3\n",
    "print(Solution().repeatedNTimes([9,5,6,9])) # 9"
   ]
  },
  {
   "cell_type": "code",
   "execution_count": 10,
   "metadata": {},
   "outputs": [
    {
     "name": "stdout",
     "output_type": "stream",
     "text": [
      "1.16 µs ± 34.2 ns per loop (mean ± std. dev. of 7 runs, 1000000 loops each)\n",
      "peak memory: 58.66 MiB, increment: 0.00 MiB\n"
     ]
    }
   ],
   "source": [
    "%timeit Solution().repeatedNTimes([5,1,5,2,5,3,5,4])\n",
    "%memit Solution().repeatedNTimes([5,1,5,2,5,3,5,4])"
   ]
  },
  {
   "cell_type": "markdown",
   "metadata": {},
   "source": [
    "# Solution 4"
   ]
  },
  {
   "cell_type": "code",
   "execution_count": 15,
   "metadata": {},
   "outputs": [],
   "source": [
    "class Solution:\n",
    "    def repeatedNTimes(self, A):\n",
    "        last = A[-2:]\n",
    "        for x in A:\n",
    "            if x in last:\n",
    "                return x\n",
    "            else:\n",
    "                last = [last[-1], x]"
   ]
  },
  {
   "cell_type": "code",
   "execution_count": 16,
   "metadata": {},
   "outputs": [
    {
     "name": "stdout",
     "output_type": "stream",
     "text": [
      "5\n",
      "3\n",
      "9\n"
     ]
    }
   ],
   "source": [
    "print(Solution().repeatedNTimes([5,1,5,2,5,3,5,4])) # 5\n",
    "print(Solution().repeatedNTimes([1,2,3,3])) # 3\n",
    "print(Solution().repeatedNTimes([9,5,6,9])) # 9"
   ]
  },
  {
   "cell_type": "code",
   "execution_count": 17,
   "metadata": {},
   "outputs": [
    {
     "name": "stdout",
     "output_type": "stream",
     "text": [
      "441 ns ± 9.89 ns per loop (mean ± std. dev. of 7 runs, 1000000 loops each)\n",
      "peak memory: 58.71 MiB, increment: 0.00 MiB\n"
     ]
    }
   ],
   "source": [
    "%timeit Solution().repeatedNTimes([5,1,5,2,5,3,5,4])\n",
    "%memit Solution().repeatedNTimes([5,1,5,2,5,3,5,4])"
   ]
  },
  {
   "cell_type": "markdown",
   "metadata": {},
   "source": [
    "# Solution 5"
   ]
  },
  {
   "cell_type": "code",
   "execution_count": 18,
   "metadata": {},
   "outputs": [],
   "source": [
    "class Solution:\n",
    "    def repeatedNTimes(self, A):\n",
    "        uniq = set()\n",
    "        for x in A:\n",
    "            if x not in uniq:\n",
    "                uniq.add(x)\n",
    "            else:\n",
    "                return x"
   ]
  },
  {
   "cell_type": "code",
   "execution_count": 19,
   "metadata": {},
   "outputs": [
    {
     "name": "stdout",
     "output_type": "stream",
     "text": [
      "5\n",
      "3\n",
      "9\n"
     ]
    }
   ],
   "source": [
    "print(Solution().repeatedNTimes([5,1,5,2,5,3,5,4])) # 5\n",
    "print(Solution().repeatedNTimes([1,2,3,3])) # 3\n",
    "print(Solution().repeatedNTimes([9,5,6,9])) # 9"
   ]
  },
  {
   "cell_type": "code",
   "execution_count": 20,
   "metadata": {},
   "outputs": [
    {
     "name": "stdout",
     "output_type": "stream",
     "text": [
      "638 ns ± 16.1 ns per loop (mean ± std. dev. of 7 runs, 1000000 loops each)\n",
      "peak memory: 58.72 MiB, increment: 0.00 MiB\n"
     ]
    }
   ],
   "source": [
    "%timeit Solution().repeatedNTimes([5,1,5,2,5,3,5,4])\n",
    "%memit Solution().repeatedNTimes([5,1,5,2,5,3,5,4])"
   ]
  },
  {
   "cell_type": "markdown",
   "metadata": {},
   "source": [
    "# Solution 6"
   ]
  },
  {
   "cell_type": "code",
   "execution_count": 21,
   "metadata": {},
   "outputs": [],
   "source": [
    "import heapq\n",
    "\n",
    "class Solution:\n",
    "    def repeatedNTimes(self, A):\n",
    "        uniq = []\n",
    "        for x in A:\n",
    "            if x not in uniq:\n",
    "                heapq.heappush(uniq, x)\n",
    "            else:\n",
    "                return x"
   ]
  },
  {
   "cell_type": "code",
   "execution_count": 22,
   "metadata": {},
   "outputs": [
    {
     "name": "stdout",
     "output_type": "stream",
     "text": [
      "5\n",
      "3\n",
      "9\n"
     ]
    }
   ],
   "source": [
    "print(Solution().repeatedNTimes([5,1,5,2,5,3,5,4])) # 5\n",
    "print(Solution().repeatedNTimes([1,2,3,3])) # 3\n",
    "print(Solution().repeatedNTimes([9,5,6,9])) # 9"
   ]
  },
  {
   "cell_type": "code",
   "execution_count": 24,
   "metadata": {},
   "outputs": [
    {
     "name": "stdout",
     "output_type": "stream",
     "text": [
      "713 ns ± 8.63 ns per loop (mean ± std. dev. of 7 runs, 1000000 loops each)\n",
      "peak memory: 58.73 MiB, increment: 0.00 MiB\n"
     ]
    }
   ],
   "source": [
    "%timeit Solution().repeatedNTimes([5,1,5,2,5,3,5,4])\n",
    "%memit Solution().repeatedNTimes([5,1,5,2,5,3,5,4])"
   ]
  }
 ],
 "metadata": {
  "kernelspec": {
   "display_name": "Python 3",
   "language": "python",
   "name": "python3"
  },
  "language_info": {
   "codemirror_mode": {
    "name": "ipython",
    "version": 3
   },
   "file_extension": ".py",
   "mimetype": "text/x-python",
   "name": "python",
   "nbconvert_exporter": "python",
   "pygments_lexer": "ipython3",
   "version": "3.6.8"
  }
 },
 "nbformat": 4,
 "nbformat_minor": 2
}
