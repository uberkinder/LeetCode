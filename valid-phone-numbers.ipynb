{
 "cells": [
  {
   "cell_type": "markdown",
   "metadata": {},
   "source": [
    "https://leetcode.com/problems/valid-phone-numbers/"
   ]
  },
  {
   "cell_type": "raw",
   "metadata": {},
   "source": [
    "FILE='file.txt'\n",
    "while IFS= read -r line; do\n",
    "    #if [[ $line =~ ^[([0-9]{1,3}) [0-9]{1,3}-[0-9]{1,4}$] ]]; then\n",
    "    if [[ $line =~ ^(\\([0-9]{1,3}\\) [0-9]{1,3}\\-[0-9]{1,4})$ ]]; then\n",
    "        echo \"$line\"\n",
    "    #elif [[ $line =~ ^[[-9]{1,3}-[-9]{1,3}-[-9]{1,4}$] ]]; then\n",
    "    elif [[ $line =~ ^([0-9]{1,3}\\-[0-9]{1,3}\\-[0-9]{1,4})$ ]]; then\n",
    "        echo \"$line\"\n",
    "    fi\n",
    "done < \"$FILE\""
   ]
  }
 ],
 "metadata": {
  "kernelspec": {
   "display_name": "Python 3",
   "language": "python",
   "name": "python3"
  },
  "language_info": {
   "codemirror_mode": {
    "name": "ipython",
    "version": 3
   },
   "file_extension": ".py",
   "mimetype": "text/x-python",
   "name": "python",
   "nbconvert_exporter": "python",
   "pygments_lexer": "ipython3",
   "version": "3.6.8"
  }
 },
 "nbformat": 4,
 "nbformat_minor": 2
}
