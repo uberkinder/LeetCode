{
 "cells": [
  {
   "cell_type": "markdown",
   "metadata": {},
   "source": [
    "https://leetcode.com/problems/minimum-moves-to-equal-array-elements-ii/"
   ]
  },
  {
   "cell_type": "code",
   "execution_count": 68,
   "metadata": {},
   "outputs": [],
   "source": [
    "import numpy as np"
   ]
  },
  {
   "cell_type": "markdown",
   "metadata": {},
   "source": [
    "# Baseline"
   ]
  },
  {
   "cell_type": "raw",
   "metadata": {},
   "source": [
    "Time Limit Exceeded\n",
    "26 / 29 test cases passed."
   ]
  },
  {
   "cell_type": "code",
   "execution_count": 163,
   "metadata": {},
   "outputs": [],
   "source": [
    "from collections import Counter\n",
    "\n",
    "class Solution:\n",
    "    def minMoves2(self, nums):\n",
    "        \n",
    "        n = len(nums)\n",
    "        \n",
    "        count = Counter(nums)\n",
    "        moves = None\n",
    "        level = None\n",
    "        \n",
    "        for key_ in count:\n",
    "            \n",
    "            moves_ = 0\n",
    "            for key, val in count.items():\n",
    "                moves_ += abs(key-key_)*val\n",
    "                if moves and moves_ > moves:\n",
    "                    break\n",
    "                \n",
    "            if not moves or moves_ < moves:\n",
    "                moves = moves_\n",
    "                level = key_\n",
    "        \n",
    "        return moves"
   ]
  },
  {
   "cell_type": "code",
   "execution_count": 164,
   "metadata": {},
   "outputs": [
    {
     "data": {
      "text/plain": [
       "619"
      ]
     },
     "execution_count": 164,
     "metadata": {},
     "output_type": "execute_result"
    }
   ],
   "source": [
    "nums = [3,1,2,2,4,2,5,19,329,4,52,0,123,2,4,53,6,3,6,4,43,6]\n",
    "Solution().minMoves2(nums)"
   ]
  },
  {
   "cell_type": "code",
   "execution_count": 165,
   "metadata": {},
   "outputs": [
    {
     "data": {
      "text/plain": [
       "19"
      ]
     },
     "execution_count": 165,
     "metadata": {},
     "output_type": "execute_result"
    }
   ],
   "source": [
    "nums = [3,0,6,2,4,7,0,0,1]\n",
    "Solution().minMoves2(nums)"
   ]
  },
  {
   "cell_type": "code",
   "execution_count": 166,
   "metadata": {},
   "outputs": [
    {
     "name": "stdout",
     "output_type": "stream",
     "text": [
      "CPU times: user 322 ms, sys: 2.12 ms, total: 324 ms\n",
      "Wall time: 324 ms\n"
     ]
    }
   ],
   "source": [
    "%%time\n",
    "\n",
    "nums = rstate.randint(1000, size=5000)\n",
    "Solution().minMoves2(nums)"
   ]
  },
  {
   "cell_type": "markdown",
   "metadata": {},
   "source": [
    "# Median"
   ]
  },
  {
   "cell_type": "raw",
   "metadata": {},
   "source": [
    "Runtime: 84 ms, faster than 89.88% of Python3 online submissions for Minimum Moves to Equal Array Elements II.\n",
    "Memory Usage: 15.2 MB, less than 50.00% of Python3 online submissions for Minimum Moves to Equal Array Elements II."
   ]
  },
  {
   "cell_type": "code",
   "execution_count": 177,
   "metadata": {},
   "outputs": [],
   "source": [
    "from collections import Counter\n",
    "\n",
    "class Solution:\n",
    "    def minMoves2(self, nums):\n",
    "        \n",
    "        n = len(nums)\n",
    "        is_odd = n % 2\n",
    "        count = Counter(nums)\n",
    "        count = sorted(Counter(nums).items(), key=lambda x: x[0], reverse=False)\n",
    "        \n",
    "        candidates = []\n",
    "        median = 0\n",
    "        cumsum = 0\n",
    "        \n",
    "        for i, (num, size) in enumerate(count):\n",
    "            if cumsum <= n // 2 <= cumsum+size:\n",
    "                candidates.append(num)\n",
    "            elif n // 2 < cumsum:\n",
    "                break\n",
    "            cumsum += size\n",
    "            \n",
    "        min_moves = n\n",
    "        \n",
    "        for num in candidates:\n",
    "            moves = 0\n",
    "            for key, val in count:\n",
    "                moves += abs(key-num)*val\n",
    "\n",
    "                if moves < min_moves:\n",
    "                    min_moves = moves\n",
    "\n",
    "        return min_moves"
   ]
  },
  {
   "cell_type": "code",
   "execution_count": 178,
   "metadata": {},
   "outputs": [
    {
     "data": {
      "text/plain": [
       "619"
      ]
     },
     "execution_count": 178,
     "metadata": {},
     "output_type": "execute_result"
    }
   ],
   "source": [
    "nums = [3,1,2,2,4,2,5,19,329,4,52,0,123,2,4,53,6,3,6,4,43,6]\n",
    "Solution().minMoves2(nums)"
   ]
  },
  {
   "cell_type": "code",
   "execution_count": 180,
   "metadata": {},
   "outputs": [
    {
     "data": {
      "text/plain": [
       "18"
      ]
     },
     "execution_count": 180,
     "metadata": {},
     "output_type": "execute_result"
    }
   ],
   "source": [
    "nums = [3,0,6,2,4,7,0,0]\n",
    "Solution().minMoves2(nums)"
   ]
  },
  {
   "cell_type": "code",
   "execution_count": 181,
   "metadata": {},
   "outputs": [
    {
     "name": "stdout",
     "output_type": "stream",
     "text": [
      "12449464\n",
      "CPU times: user 8.51 ms, sys: 633 µs, total: 9.15 ms\n",
      "Wall time: 8.62 ms\n"
     ]
    }
   ],
   "source": [
    "%%time\n",
    "\n",
    "rstate = np.random.RandomState(0)\n",
    "nums = rstate.randint(10000, size=5000)\n",
    "\n",
    "print(Solution().minMoves2(nums))"
   ]
  },
  {
   "cell_type": "code",
   "execution_count": 183,
   "metadata": {},
   "outputs": [
    {
     "name": "stdout",
     "output_type": "stream",
     "text": [
      "24846078\n",
      "CPU times: user 13.4 ms, sys: 1.4 ms, total: 14.8 ms\n",
      "Wall time: 13.8 ms\n"
     ]
    }
   ],
   "source": [
    "%%time\n",
    "\n",
    "rstate = np.random.RandomState(0)\n",
    "nums = rstate.randint(10000, size=10000)\n",
    "\n",
    "print(Solution().minMoves2(nums))"
   ]
  },
  {
   "cell_type": "markdown",
   "metadata": {},
   "source": [
    "# Median + Counter"
   ]
  },
  {
   "cell_type": "raw",
   "metadata": {},
   "source": [
    "Runtime: 84 ms, faster than 89.88% of Python3 online submissions for Minimum Moves to Equal Array Elements II.\n",
    "Memory Usage: 14 MB, less than 100.00% of Python3 online submissions for Minimum Moves to Equal Array Elements II."
   ]
  },
  {
   "cell_type": "code",
   "execution_count": 194,
   "metadata": {},
   "outputs": [],
   "source": [
    "from collections import Counter\n",
    "\n",
    "class Solution:\n",
    "    def minMoves2(self, nums):\n",
    "        \n",
    "        nums.sort()\n",
    "        \n",
    "        med = nums[len(nums)//2]\n",
    "        cnt = Counter(nums)\n",
    "        \n",
    "        moves = 0\n",
    "        \n",
    "        for num, size in cnt.items():\n",
    "            moves += abs(num-med)*size\n",
    "\n",
    "        return moves"
   ]
  },
  {
   "cell_type": "code",
   "execution_count": 198,
   "metadata": {},
   "outputs": [
    {
     "data": {
      "text/plain": [
       "619"
      ]
     },
     "execution_count": 198,
     "metadata": {},
     "output_type": "execute_result"
    }
   ],
   "source": [
    "nums = [3,1,2,2,4,2,5,19,329,4,52,0,123,2,4,53,6,3,6,4,43,6]\n",
    "Solution().minMoves2(nums)"
   ]
  },
  {
   "cell_type": "code",
   "execution_count": 199,
   "metadata": {},
   "outputs": [
    {
     "name": "stdout",
     "output_type": "stream",
     "text": [
      "12449464\n",
      "CPU times: user 3.37 ms, sys: 433 µs, total: 3.8 ms\n",
      "Wall time: 3.2 ms\n"
     ]
    }
   ],
   "source": [
    "%%time\n",
    "\n",
    "rstate = np.random.RandomState(0)\n",
    "nums = rstate.randint(10000, size=5000)\n",
    "\n",
    "print(Solution().minMoves2(nums))"
   ]
  },
  {
   "cell_type": "code",
   "execution_count": 200,
   "metadata": {},
   "outputs": [
    {
     "name": "stdout",
     "output_type": "stream",
     "text": [
      "24846078\n",
      "CPU times: user 5.51 ms, sys: 1.35 ms, total: 6.86 ms\n",
      "Wall time: 5.21 ms\n"
     ]
    }
   ],
   "source": [
    "%%time\n",
    "\n",
    "rstate = np.random.RandomState(0)\n",
    "nums = rstate.randint(10000, size=10000)\n",
    "\n",
    "print(Solution().minMoves2(nums))"
   ]
  },
  {
   "cell_type": "markdown",
   "metadata": {},
   "source": [
    "# No Counter"
   ]
  },
  {
   "cell_type": "raw",
   "metadata": {},
   "source": [
    "Runtime: 68 ms, faster than 99.80% of Python3 online submissions for Minimum Moves to Equal Array Elements II.\n",
    "Memory Usage: 14 MB, less than 100.00% of Python3 online submissions for Minimum Moves to Equal Array Elements II."
   ]
  },
  {
   "cell_type": "code",
   "execution_count": 204,
   "metadata": {},
   "outputs": [],
   "source": [
    "class Solution:\n",
    "    def minMoves2(self, nums):\n",
    "        \n",
    "        nums.sort()\n",
    "        med = nums[len(nums)//2]\n",
    "        \n",
    "        moves = 0\n",
    "        \n",
    "        for num in nums:\n",
    "            moves += abs(num-med)\n",
    "                \n",
    "        return moves"
   ]
  },
  {
   "cell_type": "code",
   "execution_count": 207,
   "metadata": {},
   "outputs": [
    {
     "name": "stdout",
     "output_type": "stream",
     "text": [
      "12449464\n",
      "CPU times: user 2.09 ms, sys: 375 µs, total: 2.46 ms\n",
      "Wall time: 1.89 ms\n"
     ]
    }
   ],
   "source": [
    "%%time\n",
    "\n",
    "rstate = np.random.RandomState(0)\n",
    "nums = rstate.randint(10000, size=5000)\n",
    "\n",
    "print(Solution().minMoves2(nums))"
   ]
  },
  {
   "cell_type": "code",
   "execution_count": 208,
   "metadata": {},
   "outputs": [
    {
     "name": "stdout",
     "output_type": "stream",
     "text": [
      "24846078\n",
      "CPU times: user 3.89 ms, sys: 1.22 ms, total: 5.1 ms\n",
      "Wall time: 3.56 ms\n"
     ]
    }
   ],
   "source": [
    "%%time\n",
    "\n",
    "rstate = np.random.RandomState(0)\n",
    "nums = rstate.randint(10000, size=10000)\n",
    "\n",
    "print(Solution().minMoves2(nums))"
   ]
  }
 ],
 "metadata": {
  "kernelspec": {
   "display_name": "Python 3",
   "language": "python",
   "name": "python3"
  },
  "language_info": {
   "codemirror_mode": {
    "name": "ipython",
    "version": 3
   },
   "file_extension": ".py",
   "mimetype": "text/x-python",
   "name": "python",
   "nbconvert_exporter": "python",
   "pygments_lexer": "ipython3",
   "version": "3.6.8"
  }
 },
 "nbformat": 4,
 "nbformat_minor": 2
}
