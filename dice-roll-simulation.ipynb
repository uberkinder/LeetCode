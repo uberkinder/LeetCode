{
 "cells": [
  {
   "cell_type": "markdown",
   "metadata": {},
   "source": [
    "https://leetcode.com/problems/dice-roll-simulation/"
   ]
  },
  {
   "cell_type": "raw",
   "metadata": {},
   "source": [
    "Runtime: 304 ms, faster than 86.78% of Python3 online submissions for Dice Roll Simulation.\n",
    "Memory Usage: 12.7 MB, less than 100.00% of Python3 online submissions for Dice Roll Simulation."
   ]
  },
  {
   "cell_type": "code",
   "execution_count": 72,
   "metadata": {},
   "outputs": [],
   "source": [
    "from functools import reduce\n",
    "\n",
    "\n",
    "class Solution:\n",
    "    \n",
    "    mod = 10**9 + 7\n",
    "    \n",
    "    def sumAB(self, a, b):\n",
    "        return (a + b) % self.mod\n",
    "    \n",
    "    def difAB(self, a, b):\n",
    "        return (a - b) % self.mod\n",
    "    \n",
    "    def sumList(self, arr):\n",
    "        return reduce(self.sumAB, arr, 0)\n",
    "    \n",
    "    def dieSimulator(self, n, rollMax):\n",
    "        \n",
    "        state = [[1] + [0]*(k-1) for k in rollMax]\n",
    "        \n",
    "        for _ in range(1, n):\n",
    "            \n",
    "            sums = list(map(self.sumList, state))\n",
    "            full = self.sumList(sums)\n",
    "            \n",
    "            difs = map(lambda x: self.difAB(full, x), sums)\n",
    "            \n",
    "            for s, d in zip(state, difs):\n",
    "                s.insert(0, d)\n",
    "                s.pop()\n",
    "        \n",
    "        return self.sumList(map(self.sumList, state))"
   ]
  },
  {
   "cell_type": "code",
   "execution_count": 73,
   "metadata": {},
   "outputs": [
    {
     "data": {
      "text/plain": [
       "181"
      ]
     },
     "execution_count": 73,
     "metadata": {},
     "output_type": "execute_result"
    }
   ],
   "source": [
    "Solution().dieSimulator(n=3, rollMax=[1,1,1,2,2,3])"
   ]
  }
 ],
 "metadata": {
  "kernelspec": {
   "display_name": "Python 3",
   "language": "python",
   "name": "python3"
  },
  "language_info": {
   "codemirror_mode": {
    "name": "ipython",
    "version": 3
   },
   "file_extension": ".py",
   "mimetype": "text/x-python",
   "name": "python",
   "nbconvert_exporter": "python",
   "pygments_lexer": "ipython3",
   "version": "3.6.8"
  }
 },
 "nbformat": 4,
 "nbformat_minor": 2
}
