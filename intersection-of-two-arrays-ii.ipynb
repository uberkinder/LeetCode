{
 "cells": [
  {
   "cell_type": "markdown",
   "metadata": {},
   "source": [
    "https://leetcode.com/problems/intersection-of-two-arrays-ii/"
   ]
  },
  {
   "cell_type": "raw",
   "metadata": {},
   "source": [
    "Runtime: 48 ms, faster than 97.68% of Python3 online submissions for Intersection of Two Arrays II.\n",
    "Memory Usage: 12.7 MB, less than 100.00% of Python3 online submissions for Intersection of Two Arrays II."
   ]
  },
  {
   "cell_type": "code",
   "execution_count": 10,
   "metadata": {},
   "outputs": [],
   "source": [
    "class Solution:\n",
    "    def intersect(self, nums1, nums2):\n",
    "        \n",
    "        nums1.sort()\n",
    "        nums2.sort()\n",
    "        \n",
    "        m, n = len(nums1), len(nums2)\n",
    "        i, j = 0, 0\n",
    "        \n",
    "        while i < m and j < n:\n",
    "            \n",
    "            if nums1[i] == nums2[j]:\n",
    "                yield nums1[i]\n",
    "                i += 1\n",
    "                j += 1\n",
    "                \n",
    "            elif nums1[i] < nums2[j]:\n",
    "                i += 1\n",
    "            \n",
    "            elif nums1[i] > nums2[j]:\n",
    "                j += 1"
   ]
  },
  {
   "cell_type": "code",
   "execution_count": 12,
   "metadata": {},
   "outputs": [
    {
     "data": {
      "text/plain": [
       "[2, 2]"
      ]
     },
     "execution_count": 12,
     "metadata": {},
     "output_type": "execute_result"
    }
   ],
   "source": [
    "nums1 = [1,2,2,1]\n",
    "nums2 = [2,2]\n",
    "\n",
    "list(Solution().intersect(nums1, nums2))"
   ]
  }
 ],
 "metadata": {
  "kernelspec": {
   "display_name": "Python 3",
   "language": "python",
   "name": "python3"
  },
  "language_info": {
   "codemirror_mode": {
    "name": "ipython",
    "version": 3
   },
   "file_extension": ".py",
   "mimetype": "text/x-python",
   "name": "python",
   "nbconvert_exporter": "python",
   "pygments_lexer": "ipython3",
   "version": "3.6.8"
  }
 },
 "nbformat": 4,
 "nbformat_minor": 2
}
