{
 "cells": [
  {
   "cell_type": "markdown",
   "metadata": {},
   "source": [
    "https://leetcode.com/problems/sort-array-by-parity-ii/"
   ]
  },
  {
   "cell_type": "code",
   "execution_count": 37,
   "metadata": {},
   "outputs": [],
   "source": [
    "%load_ext memory_profiler"
   ]
  },
  {
   "cell_type": "code",
   "execution_count": 34,
   "metadata": {},
   "outputs": [],
   "source": [
    "import numpy as np\n",
    "\n",
    "def get_arr(x_max=10000, N=100):\n",
    "    while True:\n",
    "        arr = np.random.randint(x_max, size=N)\n",
    "        if sum(arr % 2) == N // 2:\n",
    "            return list(arr)"
   ]
  },
  {
   "cell_type": "markdown",
   "metadata": {},
   "source": [
    "# Solution 1\n",
    "#### Speed 57%\n",
    "#### Space 9%"
   ]
  },
  {
   "cell_type": "code",
   "execution_count": 49,
   "metadata": {},
   "outputs": [],
   "source": [
    "from itertools import chain\n",
    "\n",
    "class Solution:\n",
    "    def sortArrayByParityII(self, A): \n",
    "        evens = []\n",
    "        odds = []\n",
    "        for x in A:\n",
    "            if x % 2:\n",
    "                odds.append(x)\n",
    "            else:\n",
    "                evens.append(x)\n",
    "        return chain(*[xy for xy in zip(evens, odds)])"
   ]
  },
  {
   "cell_type": "code",
   "execution_count": 50,
   "metadata": {},
   "outputs": [
    {
     "data": {
      "text/plain": [
       "[1254, 1267, 3572, 8887, 6664, 9437, 9364, 1035, 3468, 379]"
      ]
     },
     "execution_count": 50,
     "metadata": {},
     "output_type": "execute_result"
    }
   ],
   "source": [
    "list(Solution().sortArrayByParityII(get_arr(N=10)))"
   ]
  },
  {
   "cell_type": "code",
   "execution_count": 51,
   "metadata": {},
   "outputs": [
    {
     "name": "stdout",
     "output_type": "stream",
     "text": [
      "149 ms ± 43.1 ms per loop (mean ± std. dev. of 7 runs, 10 loops each)\n",
      "peak memory: 63.77 MiB, increment: 0.00 MiB\n"
     ]
    }
   ],
   "source": [
    "%timeit Solution().sortArrayByParityII(get_arr(N=10000))\n",
    "%memit Solution().sortArrayByParityII(get_arr(N=10000))"
   ]
  },
  {
   "cell_type": "markdown",
   "metadata": {},
   "source": [
    "# Solution 2\n",
    "#### Speed 11%\n",
    "#### Space 9%"
   ]
  },
  {
   "cell_type": "code",
   "execution_count": 56,
   "metadata": {},
   "outputs": [],
   "source": [
    "class Solution:\n",
    "    def sortArrayByParityII(self, A):\n",
    "        parity = False\n",
    "        for x in A: \n",
    "            if x % 2 == parity:\n",
    "                parity = not parity\n",
    "                yield x\n",
    "            else:\n",
    "                A.append(x)"
   ]
  },
  {
   "cell_type": "code",
   "execution_count": 57,
   "metadata": {},
   "outputs": [
    {
     "data": {
      "text/plain": [
       "[4368, 7315, 7466, 5785, 2118, 2103, 9252, 3839, 7150, 3765]"
      ]
     },
     "execution_count": 57,
     "metadata": {},
     "output_type": "execute_result"
    }
   ],
   "source": [
    "list(Solution().sortArrayByParityII(get_arr(N=10)))"
   ]
  },
  {
   "cell_type": "code",
   "execution_count": 58,
   "metadata": {},
   "outputs": [
    {
     "name": "stdout",
     "output_type": "stream",
     "text": [
      "133 ms ± 55.2 ms per loop (mean ± std. dev. of 7 runs, 10 loops each)\n",
      "peak memory: 63.52 MiB, increment: 0.00 MiB\n"
     ]
    }
   ],
   "source": [
    "%timeit Solution().sortArrayByParityII(get_arr(N=10000))\n",
    "%memit Solution().sortArrayByParityII(get_arr(N=10000))"
   ]
  },
  {
   "cell_type": "markdown",
   "metadata": {},
   "source": [
    "# Solution 3\n",
    "#### Speed 5%\n",
    "#### Space 9%"
   ]
  },
  {
   "cell_type": "code",
   "execution_count": 82,
   "metadata": {},
   "outputs": [],
   "source": [
    "class Solution:\n",
    "    def sortArrayByParityII(self, A):\n",
    "        i = 0\n",
    "        while i < len(A):\n",
    "            if A[i] % 2 != i % 2:\n",
    "                A.append(A.pop(i))\n",
    "            else:\n",
    "                i += 1\n",
    "        return A"
   ]
  },
  {
   "cell_type": "code",
   "execution_count": 83,
   "metadata": {},
   "outputs": [
    {
     "data": {
      "text/plain": [
       "[2246, 3087, 1834, 2735, 3578, 6585, 8370, 9321, 6246, 7637]"
      ]
     },
     "execution_count": 83,
     "metadata": {},
     "output_type": "execute_result"
    }
   ],
   "source": [
    "list(Solution().sortArrayByParityII(get_arr(N=10)))"
   ]
  },
  {
   "cell_type": "code",
   "execution_count": 84,
   "metadata": {},
   "outputs": [
    {
     "name": "stdout",
     "output_type": "stream",
     "text": [
      "The slowest run took 5.99 times longer than the fastest. This could mean that an intermediate result is being cached.\n",
      "155 ms ± 89.6 ms per loop (mean ± std. dev. of 7 runs, 1 loop each)\n",
      "peak memory: 63.53 MiB, increment: 0.00 MiB\n"
     ]
    }
   ],
   "source": [
    "%timeit Solution().sortArrayByParityII(get_arr(N=10000))\n",
    "%memit Solution().sortArrayByParityII(get_arr(N=10000))"
   ]
  },
  {
   "cell_type": "markdown",
   "metadata": {},
   "source": [
    "# Solution 4\n",
    "#### Speed 91%\n",
    "#### Space 9%\n",
    "<br>\n",
    "\n",
    "##### **A.pop()** is expensive operation"
   ]
  },
  {
   "cell_type": "code",
   "execution_count": 89,
   "metadata": {},
   "outputs": [],
   "source": [
    "class Solution:\n",
    "    def sortArrayByParityII(self, A):\n",
    "        j = 1\n",
    "        for i in range(0, len(A), 2):\n",
    "            if A[i] % 2:\n",
    "                while A[j] % 2:\n",
    "                    j += 2\n",
    "                A[i], A[j] = A[j], A[i]\n",
    "        return A"
   ]
  },
  {
   "cell_type": "code",
   "execution_count": 90,
   "metadata": {},
   "outputs": [
    {
     "data": {
      "text/plain": [
       "[4318, 8631, 4482, 3985, 5732, 5799, 2440, 5867, 6670, 6373]"
      ]
     },
     "execution_count": 90,
     "metadata": {},
     "output_type": "execute_result"
    }
   ],
   "source": [
    "list(Solution().sortArrayByParityII(get_arr(N=10)))"
   ]
  },
  {
   "cell_type": "code",
   "execution_count": 91,
   "metadata": {},
   "outputs": [
    {
     "name": "stdout",
     "output_type": "stream",
     "text": [
      "149 ms ± 42.6 ms per loop (mean ± std. dev. of 7 runs, 10 loops each)\n",
      "peak memory: 63.53 MiB, increment: 0.00 MiB\n"
     ]
    }
   ],
   "source": [
    "%timeit Solution().sortArrayByParityII(get_arr(N=10000))\n",
    "%memit Solution().sortArrayByParityII(get_arr(N=10000))"
   ]
  }
 ],
 "metadata": {
  "kernelspec": {
   "display_name": "Python 3",
   "language": "python",
   "name": "python3"
  },
  "language_info": {
   "codemirror_mode": {
    "name": "ipython",
    "version": 3
   },
   "file_extension": ".py",
   "mimetype": "text/x-python",
   "name": "python",
   "nbconvert_exporter": "python",
   "pygments_lexer": "ipython3",
   "version": "3.6.8"
  }
 },
 "nbformat": 4,
 "nbformat_minor": 2
}
