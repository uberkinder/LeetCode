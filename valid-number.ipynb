{
 "cells": [
  {
   "cell_type": "markdown",
   "metadata": {},
   "source": [
    "https://leetcode.com/problems/valid-number/"
   ]
  },
  {
   "cell_type": "code",
   "execution_count": 4,
   "metadata": {},
   "outputs": [],
   "source": [
    "class Solution:\n",
    "    def isNumber(self, s):\n",
    "        try:\n",
    "            float(s)\n",
    "            return True\n",
    "        except:\n",
    "            return False"
   ]
  },
  {
   "cell_type": "code",
   "execution_count": 7,
   "metadata": {},
   "outputs": [
    {
     "name": "stdout",
     "output_type": "stream",
     "text": [
      "True \t 0\n",
      "True \t  0.1 \n",
      "False \t abc\n",
      "False \t 1 a\n",
      "True \t 2e10\n",
      "True \t  -90e3   \n",
      "False \t  1e\n",
      "False \t e3\n",
      "True \t  6e-1\n",
      "False \t  99e2.5 \n",
      "True \t 53.5e93\n",
      "False \t  --6 \n",
      "False \t -+3\n",
      "False \t 95a54e53\n"
     ]
    }
   ],
   "source": [
    "examples = [\n",
    "    \"0\", #=> true\n",
    "    \" 0.1 \", #=> true\n",
    "    \"abc\", #=> false\n",
    "    \"1 a\", #=> false\n",
    "    \"2e10\", #=> true\n",
    "    \" -90e3   \", #=> true\n",
    "    \" 1e\", #=> false\n",
    "    \"e3\", #=> false\n",
    "    \" 6e-1\", #=> true\n",
    "    \" 99e2.5 \", #=> false\n",
    "    \"53.5e93\", #=> true\n",
    "    \" --6 \", #=> false\n",
    "    \"-+3\", #=> false\n",
    "    \"95a54e53\", #=> false\n",
    "]\n",
    "\n",
    "for example in examples:\n",
    "    print(Solution().isNumber(example), '\\t', example)"
   ]
  }
 ],
 "metadata": {
  "kernelspec": {
   "display_name": "Python 3",
   "language": "python",
   "name": "python3"
  },
  "language_info": {
   "codemirror_mode": {
    "name": "ipython",
    "version": 3
   },
   "file_extension": ".py",
   "mimetype": "text/x-python",
   "name": "python",
   "nbconvert_exporter": "python",
   "pygments_lexer": "ipython3",
   "version": "3.6.8"
  }
 },
 "nbformat": 4,
 "nbformat_minor": 2
}
