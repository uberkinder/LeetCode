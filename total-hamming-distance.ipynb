{
 "cells": [
  {
   "cell_type": "markdown",
   "metadata": {},
   "source": [
    "https://leetcode.com/problems/hamming-distance/"
   ]
  },
  {
   "cell_type": "code",
   "execution_count": 42,
   "metadata": {},
   "outputs": [
    {
     "name": "stdout",
     "output_type": "stream",
     "text": [
      "The memory_profiler extension is already loaded. To reload it, use:\n",
      "  %reload_ext memory_profiler\n"
     ]
    }
   ],
   "source": [
    "import numpy as np\n",
    "\n",
    "%load_ext memory_profiler"
   ]
  },
  {
   "cell_type": "markdown",
   "metadata": {},
   "source": [
    "# Solution 1\n",
    "#### Time Limit Exceeded"
   ]
  },
  {
   "cell_type": "code",
   "execution_count": 43,
   "metadata": {},
   "outputs": [],
   "source": [
    "from itertools import combinations\n",
    "\n",
    "def hamming_distance(x, y):\n",
    "    c = 0\n",
    "    while x or y:\n",
    "        c += x%2 != y%2\n",
    "        x >>= 1\n",
    "        y >>= 1        \n",
    "    return c\n",
    "\n",
    "class Solution:\n",
    "    def totalHammingDistance(self, arr):\n",
    "        c = 0\n",
    "        for x, y in combinations(arr, 2):\n",
    "            c += hamming_distance(x, y)\n",
    "        return c"
   ]
  },
  {
   "cell_type": "code",
   "execution_count": 44,
   "metadata": {},
   "outputs": [
    {
     "data": {
      "text/plain": [
       "6"
      ]
     },
     "execution_count": 44,
     "metadata": {},
     "output_type": "execute_result"
    }
   ],
   "source": [
    "Solution().totalHammingDistance([4, 14, 2])"
   ]
  },
  {
   "cell_type": "code",
   "execution_count": 47,
   "metadata": {},
   "outputs": [
    {
     "name": "stdout",
     "output_type": "stream",
     "text": [
      "129 ms ± 33.9 ms per loop (mean ± std. dev. of 7 runs, 10 loops each)\n",
      "peak memory: 60.45 MiB, increment: -0.00 MiB\n"
     ]
    }
   ],
   "source": [
    "%timeit Solution().totalHammingDistance(np.random.choice(10**9, np.random.randint(100)))\n",
    "%memit Solution().totalHammingDistance(np.random.choice(10**9, np.random.randint(100)))"
   ]
  },
  {
   "cell_type": "markdown",
   "metadata": {},
   "source": [
    "# Solution 2"
   ]
  },
  {
   "cell_type": "code",
   "execution_count": 48,
   "metadata": {},
   "outputs": [],
   "source": [
    "from functools import reduce\n",
    "import numpy as np\n",
    "\n",
    "class Solution:\n",
    "    def totalHammingDistance(self, arr):\n",
    "        \n",
    "        n = len(arr)\n",
    "        c = 0\n",
    "        \n",
    "        while np.any(arr):\n",
    "            p = reduce(lambda c, x: c + x%2, arr, 0)\n",
    "            arr = list(map(lambda x: x >> 1, arr))\n",
    "            c += p * (n - p)\n",
    "        \n",
    "        return c"
   ]
  },
  {
   "cell_type": "code",
   "execution_count": 49,
   "metadata": {},
   "outputs": [
    {
     "data": {
      "text/plain": [
       "6"
      ]
     },
     "execution_count": 49,
     "metadata": {},
     "output_type": "execute_result"
    }
   ],
   "source": [
    "Solution().totalHammingDistance([4, 14, 2])"
   ]
  },
  {
   "cell_type": "code",
   "execution_count": 50,
   "metadata": {},
   "outputs": [
    {
     "name": "stdout",
     "output_type": "stream",
     "text": [
      "1.16 ms ± 25.5 µs per loop (mean ± std. dev. of 7 runs, 1000 loops each)\n",
      "peak memory: 60.46 MiB, increment: 0.00 MiB\n"
     ]
    }
   ],
   "source": [
    "%timeit Solution().totalHammingDistance(np.random.choice(10**9, np.random.randint(100)))\n",
    "%memit Solution().totalHammingDistance(np.random.choice(10**9, np.random.randint(100)))"
   ]
  },
  {
   "cell_type": "code",
   "execution_count": 53,
   "metadata": {},
   "outputs": [
    {
     "name": "stdout",
     "output_type": "stream",
     "text": [
      "85.1 ms ± 18.1 ms per loop (mean ± std. dev. of 7 runs, 10 loops each)\n",
      "peak memory: 61.76 MiB, increment: -0.04 MiB\n"
     ]
    }
   ],
   "source": [
    "%timeit Solution().totalHammingDistance(np.random.choice(10**9, np.random.randint(10**4)))\n",
    "%memit Solution().totalHammingDistance(np.random.choice(10**9, np.random.randint(10**4)))"
   ]
  },
  {
   "cell_type": "markdown",
   "metadata": {},
   "source": [
    "# Solution 3"
   ]
  },
  {
   "cell_type": "code",
   "execution_count": 59,
   "metadata": {},
   "outputs": [],
   "source": [
    "class Solution:\n",
    "    def totalHammingDistance(self, nums):\n",
    "        return sum(b.count('0') * b.count('1') for b in zip(*map('{:032b}'.format, nums)))"
   ]
  },
  {
   "cell_type": "code",
   "execution_count": 60,
   "metadata": {},
   "outputs": [
    {
     "data": {
      "text/plain": [
       "6"
      ]
     },
     "execution_count": 60,
     "metadata": {},
     "output_type": "execute_result"
    }
   ],
   "source": [
    "Solution().totalHammingDistance([4, 14, 2])"
   ]
  },
  {
   "cell_type": "code",
   "execution_count": 62,
   "metadata": {},
   "outputs": [
    {
     "name": "stdout",
     "output_type": "stream",
     "text": [
      "8.97 ms ± 501 µs per loop (mean ± std. dev. of 7 runs, 100 loops each)\n",
      "peak memory: 62.03 MiB, increment: -0.73 MiB\n"
     ]
    }
   ],
   "source": [
    "%timeit Solution().totalHammingDistance(np.random.choice(10**9, np.random.randint(10**4)))\n",
    "%memit Solution().totalHammingDistance(np.random.choice(10**9, np.random.randint(10**4)))"
   ]
  },
  {
   "cell_type": "markdown",
   "metadata": {},
   "source": [
    "# Solution 4"
   ]
  },
  {
   "cell_type": "code",
   "execution_count": 66,
   "metadata": {},
   "outputs": [],
   "source": [
    "from functools import reduce\n",
    "\n",
    "class Solution:\n",
    "    def totalHammingDistance(self, nums):\n",
    "        return reduce(lambda s, b: s + b.count('0') * b.count('1'), zip(*map('{:032b}'.format, nums)), 0)"
   ]
  },
  {
   "cell_type": "code",
   "execution_count": 67,
   "metadata": {},
   "outputs": [
    {
     "data": {
      "text/plain": [
       "6"
      ]
     },
     "execution_count": 67,
     "metadata": {},
     "output_type": "execute_result"
    }
   ],
   "source": [
    "Solution().totalHammingDistance([4, 14, 2])"
   ]
  },
  {
   "cell_type": "code",
   "execution_count": 69,
   "metadata": {},
   "outputs": [
    {
     "name": "stdout",
     "output_type": "stream",
     "text": [
      "9.68 ms ± 223 µs per loop (mean ± std. dev. of 7 runs, 100 loops each)\n",
      "peak memory: 62.12 MiB, increment: -0.57 MiB\n"
     ]
    }
   ],
   "source": [
    "%timeit Solution().totalHammingDistance(np.random.choice(10**9, np.random.randint(10**4)))\n",
    "%memit Solution().totalHammingDistance(np.random.choice(10**9, np.random.randint(10**4)))"
   ]
  },
  {
   "cell_type": "markdown",
   "metadata": {},
   "source": [
    "# Solution 5"
   ]
  },
  {
   "cell_type": "code",
   "execution_count": 70,
   "metadata": {},
   "outputs": [],
   "source": [
    "f = lambda p, n: p*(n-p)\n",
    "\n",
    "class Solution:\n",
    "    def totalHammingDistance(self, nums):\n",
    "        n = len(nums)\n",
    "        return sum(f(b.count('1'), n) for b in zip(*map('{:032b}'.format, nums)))"
   ]
  },
  {
   "cell_type": "code",
   "execution_count": 71,
   "metadata": {},
   "outputs": [
    {
     "data": {
      "text/plain": [
       "6"
      ]
     },
     "execution_count": 71,
     "metadata": {},
     "output_type": "execute_result"
    }
   ],
   "source": [
    "Solution().totalHammingDistance([4, 14, 2])"
   ]
  },
  {
   "cell_type": "code",
   "execution_count": 72,
   "metadata": {},
   "outputs": [
    {
     "name": "stdout",
     "output_type": "stream",
     "text": [
      "7.64 ms ± 661 µs per loop (mean ± std. dev. of 7 runs, 100 loops each)\n",
      "peak memory: 61.69 MiB, increment: -0.62 MiB\n"
     ]
    }
   ],
   "source": [
    "%timeit Solution().totalHammingDistance(np.random.choice(10**9, np.random.randint(10**4)))\n",
    "%memit Solution().totalHammingDistance(np.random.choice(10**9, np.random.randint(10**4)))"
   ]
  },
  {
   "cell_type": "markdown",
   "metadata": {},
   "source": [
    "# Solution 6"
   ]
  },
  {
   "cell_type": "code",
   "execution_count": 73,
   "metadata": {},
   "outputs": [],
   "source": [
    "from functools import reduce\n",
    "\n",
    "f = lambda p, n: p*(n-p)\n",
    "\n",
    "class Solution:\n",
    "    def totalHammingDistance(self, nums):\n",
    "        n = len(nums)\n",
    "        return reduce(lambda s, b: s + f(b.count('1'), n), zip(*map('{:032b}'.format, nums)), 0)"
   ]
  },
  {
   "cell_type": "code",
   "execution_count": 74,
   "metadata": {},
   "outputs": [
    {
     "data": {
      "text/plain": [
       "6"
      ]
     },
     "execution_count": 74,
     "metadata": {},
     "output_type": "execute_result"
    }
   ],
   "source": [
    "Solution().totalHammingDistance([4, 14, 2])"
   ]
  },
  {
   "cell_type": "code",
   "execution_count": 75,
   "metadata": {},
   "outputs": [
    {
     "name": "stdout",
     "output_type": "stream",
     "text": [
      "7.67 ms ± 305 µs per loop (mean ± std. dev. of 7 runs, 100 loops each)\n",
      "peak memory: 62.33 MiB, increment: -0.09 MiB\n"
     ]
    }
   ],
   "source": [
    "%timeit Solution().totalHammingDistance(np.random.choice(10**9, np.random.randint(10**4)))\n",
    "%memit Solution().totalHammingDistance(np.random.choice(10**9, np.random.randint(10**4)))"
   ]
  }
 ],
 "metadata": {
  "kernelspec": {
   "display_name": "Python 3",
   "language": "python",
   "name": "python3"
  },
  "language_info": {
   "codemirror_mode": {
    "name": "ipython",
    "version": 3
   },
   "file_extension": ".py",
   "mimetype": "text/x-python",
   "name": "python",
   "nbconvert_exporter": "python",
   "pygments_lexer": "ipython3",
   "version": "3.6.8"
  }
 },
 "nbformat": 4,
 "nbformat_minor": 2
}
