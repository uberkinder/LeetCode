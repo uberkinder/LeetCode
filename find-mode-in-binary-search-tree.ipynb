{
 "cells": [
  {
   "cell_type": "markdown",
   "metadata": {},
   "source": [
    "https://leetcode.com/problems/find-mode-in-binary-search-tree/"
   ]
  },
  {
   "cell_type": "code",
   "execution_count": 29,
   "metadata": {},
   "outputs": [],
   "source": [
    "# Definition for a binary tree node.\n",
    "# class TreeNode:\n",
    "#     def __init__(self, x):\n",
    "#         self.val = x\n",
    "#         self.left = None\n",
    "#         self.right = None\n",
    "\n",
    "def dict_max_keys(d):\n",
    "    \n",
    "    max_keys = []\n",
    "    max_val = next(iter(d.values())) if d else None\n",
    "    \n",
    "    for key, val in d.items():\n",
    "        if val >= max_val:\n",
    "            if val > max_val:\n",
    "                max_keys = []\n",
    "            max_keys.append(key)\n",
    "            max_val = val\n",
    "    \n",
    "    return max_keys\n",
    "\n",
    "\n",
    "def merge_dicts(dicts):\n",
    "    result = {}\n",
    "    for d in dicts:\n",
    "        for key, val in d.items():\n",
    "            if key in result:\n",
    "                result[key] += val\n",
    "            else:\n",
    "                result[key] = val\n",
    "                \n",
    "    return result\n",
    "\n",
    "\n",
    "def aggregate(counter):\n",
    "    \n",
    "    result = {}\n",
    "    \n",
    "    if not counter:\n",
    "        return {}\n",
    "    \n",
    "    max_key = max(counter.keys())\n",
    "    min_key = min(counter.keys())\n",
    "    \n",
    "    result[max_key] = counter[max_key]\n",
    "    result[min_key] = counter[min_key]\n",
    "    \n",
    "    mode_keys = dict_max_keys(counter)\n",
    "    for key in mode_keys:\n",
    "        result[key] = counter[key]\n",
    "    \n",
    "    return result\n",
    "\n",
    "\n",
    "def bst_mode(root):\n",
    "    \n",
    "    if not root:\n",
    "        return {}\n",
    "    \n",
    "    counters = [{root.val: 1}]\n",
    "    \n",
    "    if root.left:\n",
    "        counters.append(bst_mode(root.left))\n",
    "    \n",
    "    if root.right:\n",
    "        counters.append(bst_mode(root.right))\n",
    "    \n",
    "    counter = merge_dicts(counters)\n",
    "    counter = aggregate(counter)\n",
    "    \n",
    "    return counter\n",
    "        \n",
    "\n",
    "class Solution:\n",
    "    def findMode(self, root):\n",
    "        return dict_max_keys(bst_mode(root))"
   ]
  },
  {
   "cell_type": "code",
   "execution_count": 30,
   "metadata": {},
   "outputs": [
    {
     "data": {
      "text/plain": [
       "[]"
      ]
     },
     "execution_count": 30,
     "metadata": {},
     "output_type": "execute_result"
    }
   ],
   "source": [
    "Solution().findMode(None)"
   ]
  }
 ],
 "metadata": {
  "kernelspec": {
   "display_name": "Python 3",
   "language": "python",
   "name": "python3"
  },
  "language_info": {
   "codemirror_mode": {
    "name": "ipython",
    "version": 3
   },
   "file_extension": ".py",
   "mimetype": "text/x-python",
   "name": "python",
   "nbconvert_exporter": "python",
   "pygments_lexer": "ipython3",
   "version": "3.6.8"
  }
 },
 "nbformat": 4,
 "nbformat_minor": 2
}
