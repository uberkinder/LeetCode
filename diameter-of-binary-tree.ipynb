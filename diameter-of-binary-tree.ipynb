{
 "cells": [
  {
   "cell_type": "markdown",
   "metadata": {},
   "source": [
    "https://leetcode.com/problems/diameter-of-binary-tree/"
   ]
  },
  {
   "cell_type": "code",
   "execution_count": 2,
   "metadata": {},
   "outputs": [],
   "source": [
    "# Definition for a binary tree node.\n",
    "# class TreeNode:\n",
    "#     def __init__(self, x):\n",
    "#         self.val = x\n",
    "#         self.left = None\n",
    "#         self.right = None\n",
    "\n",
    "def bst_rad_diam(root):\n",
    "    \n",
    "    if not root:\n",
    "        return 0, 0\n",
    "    \n",
    "    left = getattr(root, 'left', None)\n",
    "    left_rad, left_diam = bst_rad_diam(left)\n",
    "    left_rad = left_rad+1 if left else 0\n",
    "    \n",
    "    right = getattr(root, 'right', None)\n",
    "    right_rad, right_diam = bst_rad_diam(right)\n",
    "    right_rad = right_rad+1 if right else 0\n",
    "    \n",
    "    rad = max(left_rad, right_rad)\n",
    "    diam = max(left_rad+right_rad, left_diam, right_diam)\n",
    "    return rad, diam\n",
    "\n",
    "\n",
    "class Solution:\n",
    "    def diameterOfBinaryTree(self, root):\n",
    "        _, diam = bst_rad_diam(root)\n",
    "        return diam"
   ]
  }
 ],
 "metadata": {
  "kernelspec": {
   "display_name": "Python 3",
   "language": "python",
   "name": "python3"
  },
  "language_info": {
   "codemirror_mode": {
    "name": "ipython",
    "version": 3
   },
   "file_extension": ".py",
   "mimetype": "text/x-python",
   "name": "python",
   "nbconvert_exporter": "python",
   "pygments_lexer": "ipython3",
   "version": "3.6.8"
  }
 },
 "nbformat": 4,
 "nbformat_minor": 2
}
