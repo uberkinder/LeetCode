{
 "cells": [
  {
   "cell_type": "markdown",
   "metadata": {},
   "source": [
    "https://leetcode.com/problems/divide-two-integers/"
   ]
  },
  {
   "cell_type": "code",
   "execution_count": 23,
   "metadata": {},
   "outputs": [],
   "source": [
    "%load_ext memory_profiler"
   ]
  },
  {
   "cell_type": "markdown",
   "metadata": {},
   "source": [
    "# Solution 1"
   ]
  },
  {
   "cell_type": "code",
   "execution_count": 14,
   "metadata": {},
   "outputs": [],
   "source": [
    "class Solution:\n",
    "    def divide(self, A, B):\n",
    "        \n",
    "        s = (A < 0) != (B < 0)\n",
    "        A, B = abs(A), abs(B)\n",
    "        \n",
    "        x = 0\n",
    "        while A >= B:\n",
    "            B2 = B\n",
    "            t = 1\n",
    "            while A >= B2 + B2:\n",
    "                B2 += B2\n",
    "                t += t\n",
    "            A -= B2\n",
    "            x += t\n",
    "            \n",
    "        x = -x if s else x\n",
    "        return max(min(x, 2147483647), -2147483648)"
   ]
  },
  {
   "cell_type": "code",
   "execution_count": 56,
   "metadata": {},
   "outputs": [
    {
     "name": "stdout",
     "output_type": "stream",
     "text": [
      "8.27 µs ± 75 ns per loop (mean ± std. dev. of 7 runs, 100000 loops each)\n"
     ]
    }
   ],
   "source": [
    "%timeit Solution().divide(np.random.randint(2**31), np.random.randint(2**20))"
   ]
  },
  {
   "cell_type": "code",
   "execution_count": 57,
   "metadata": {},
   "outputs": [
    {
     "name": "stdout",
     "output_type": "stream",
     "text": [
      "peak memory: 58.43 MiB, increment: -0.23 MiB\n"
     ]
    }
   ],
   "source": [
    "%memit Solution().divide(np.random.randint(2**31), np.random.randint(2**20))"
   ]
  },
  {
   "cell_type": "markdown",
   "metadata": {},
   "source": [
    "# Solution 2"
   ]
  },
  {
   "cell_type": "code",
   "execution_count": 69,
   "metadata": {},
   "outputs": [],
   "source": [
    "class Solution:\n",
    "    def divide(self, A, B):\n",
    "        \n",
    "        s = (A < 0) != (B < 0)\n",
    "        A, B = abs(A), abs(B)\n",
    "        \n",
    "        x = int(np.exp(np.log(A) - np.log(B)))\n",
    "        x = -x if s else x\n",
    "        \n",
    "        return max(min(x, 2147483647), -2147483648)"
   ]
  },
  {
   "cell_type": "code",
   "execution_count": 72,
   "metadata": {},
   "outputs": [
    {
     "name": "stdout",
     "output_type": "stream",
     "text": [
      "7.66 µs ± 20.3 ns per loop (mean ± std. dev. of 7 runs, 100000 loops each)\n"
     ]
    }
   ],
   "source": [
    "%timeit Solution().divide(np.random.randint(2**31)+1, np.random.randint(2**20)+1)"
   ]
  },
  {
   "cell_type": "code",
   "execution_count": 73,
   "metadata": {},
   "outputs": [
    {
     "name": "stdout",
     "output_type": "stream",
     "text": [
      "peak memory: 58.67 MiB, increment: -0.07 MiB\n"
     ]
    }
   ],
   "source": [
    "%memit Solution().divide(np.random.randint(2**31), np.random.randint(2**20))"
   ]
  }
 ],
 "metadata": {
  "kernelspec": {
   "display_name": "Python 3",
   "language": "python",
   "name": "python3"
  },
  "language_info": {
   "codemirror_mode": {
    "name": "ipython",
    "version": 3
   },
   "file_extension": ".py",
   "mimetype": "text/x-python",
   "name": "python",
   "nbconvert_exporter": "python",
   "pygments_lexer": "ipython3",
   "version": "3.6.8"
  }
 },
 "nbformat": 4,
 "nbformat_minor": 2
}
