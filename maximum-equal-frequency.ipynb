{
 "cells": [
  {
   "cell_type": "markdown",
   "metadata": {},
   "source": [
    "https://leetcode.com/problems/maximum-equal-frequency/"
   ]
  },
  {
   "cell_type": "raw",
   "metadata": {},
   "source": [
    "Runtime: 704 ms, faster than 55.29% of Python3 online submissions for Maximum Equal Frequency.\n",
    "Memory Usage: 20.1 MB, less than 100.00% of Python3 online submissions for Maximum Equal Frequency."
   ]
  },
  {
   "cell_type": "code",
   "execution_count": 254,
   "metadata": {},
   "outputs": [],
   "source": [
    "from collections import defaultdict\n",
    "\n",
    "class Solution:\n",
    "    \n",
    "    def checkFreqFreq(self, ff):\n",
    "        \n",
    "        if len(ff) is 0:\n",
    "            return True\n",
    "                \n",
    "        if len(ff) is 1:\n",
    "            if next(iter(ff.keys())) is 1:\n",
    "                return True\n",
    "            if next(iter(ff.values())) is 1:\n",
    "                return True\n",
    "                \n",
    "        if len(ff) is 2:\n",
    "            if 1 in ff and ff[1] is 1:\n",
    "                return True\n",
    "            Min, Max = sorted(ff)\n",
    "            if Max - Min is 1 and ff[Max] is 1:\n",
    "                return True\n",
    "        \n",
    "        return False\n",
    "        \n",
    "    \n",
    "    def maxEqualFreq(self, nums):\n",
    "        \n",
    "        ans = 0\n",
    "        \n",
    "        freq = defaultdict(int)\n",
    "        freq_freq = defaultdict(int)\n",
    "        \n",
    "        for i, x in enumerate(nums):\n",
    "            \n",
    "            if freq[x] > 0:\n",
    "                freq_freq[freq[x]] -= 1\n",
    "                if not freq_freq[freq[x]]:\n",
    "                    del freq_freq[freq[x]]\n",
    "            \n",
    "            freq[x] += 1\n",
    "            freq_freq[freq[x]] += 1\n",
    "            \n",
    "            if self.checkFreqFreq(freq_freq):\n",
    "                ans = i + 1\n",
    "            \n",
    "        return ans"
   ]
  },
  {
   "cell_type": "code",
   "execution_count": 255,
   "metadata": {},
   "outputs": [
    {
     "data": {
      "text/plain": [
       "7"
      ]
     },
     "execution_count": 255,
     "metadata": {},
     "output_type": "execute_result"
    }
   ],
   "source": [
    "nums = [2,2,1,1,5,3,3,5]\n",
    "Solution().maxEqualFreq(nums) \n",
    "# 7"
   ]
  },
  {
   "cell_type": "code",
   "execution_count": 256,
   "metadata": {},
   "outputs": [
    {
     "data": {
      "text/plain": [
       "13"
      ]
     },
     "execution_count": 256,
     "metadata": {},
     "output_type": "execute_result"
    }
   ],
   "source": [
    "nums = [1,1,1,2,2,2,3,3,3,4,4,4,5]\n",
    "Solution().maxEqualFreq(nums) \n",
    "# 13"
   ]
  },
  {
   "cell_type": "code",
   "execution_count": 257,
   "metadata": {},
   "outputs": [
    {
     "data": {
      "text/plain": [
       "5"
      ]
     },
     "execution_count": 257,
     "metadata": {},
     "output_type": "execute_result"
    }
   ],
   "source": [
    "nums = [1,1,1,2,2,2]\n",
    "Solution().maxEqualFreq(nums) \n",
    "# 5"
   ]
  },
  {
   "cell_type": "code",
   "execution_count": 258,
   "metadata": {},
   "outputs": [
    {
     "data": {
      "text/plain": [
       "8"
      ]
     },
     "execution_count": 258,
     "metadata": {},
     "output_type": "execute_result"
    }
   ],
   "source": [
    "nums = [10,2,8,9,3,8,1,5,2,3,7,6]\n",
    "Solution().maxEqualFreq(nums) \n",
    "# 8"
   ]
  },
  {
   "cell_type": "code",
   "execution_count": 259,
   "metadata": {},
   "outputs": [
    {
     "data": {
      "text/plain": [
       "2"
      ]
     },
     "execution_count": 259,
     "metadata": {},
     "output_type": "execute_result"
    }
   ],
   "source": [
    "nums = [0,1]\n",
    "Solution().maxEqualFreq(nums) \n",
    "# 2"
   ]
  },
  {
   "cell_type": "code",
   "execution_count": 260,
   "metadata": {},
   "outputs": [
    {
     "data": {
      "text/plain": [
       "2"
      ]
     },
     "execution_count": 260,
     "metadata": {},
     "output_type": "execute_result"
    }
   ],
   "source": [
    "nums = [1,1]\n",
    "Solution().maxEqualFreq(nums) \n",
    "# 2"
   ]
  },
  {
   "cell_type": "code",
   "execution_count": 261,
   "metadata": {},
   "outputs": [
    {
     "data": {
      "text/plain": [
       "7"
      ]
     },
     "execution_count": 261,
     "metadata": {},
     "output_type": "execute_result"
    }
   ],
   "source": [
    "nums = [1,1,2,2,2,3,3,3,4,4,4,5,5,5,6,6,6,7,7,7,8,8,8,42,21,45,27,78,39,78,24,47,60,22,33,45,18,56,91,93,66,79,65,43,7,57,63,74,25,11,14,100,95,19,3,22,18,94,52,91,33,95,16,93,63,65,8,88,51,47,7,51,77,36,48,89,72,81,75,13,69,9,31,16,38,34,76,7,82,10,90,64,28,22,99,40,88,27,94,85,43,75,95,86,82,46,9,74,67,51,93,97,35,2,49]\n",
    "Solution().maxEqualFreq(nums) \n",
    "# 7"
   ]
  }
 ],
 "metadata": {
  "kernelspec": {
   "display_name": "Python 3",
   "language": "python",
   "name": "python3"
  },
  "language_info": {
   "codemirror_mode": {
    "name": "ipython",
    "version": 3
   },
   "file_extension": ".py",
   "mimetype": "text/x-python",
   "name": "python",
   "nbconvert_exporter": "python",
   "pygments_lexer": "ipython3",
   "version": "3.6.8"
  }
 },
 "nbformat": 4,
 "nbformat_minor": 2
}
