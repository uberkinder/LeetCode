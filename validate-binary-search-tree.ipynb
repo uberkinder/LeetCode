{
 "cells": [
  {
   "cell_type": "markdown",
   "metadata": {},
   "source": [
    "https://leetcode.com/problems/validate-binary-search-tree/"
   ]
  },
  {
   "cell_type": "markdown",
   "metadata": {},
   "source": [
    "# Solution"
   ]
  },
  {
   "cell_type": "code",
   "execution_count": 22,
   "metadata": {},
   "outputs": [],
   "source": [
    "# Definition for a binary tree node.\n",
    "# class TreeNode:\n",
    "#     def __init__(self, x):\n",
    "#         self.val = x\n",
    "#         self.left = None\n",
    "#         self.right = None\n",
    "def check_bst(root):\n",
    "    \n",
    "    if not root:\n",
    "        return True, True\n",
    "    \n",
    "    if not root.left:\n",
    "        root_min = root.val\n",
    "    else:\n",
    "        left_min, left_max = check_bst(root.left)\n",
    "        if left_min is False or left_max is False:\n",
    "            return False, False\n",
    "        if left_max < root.val:\n",
    "            root_min = left_min\n",
    "        else:\n",
    "            root_min = False\n",
    "        \n",
    "    if not root.right:\n",
    "        root_max = root.val\n",
    "    else:\n",
    "        right_min, right_max = check_bst(root.right)\n",
    "        if right_min is False or right_max is False:\n",
    "            return False, False\n",
    "        if right_min > root.val:\n",
    "            root_max = right_max\n",
    "        else:\n",
    "            root_max = False\n",
    "    \n",
    "    if root_min is False or root_max is False:\n",
    "        return False, False\n",
    "    else:\n",
    "        return root_min, root_max\n",
    "\n",
    "class Solution:\n",
    "    def isValidBST(self, root):\n",
    "        root_min, root_max = check_bst(root)\n",
    "        if root_min is False or root_max is False:\n",
    "            return False\n",
    "        else:\n",
    "            return True"
   ]
  },
  {
   "cell_type": "code",
   "execution_count": 21,
   "metadata": {},
   "outputs": [
    {
     "data": {
      "text/plain": [
       "False"
      ]
     },
     "execution_count": 21,
     "metadata": {},
     "output_type": "execute_result"
    }
   ],
   "source": [
    "class TreeNode:\n",
    "     def __init__(self, x):\n",
    "         self.val = x\n",
    "         self.left = None\n",
    "         self.right = None\n",
    "        \n",
    "bst = TreeNode(-29)\n",
    "bst.right = TreeNode(37)\n",
    "bst.right.left = TreeNode(49)\n",
    "bst.right.right = TreeNode(93)\n",
    "\n",
    "Solution().isValidBST(bst)"
   ]
  }
 ],
 "metadata": {
  "kernelspec": {
   "display_name": "Python 3",
   "language": "python",
   "name": "python3"
  },
  "language_info": {
   "codemirror_mode": {
    "name": "ipython",
    "version": 3
   },
   "file_extension": ".py",
   "mimetype": "text/x-python",
   "name": "python",
   "nbconvert_exporter": "python",
   "pygments_lexer": "ipython3",
   "version": "3.6.8"
  }
 },
 "nbformat": 4,
 "nbformat_minor": 2
}
