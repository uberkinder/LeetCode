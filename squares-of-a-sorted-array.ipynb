{
 "cells": [
  {
   "cell_type": "markdown",
   "metadata": {},
   "source": [
    "https://leetcode.com/problems/squares-of-a-sorted-array/"
   ]
  },
  {
   "cell_type": "code",
   "execution_count": 107,
   "metadata": {},
   "outputs": [
    {
     "name": "stdout",
     "output_type": "stream",
     "text": [
      "The memory_profiler extension is already loaded. To reload it, use:\n",
      "  %reload_ext memory_profiler\n"
     ]
    }
   ],
   "source": [
    "import numpy as np\n",
    "\n",
    "def get_arr(N=100000, max_abs=100, random_state=0):\n",
    "    rstate = np.random.RandomState(random_state)\n",
    "    return list(np.sort((rstate.randint(2*max_abs, size=N)-max_abs)))\n",
    "\n",
    "%load_ext memory_profiler"
   ]
  },
  {
   "cell_type": "markdown",
   "metadata": {},
   "source": [
    "# Solution 1\n",
    "#### Time: 35%\n",
    "#### Space: 80%"
   ]
  },
  {
   "cell_type": "code",
   "execution_count": 108,
   "metadata": {},
   "outputs": [],
   "source": [
    "class Solution:   \n",
    "    \n",
    "    def get_next_square(self, iterator):\n",
    "        try:\n",
    "            x = next(iterator)\n",
    "            return x*x\n",
    "        except:\n",
    "            return -1\n",
    "        \n",
    "    def sortedSquares(self, A):\n",
    "        \n",
    "        for i, x in enumerate(A):\n",
    "            if x > 0: break\n",
    "               \n",
    "        x_iter = iter(A[:i][::-1])\n",
    "        y_iter = iter(A[i:])\n",
    "        \n",
    "        x = self.get_next_square(x_iter)\n",
    "        y = self.get_next_square(y_iter)\n",
    "        \n",
    "        while x >= 0 or y >= 0:\n",
    "            \n",
    "            if x >= 0 and y >= 0:\n",
    "                if x < y:\n",
    "                    yield x\n",
    "                    x = self.get_next_square(x_iter)\n",
    "                else:\n",
    "                    yield y\n",
    "                    y = self.get_next_square(y_iter)\n",
    "            \n",
    "            elif x < 0:\n",
    "                yield y\n",
    "                y = self.get_next_square(y_iter)\n",
    "                \n",
    "            elif y < 0:\n",
    "                yield x\n",
    "                x = self.get_next_square(x_iter)"
   ]
  },
  {
   "cell_type": "code",
   "execution_count": 109,
   "metadata": {},
   "outputs": [
    {
     "name": "stdout",
     "output_type": "stream",
     "text": [
      "8.52 ms ± 100 µs per loop (mean ± std. dev. of 7 runs, 100 loops each)\n",
      "peak memory: 74.11 MiB, increment: -0.01 MiB\n"
     ]
    }
   ],
   "source": [
    "%timeit Solution().sortedSquares(get_arr())\n",
    "%memit Solution().sortedSquares(get_arr())"
   ]
  },
  {
   "cell_type": "markdown",
   "metadata": {},
   "source": [
    "# Solution 2\n",
    "#### Time: 97%\n",
    "#### Space: 6%"
   ]
  },
  {
   "cell_type": "code",
   "execution_count": 110,
   "metadata": {},
   "outputs": [],
   "source": [
    "class Solution:\n",
    "    def sortedSquares(self, A):\n",
    "        return sorted(x*x for x in A)"
   ]
  },
  {
   "cell_type": "code",
   "execution_count": 111,
   "metadata": {},
   "outputs": [
    {
     "name": "stdout",
     "output_type": "stream",
     "text": [
      "23.7 ms ± 240 µs per loop (mean ± std. dev. of 7 runs, 10 loops each)\n",
      "peak memory: 76.67 MiB, increment: 1.75 MiB\n"
     ]
    }
   ],
   "source": [
    "%timeit Solution().sortedSquares(get_arr())\n",
    "%memit Solution().sortedSquares(get_arr())"
   ]
  },
  {
   "cell_type": "markdown",
   "metadata": {},
   "source": [
    "# Solution 3\n",
    "#### Time: 87%\n",
    "#### Space: 55%"
   ]
  },
  {
   "cell_type": "code",
   "execution_count": 112,
   "metadata": {},
   "outputs": [],
   "source": [
    "class Solution:\n",
    "        \n",
    "    def sortedSquares(self, A):\n",
    "        \n",
    "        n = len(A)\n",
    "        \n",
    "        for j, x in enumerate(A):\n",
    "            if x > 0: break\n",
    "        \n",
    "        i = j-1\n",
    "        \n",
    "        while 0 <= i and j < n:\n",
    "            \n",
    "            if -A[i] < A[j]:\n",
    "                yield A[i]**2\n",
    "                i -= 1\n",
    "            else:\n",
    "                yield A[j]**2\n",
    "                j += 1\n",
    "        \n",
    "        while 0 <= i:\n",
    "            yield A[i]**2\n",
    "            i -= 1\n",
    "        \n",
    "        while j < n:\n",
    "            yield A[j]**2\n",
    "            j += 1"
   ]
  },
  {
   "cell_type": "code",
   "execution_count": 113,
   "metadata": {},
   "outputs": [
    {
     "name": "stdout",
     "output_type": "stream",
     "text": [
      "8.81 ms ± 309 µs per loop (mean ± std. dev. of 7 runs, 100 loops each)\n",
      "peak memory: 74.66 MiB, increment: -0.07 MiB\n"
     ]
    }
   ],
   "source": [
    "%timeit Solution().sortedSquares(get_arr())\n",
    "%memit Solution().sortedSquares(get_arr())"
   ]
  },
  {
   "cell_type": "markdown",
   "metadata": {},
   "source": [
    "# Solution 4\n",
    "#### Time: 56%\n",
    "#### Space: 71%"
   ]
  },
  {
   "cell_type": "code",
   "execution_count": 133,
   "metadata": {},
   "outputs": [],
   "source": [
    "class Solution:\n",
    "    \n",
    "    def get_next(self, iterator):\n",
    "        try:\n",
    "            x = next(iterator)\n",
    "            return x*x\n",
    "        except:\n",
    "            return -1\n",
    "        \n",
    "    def sortedSquares(self, A):\n",
    "        \n",
    "        for i in range(len(A)):\n",
    "            if A[i] > 0: break\n",
    "                \n",
    "        x_iter = iter(A[:i][::-1])\n",
    "        y_iter = iter(A[i:])\n",
    "        \n",
    "        x = self.get_next(x_iter)\n",
    "        y = self.get_next(y_iter)\n",
    "        \n",
    "        while x > -1 and y > -1:\n",
    "            \n",
    "            if x < y:\n",
    "                yield x\n",
    "                x = self.get_next(x_iter)\n",
    "            else:\n",
    "                yield y\n",
    "                y = self.get_next(y_iter)\n",
    "        \n",
    "        while x > -1:\n",
    "            yield x\n",
    "            x = self.get_next(x_iter)\n",
    "        \n",
    "        while y > -1:\n",
    "            yield y\n",
    "            y = self.get_next(y_iter)"
   ]
  },
  {
   "cell_type": "code",
   "execution_count": 134,
   "metadata": {},
   "outputs": [
    {
     "name": "stdout",
     "output_type": "stream",
     "text": [
      "8.34 ms ± 56.9 µs per loop (mean ± std. dev. of 7 runs, 100 loops each)\n",
      "peak memory: 70.33 MiB, increment: -0.00 MiB\n"
     ]
    }
   ],
   "source": [
    "%timeit Solution().sortedSquares(get_arr())\n",
    "%memit Solution().sortedSquares(get_arr())"
   ]
  }
 ],
 "metadata": {
  "kernelspec": {
   "display_name": "Python 3",
   "language": "python",
   "name": "python3"
  },
  "language_info": {
   "codemirror_mode": {
    "name": "ipython",
    "version": 3
   },
   "file_extension": ".py",
   "mimetype": "text/x-python",
   "name": "python",
   "nbconvert_exporter": "python",
   "pygments_lexer": "ipython3",
   "version": "3.6.8"
  }
 },
 "nbformat": 4,
 "nbformat_minor": 2
}
