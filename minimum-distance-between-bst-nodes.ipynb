{
 "cells": [
  {
   "cell_type": "markdown",
   "metadata": {},
   "source": [
    "https://leetcode.com/problems/minimum-distance-between-bst-nodes/"
   ]
  },
  {
   "cell_type": "code",
   "execution_count": 5,
   "metadata": {},
   "outputs": [],
   "source": [
    "class TreeNode:\n",
    "    def __init__(self, x):\n",
    "        self.val = x\n",
    "        self.left = None\n",
    "        self.right = None"
   ]
  },
  {
   "cell_type": "markdown",
   "metadata": {},
   "source": [
    "# Solution 1"
   ]
  },
  {
   "cell_type": "code",
   "execution_count": 3,
   "metadata": {},
   "outputs": [],
   "source": [
    "def nanmin(*args):\n",
    "    min_arg = None\n",
    "    for arg in args:\n",
    "        if (arg is not None) and (min_arg is None or arg < min_arg):\n",
    "            min_arg = arg\n",
    "    return min_arg\n",
    "\n",
    "\n",
    "def bst_minabs(root):\n",
    "    \n",
    "    if not root:\n",
    "        return None, None, None\n",
    "    \n",
    "    left_min, left_minabs, left_max = bst_minabs(root.left)\n",
    "    right_min, right_minabs, right_max = bst_minabs(root.right)\n",
    "    \n",
    "    root_minabs = nanmin(left_minabs, \n",
    "                         right_minabs, \n",
    "                         root.val-left_max if left_max is not None else None, \n",
    "                         right_min-root.val if right_min is not None else None)\n",
    "    \n",
    "    left_min = left_min if left_min is not None else root.val\n",
    "    right_max = right_max if right_max is not None else root.val\n",
    "    \n",
    "    return left_min, root_minabs, right_max\n",
    "        \n",
    "\n",
    "class Solution:\n",
    "    def minDiffInBST(self, root):\n",
    "        return bst_minabs(root)[1]"
   ]
  },
  {
   "cell_type": "code",
   "execution_count": 6,
   "metadata": {},
   "outputs": [
    {
     "data": {
      "text/plain": [
       "2"
      ]
     },
     "execution_count": 6,
     "metadata": {},
     "output_type": "execute_result"
    }
   ],
   "source": [
    "root = TreeNode(10)\n",
    "root.left = TreeNode(5)\n",
    "root.left.left = TreeNode(2)\n",
    "root.left.right = TreeNode(8)\n",
    "root.right = TreeNode(20)\n",
    "root.right.right = TreeNode(30)\n",
    "\n",
    "Solution().minDiffInBST(root)"
   ]
  },
  {
   "cell_type": "code",
   "execution_count": 7,
   "metadata": {},
   "outputs": [
    {
     "data": {
      "text/plain": [
       "(2, 3, 8)"
      ]
     },
     "execution_count": 7,
     "metadata": {},
     "output_type": "execute_result"
    }
   ],
   "source": [
    "bst_minabs(root.left)"
   ]
  }
 ],
 "metadata": {
  "kernelspec": {
   "display_name": "Python 3",
   "language": "python",
   "name": "python3"
  },
  "language_info": {
   "codemirror_mode": {
    "name": "ipython",
    "version": 3
   },
   "file_extension": ".py",
   "mimetype": "text/x-python",
   "name": "python",
   "nbconvert_exporter": "python",
   "pygments_lexer": "ipython3",
   "version": "3.6.8"
  }
 },
 "nbformat": 4,
 "nbformat_minor": 2
}
