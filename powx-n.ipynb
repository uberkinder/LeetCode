{
 "cells": [
  {
   "cell_type": "markdown",
   "metadata": {},
   "source": [
    "https://leetcode.com/problems/powx-n/"
   ]
  },
  {
   "cell_type": "code",
   "execution_count": 5,
   "metadata": {},
   "outputs": [],
   "source": [
    "import numpy as np"
   ]
  },
  {
   "cell_type": "markdown",
   "metadata": {},
   "source": [
    "# Baseline"
   ]
  },
  {
   "cell_type": "raw",
   "metadata": {},
   "source": [
    "291 / 304 test cases passed."
   ]
  },
  {
   "cell_type": "code",
   "execution_count": 46,
   "metadata": {},
   "outputs": [],
   "source": [
    "import decimal\n",
    "decimal.getcontext().prec = 128\n",
    "\n",
    "class Solution:\n",
    "    def myPow(self, x, n):\n",
    "        ans = decimal.Decimal(1.0)\n",
    "        x = decimal.Decimal(x)\n",
    "        for _ in range(n):\n",
    "            ans *= x\n",
    "        for _ in range(0, n, -1):\n",
    "            ans /= x\n",
    "        return ans"
   ]
  },
  {
   "cell_type": "code",
   "execution_count": 47,
   "metadata": {},
   "outputs": [
    {
     "data": {
      "text/plain": [
       "Decimal('9')"
      ]
     },
     "execution_count": 47,
     "metadata": {},
     "output_type": "execute_result"
    }
   ],
   "source": [
    "x = 3.0\n",
    "n = 2\n",
    "\n",
    "Solution().myPow(x, n)"
   ]
  },
  {
   "cell_type": "code",
   "execution_count": 45,
   "metadata": {},
   "outputs": [
    {
     "data": {
      "text/plain": [
       "Decimal('0.25')"
      ]
     },
     "execution_count": 45,
     "metadata": {},
     "output_type": "execute_result"
    }
   ],
   "source": [
    "x = 2.0\n",
    "n = -2\n",
    "\n",
    "Solution().myPow(x, n)"
   ]
  },
  {
   "cell_type": "code",
   "execution_count": 71,
   "metadata": {},
   "outputs": [
    {
     "name": "stdout",
     "output_type": "stream",
     "text": [
      "3.6348228592620952856174603784455637384567840652793081904947818580866509456455277667811528333708841716022135760566695561070653504E-623\n",
      "CPU times: user 115 µs, sys: 30 µs, total: 145 µs\n",
      "Wall time: 128 µs\n"
     ]
    }
   ],
   "source": [
    "%%time\n",
    "\n",
    "rstate = np.random.RandomState(0)\n",
    "\n",
    "x = rstate.rand()*200-100\n",
    "n = -rstate.randint(2**10)\n",
    "\n",
    "print(Solution().myPow(x, n))"
   ]
  },
  {
   "cell_type": "markdown",
   "metadata": {},
   "source": [
    "# Fast Power"
   ]
  },
  {
   "cell_type": "raw",
   "metadata": {},
   "source": [
    "Runtime: 24 ms, faster than 98.18% of Python3 online submissions for Pow(x, n).\n",
    "Memory Usage: 12.8 MB, less than 100.00% of Python3 online submissions for Pow(x, n)."
   ]
  },
  {
   "cell_type": "code",
   "execution_count": 90,
   "metadata": {},
   "outputs": [],
   "source": [
    "import decimal\n",
    "decimal.getcontext().prec = 64\n",
    "\n",
    "class Solution:\n",
    "    def myPow(self, x, n):\n",
    "        \n",
    "        x = decimal.Decimal(x)\n",
    "        \n",
    "        if n < 0:\n",
    "            return self.myPow(1/x, -n)\n",
    "        \n",
    "        elif n == 0:\n",
    "            return 1.0\n",
    "        \n",
    "        elif n == 1:\n",
    "            return x\n",
    "        \n",
    "        elif n % 2:\n",
    "            return self.myPow(x*x, n // 2) * x\n",
    "        \n",
    "        else:\n",
    "            return self.myPow(x*x, n // 2)"
   ]
  },
  {
   "cell_type": "code",
   "execution_count": 92,
   "metadata": {},
   "outputs": [
    {
     "data": {
      "text/plain": [
       "Decimal('243')"
      ]
     },
     "execution_count": 92,
     "metadata": {},
     "output_type": "execute_result"
    }
   ],
   "source": [
    "x = 3.0\n",
    "n = 5\n",
    "\n",
    "Solution().myPow(x, n)"
   ]
  },
  {
   "cell_type": "code",
   "execution_count": 91,
   "metadata": {},
   "outputs": [
    {
     "name": "stdout",
     "output_type": "stream",
     "text": [
      "CPU times: user 62 µs, sys: 9 µs, total: 71 µs\n",
      "Wall time: 66.3 µs\n"
     ]
    }
   ],
   "source": [
    "%%time\n",
    "\n",
    "rstate = np.random.RandomState(0)\n",
    "\n",
    "x = rstate.rand()*200-100\n",
    "n = -rstate.randint(2**10)\n",
    "\n",
    "Solution().myPow(x, n)"
   ]
  }
 ],
 "metadata": {
  "kernelspec": {
   "display_name": "Python 3",
   "language": "python",
   "name": "python3"
  },
  "language_info": {
   "codemirror_mode": {
    "name": "ipython",
    "version": 3
   },
   "file_extension": ".py",
   "mimetype": "text/x-python",
   "name": "python",
   "nbconvert_exporter": "python",
   "pygments_lexer": "ipython3",
   "version": "3.6.8"
  }
 },
 "nbformat": 4,
 "nbformat_minor": 2
}
