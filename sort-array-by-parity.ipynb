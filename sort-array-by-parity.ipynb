{
 "cells": [
  {
   "cell_type": "markdown",
   "metadata": {},
   "source": [
    "https://leetcode.com/problems/sort-array-by-parity/"
   ]
  },
  {
   "cell_type": "code",
   "execution_count": 2,
   "metadata": {},
   "outputs": [],
   "source": [
    "%load_ext memory_profiler"
   ]
  },
  {
   "cell_type": "code",
   "execution_count": 1,
   "metadata": {},
   "outputs": [],
   "source": [
    "import numpy as np\n",
    "\n",
    "def get_arr(x_max=10000, N=100):\n",
    "    while True:\n",
    "        arr = np.random.randint(x_max, size=N)\n",
    "        if sum(arr % 2) == N // 2:\n",
    "            return list(arr)"
   ]
  },
  {
   "cell_type": "markdown",
   "metadata": {},
   "source": [
    "# Solution 1\n",
    "#### Speed 28%\n",
    "#### Space 5%"
   ]
  },
  {
   "cell_type": "code",
   "execution_count": 10,
   "metadata": {},
   "outputs": [],
   "source": [
    "from itertools import chain\n",
    "\n",
    "class Solution:\n",
    "    def sortArrayByParity(self, A): \n",
    "        evens = []\n",
    "        odds = []\n",
    "        for x in A:\n",
    "            if x % 2: odds.append(x)\n",
    "            else: evens.append(x)\n",
    "        return evens + odds"
   ]
  },
  {
   "cell_type": "code",
   "execution_count": 13,
   "metadata": {},
   "outputs": [
    {
     "data": {
      "text/plain": [
       "[7856, 6496, 5314, 4456, 7744, 9227, 9419, 1003, 809, 8453]"
      ]
     },
     "execution_count": 13,
     "metadata": {},
     "output_type": "execute_result"
    }
   ],
   "source": [
    "list(Solution().sortArrayByParity(get_arr(N=10)))"
   ]
  },
  {
   "cell_type": "code",
   "execution_count": 14,
   "metadata": {},
   "outputs": [
    {
     "name": "stdout",
     "output_type": "stream",
     "text": [
      "The slowest run took 13.35 times longer than the fastest. This could mean that an intermediate result is being cached.\n",
      "227 ms ± 191 ms per loop (mean ± std. dev. of 7 runs, 1 loop each)\n",
      "peak memory: 59.82 MiB, increment: -0.04 MiB\n"
     ]
    }
   ],
   "source": [
    "%timeit Solution().sortArrayByParity(get_arr(N=10000))\n",
    "%memit Solution().sortArrayByParity(get_arr(N=10000))"
   ]
  },
  {
   "cell_type": "markdown",
   "metadata": {},
   "source": [
    "# Solution 2\n",
    "#### Speed 84%\n",
    "#### Space 5%"
   ]
  },
  {
   "cell_type": "code",
   "execution_count": 186,
   "metadata": {},
   "outputs": [],
   "source": [
    "class Solution:\n",
    "    def sortArrayByParity(self, A):\n",
    "\n",
    "        for x in A: \n",
    "            if not x % 2: yield x\n",
    "                \n",
    "        for x in A: \n",
    "            if x % 2: yield x"
   ]
  },
  {
   "cell_type": "code",
   "execution_count": 187,
   "metadata": {},
   "outputs": [
    {
     "data": {
      "text/plain": [
       "[9044, 7370, 7128, 1616, 6772, 5427, 5499, 3579, 6755, 591]"
      ]
     },
     "execution_count": 187,
     "metadata": {},
     "output_type": "execute_result"
    }
   ],
   "source": [
    "list(Solution().sortArrayByParity(get_arr(N=10)))"
   ]
  },
  {
   "cell_type": "code",
   "execution_count": 188,
   "metadata": {},
   "outputs": [
    {
     "name": "stdout",
     "output_type": "stream",
     "text": [
      "130 ms ± 31.3 ms per loop (mean ± std. dev. of 7 runs, 10 loops each)\n",
      "peak memory: 60.55 MiB, increment: 0.00 MiB\n"
     ]
    }
   ],
   "source": [
    "%timeit Solution().sortArrayByParity(get_arr(N=10000))\n",
    "%memit Solution().sortArrayByParity(get_arr(N=10000))"
   ]
  },
  {
   "cell_type": "markdown",
   "metadata": {},
   "source": [
    "# Solution 3\n",
    "#### Speed 17%\n",
    "#### Space 5%"
   ]
  },
  {
   "cell_type": "code",
   "execution_count": 182,
   "metadata": {},
   "outputs": [],
   "source": [
    "class Solution:\n",
    "    def sortArrayByParity(self, A):\n",
    "        j = len(A)-1\n",
    "        for i in range(0, j):\n",
    "            if A[i] % 2:\n",
    "                for j in range(j, i, -1):\n",
    "                    if not A[j] % 2: break\n",
    "                A[i], A[j] = A[j], A[i]\n",
    "        return A"
   ]
  },
  {
   "cell_type": "code",
   "execution_count": 184,
   "metadata": {},
   "outputs": [
    {
     "data": {
      "text/plain": [
       "[464, 2722, 6384, 5148, 1558, 9357, 8289, 3469, 373, 9037]"
      ]
     },
     "execution_count": 184,
     "metadata": {},
     "output_type": "execute_result"
    }
   ],
   "source": [
    "list(Solution().sortArrayByParity(get_arr(N=10)))"
   ]
  },
  {
   "cell_type": "code",
   "execution_count": 185,
   "metadata": {},
   "outputs": [
    {
     "name": "stdout",
     "output_type": "stream",
     "text": [
      "148 ms ± 23.2 ms per loop (mean ± std. dev. of 7 runs, 10 loops each)\n",
      "peak memory: 60.55 MiB, increment: 0.00 MiB\n"
     ]
    }
   ],
   "source": [
    "%timeit Solution().sortArrayByParity(get_arr(N=10000))\n",
    "%memit Solution().sortArrayByParity(get_arr(N=10000))"
   ]
  },
  {
   "cell_type": "markdown",
   "metadata": {},
   "source": [
    "# Solution 4\n",
    "#### Speed 59%\n",
    "#### Space 5%"
   ]
  },
  {
   "cell_type": "code",
   "execution_count": 3,
   "metadata": {},
   "outputs": [],
   "source": [
    "class Solution:\n",
    "    def sortArrayByParity(self, A):\n",
    "        A.sort(key = lambda x: x % 2)\n",
    "        return A"
   ]
  },
  {
   "cell_type": "code",
   "execution_count": 4,
   "metadata": {},
   "outputs": [
    {
     "data": {
      "text/plain": [
       "[8282, 7880, 4336, 2644, 4544, 2971, 7089, 6983, 4053, 8149]"
      ]
     },
     "execution_count": 4,
     "metadata": {},
     "output_type": "execute_result"
    }
   ],
   "source": [
    "list(Solution().sortArrayByParity(get_arr(N=10)))"
   ]
  },
  {
   "cell_type": "code",
   "execution_count": 5,
   "metadata": {},
   "outputs": [
    {
     "name": "stdout",
     "output_type": "stream",
     "text": [
      "156 ms ± 26.7 ms per loop (mean ± std. dev. of 7 runs, 10 loops each)\n",
      "peak memory: 59.09 MiB, increment: -0.50 MiB\n"
     ]
    }
   ],
   "source": [
    "%timeit Solution().sortArrayByParity(get_arr(N=10000))\n",
    "%memit Solution().sortArrayByParity(get_arr(N=10000))"
   ]
  },
  {
   "cell_type": "markdown",
   "metadata": {},
   "source": [
    "# Solution 5\n",
    "#### Speed 59%\n",
    "#### Space 5%"
   ]
  },
  {
   "cell_type": "code",
   "execution_count": 6,
   "metadata": {},
   "outputs": [],
   "source": [
    "class Solution:\n",
    "    def sortArrayByParity(self, A):\n",
    "        return ([x for x in A if not x % 2] + [x for x in A if x % 2])"
   ]
  },
  {
   "cell_type": "code",
   "execution_count": 7,
   "metadata": {},
   "outputs": [
    {
     "data": {
      "text/plain": [
       "[1286, 4820, 2482, 4294, 9112, 5107, 6683, 9067, 8721, 5615]"
      ]
     },
     "execution_count": 7,
     "metadata": {},
     "output_type": "execute_result"
    }
   ],
   "source": [
    "list(Solution().sortArrayByParity(get_arr(N=10)))"
   ]
  },
  {
   "cell_type": "code",
   "execution_count": 8,
   "metadata": {},
   "outputs": [
    {
     "name": "stdout",
     "output_type": "stream",
     "text": [
      "The slowest run took 18.17 times longer than the fastest. This could mean that an intermediate result is being cached.\n",
      "264 ms ± 212 ms per loop (mean ± std. dev. of 7 runs, 1 loop each)\n",
      "peak memory: 59.25 MiB, increment: 0.00 MiB\n"
     ]
    }
   ],
   "source": [
    "%timeit Solution().sortArrayByParity(get_arr(N=10000))\n",
    "%memit Solution().sortArrayByParity(get_arr(N=10000))"
   ]
  },
  {
   "cell_type": "markdown",
   "metadata": {},
   "source": [
    "# Solution 6\n",
    "#### Speed 84%\n",
    "#### Space 5%"
   ]
  },
  {
   "cell_type": "code",
   "execution_count": 9,
   "metadata": {},
   "outputs": [],
   "source": [
    "class Solution:\n",
    "    def sortArrayByParity(self, A):\n",
    "        \n",
    "        i, j = 0, len(A) - 1\n",
    "        \n",
    "        while i < j:\n",
    "            if A[i] % 2 > A[j] % 2:\n",
    "                A[i], A[j] = A[j], A[i]\n",
    "\n",
    "            if not A[i] % 2: i += 1\n",
    "            if A[j] % 2: j -= 1\n",
    "\n",
    "        return A"
   ]
  },
  {
   "cell_type": "code",
   "execution_count": 10,
   "metadata": {},
   "outputs": [
    {
     "data": {
      "text/plain": [
       "[6746, 1936, 8916, 1594, 2108, 379, 583, 983, 9635, 6633]"
      ]
     },
     "execution_count": 10,
     "metadata": {},
     "output_type": "execute_result"
    }
   ],
   "source": [
    "list(Solution().sortArrayByParity(get_arr(N=10)))"
   ]
  },
  {
   "cell_type": "code",
   "execution_count": 11,
   "metadata": {},
   "outputs": [
    {
     "name": "stdout",
     "output_type": "stream",
     "text": [
      "The slowest run took 18.88 times longer than the fastest. This could mean that an intermediate result is being cached.\n",
      "209 ms ± 188 ms per loop (mean ± std. dev. of 7 runs, 1 loop each)\n",
      "peak memory: 59.03 MiB, increment: 0.00 MiB\n"
     ]
    }
   ],
   "source": [
    "%timeit Solution().sortArrayByParity(get_arr(N=10000))\n",
    "%memit Solution().sortArrayByParity(get_arr(N=10000))"
   ]
  }
 ],
 "metadata": {
  "kernelspec": {
   "display_name": "Python 3",
   "language": "python",
   "name": "python3"
  },
  "language_info": {
   "codemirror_mode": {
    "name": "ipython",
    "version": 3
   },
   "file_extension": ".py",
   "mimetype": "text/x-python",
   "name": "python",
   "nbconvert_exporter": "python",
   "pygments_lexer": "ipython3",
   "version": "3.6.8"
  }
 },
 "nbformat": 4,
 "nbformat_minor": 2
}
