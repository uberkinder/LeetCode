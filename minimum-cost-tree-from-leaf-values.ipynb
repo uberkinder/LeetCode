{
 "cells": [
  {
   "cell_type": "markdown",
   "metadata": {},
   "source": [
    "https://leetcode.com/problems/minimum-cost-tree-from-leaf-values/"
   ]
  },
  {
   "cell_type": "code",
   "execution_count": 35,
   "metadata": {},
   "outputs": [],
   "source": [
    "class Solution:\n",
    "    def mctFromLeafValues(self, arr):\n",
    "        \n",
    "        arr_sum = 0\n",
    "        \n",
    "        while len(arr) > 1:\n",
    "            min_pair = arr[0], arr[1]\n",
    "            min_mul = min_pair[0] * min_pair[1]\n",
    "            min_idx = 0\n",
    "\n",
    "            for i in range(len(arr)-1):\n",
    "                pair = arr[i], arr[i+1]\n",
    "                mul = pair[0] * pair[1]\n",
    "\n",
    "                if mul < min_mul:\n",
    "                    min_pair = pair\n",
    "                    min_mul = mul\n",
    "                    min_idx = i\n",
    "\n",
    "            arr.pop(min_idx)\n",
    "            arr.pop(min_idx)\n",
    "            arr.insert(min_idx, max(min_pair))\n",
    "            arr_sum += min_mul\n",
    "\n",
    "        return arr_sum"
   ]
  },
  {
   "cell_type": "code",
   "execution_count": 36,
   "metadata": {},
   "outputs": [
    {
     "data": {
      "text/plain": [
       "32"
      ]
     },
     "execution_count": 36,
     "metadata": {},
     "output_type": "execute_result"
    }
   ],
   "source": [
    "arr = [6,2,4]\n",
    "Solution().mctFromLeafValues(arr)"
   ]
  }
 ],
 "metadata": {
  "kernelspec": {
   "display_name": "Python 3",
   "language": "python",
   "name": "python3"
  },
  "language_info": {
   "codemirror_mode": {
    "name": "ipython",
    "version": 3
   },
   "file_extension": ".py",
   "mimetype": "text/x-python",
   "name": "python",
   "nbconvert_exporter": "python",
   "pygments_lexer": "ipython3",
   "version": "3.6.8"
  }
 },
 "nbformat": 4,
 "nbformat_minor": 2
}
