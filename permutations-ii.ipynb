{
 "cells": [
  {
   "cell_type": "markdown",
   "metadata": {},
   "source": [
    "https://leetcode.com/problems/permutations-ii/"
   ]
  },
  {
   "cell_type": "code",
   "execution_count": 1,
   "metadata": {},
   "outputs": [],
   "source": [
    "%load_ext memory_profiler"
   ]
  },
  {
   "cell_type": "markdown",
   "metadata": {},
   "source": [
    "# Solution 1"
   ]
  },
  {
   "cell_type": "code",
   "execution_count": 172,
   "metadata": {},
   "outputs": [],
   "source": [
    "from itertools import chain, combinations\n",
    "from collections import Counter\n",
    "\n",
    "\n",
    "def expand_counter(counter):\n",
    "    return list(chain(*[[num]*k for num, k in counter.items()]))\n",
    "\n",
    "\n",
    "def unique_permutations(nums, counter=None):\n",
    "    \n",
    "    if counter is None:\n",
    "        counter = Counter(nums)\n",
    "    \n",
    "    if len(counter) == 1:\n",
    "        yield nums\n",
    "    \n",
    "    # select first unique value, permute others\n",
    "    # paste selected value in all possible places\n",
    "    num, k = next(iter(counter.items()))\n",
    "    del counter[num]\n",
    "        \n",
    "    x_nums = expand_counter(counter)\n",
    "    combs = list(combinations(range(len(nums)), k))\n",
    "    \n",
    "    for permutation in unique_permutations(x_nums, counter):\n",
    "        for inds in combs:\n",
    "            l = list(permutation)\n",
    "            for i in inds:\n",
    "                l.insert(i, num)\n",
    "            yield l\n",
    "\n",
    "\n",
    "class Solution:\n",
    "    \n",
    "    def permuteUnique(self, nums):\n",
    "        return list(unique_permutations(nums))"
   ]
  },
  {
   "cell_type": "code",
   "execution_count": 173,
   "metadata": {},
   "outputs": [
    {
     "name": "stdout",
     "output_type": "stream",
     "text": [
      "31.1 µs ± 1.35 µs per loop (mean ± std. dev. of 7 runs, 10000 loops each)\n"
     ]
    }
   ],
   "source": [
    "%timeit list(Solution().permuteUnique(np.random.choice(3, 8)))"
   ]
  },
  {
   "cell_type": "code",
   "execution_count": 174,
   "metadata": {},
   "outputs": [
    {
     "name": "stdout",
     "output_type": "stream",
     "text": [
      "peak memory: 77.39 MiB, increment: 0.00 MiB\n"
     ]
    }
   ],
   "source": [
    "%memit list(Solution().permuteUnique(np.random.choice(3, 8)))"
   ]
  }
 ],
 "metadata": {
  "kernelspec": {
   "display_name": "Python 3",
   "language": "python",
   "name": "python3"
  },
  "language_info": {
   "codemirror_mode": {
    "name": "ipython",
    "version": 3
   },
   "file_extension": ".py",
   "mimetype": "text/x-python",
   "name": "python",
   "nbconvert_exporter": "python",
   "pygments_lexer": "ipython3",
   "version": "3.6.8"
  }
 },
 "nbformat": 4,
 "nbformat_minor": 2
}
